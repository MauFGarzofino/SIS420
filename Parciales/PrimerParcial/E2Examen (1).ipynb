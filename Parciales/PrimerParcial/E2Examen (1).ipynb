{
  "nbformat": 4,
  "nbformat_minor": 0,
  "metadata": {
    "colab": {
      "provenance": []
    },
    "kernelspec": {
      "name": "python3",
      "display_name": "Python 3"
    },
    "language_info": {
      "name": "python"
    }
  },
  "cells": [
    {
      "cell_type": "markdown",
      "source": [
        "#### Preparación y Carga de Datos"
      ],
      "metadata": {
        "id": "mPmsHTiGCKW6"
      }
    },
    {
      "cell_type": "code",
      "source": [
        "from google.colab import drive\n",
        "drive.mount('/content/drive')"
      ],
      "metadata": {
        "colab": {
          "base_uri": "https://localhost:8080/"
        },
        "id": "_OwA9gLsDEFS",
        "outputId": "450400a3-caf4-429c-b6de-d34853dbf9ae"
      },
      "execution_count": 10,
      "outputs": [
        {
          "output_type": "stream",
          "name": "stdout",
          "text": [
            "Drive already mounted at /content/drive; to attempt to forcibly remount, call drive.mount(\"/content/drive\", force_remount=True).\n"
          ]
        }
      ]
    },
    {
      "cell_type": "markdown",
      "source": [
        "Separamos las características (X) de la variable objetivo (y). Las características incluyen aspectos como la elevación, aspecto, pendiente, distancia a cuerpos de agua, entre otros. La variable objetivo es el tipo de cobertura arbórea."
      ],
      "metadata": {
        "id": "0j7LQm4LWc99"
      }
    },
    {
      "cell_type": "code",
      "execution_count": 9,
      "metadata": {
        "id": "Tg79ICKuA_wP"
      },
      "outputs": [],
      "source": [
        "import pandas as pd\n",
        "import numpy as np\n",
        "from matplotlib import pyplot\n",
        "from scipy import optimize\n",
        "%matplotlib inline\n",
        "\n",
        "# Cargar el dataset\n",
        "df = pd.read_csv('/content/drive/MyDrive/datasets/covtype.csv')\n",
        "\n",
        "X = df.drop('Cover_Type', axis=1).values  # .values para convertir a numpy array\n",
        "y = df['Cover_Type'].values"
      ]
    },
    {
      "cell_type": "markdown",
      "source": [
        "Implementamos la función sigmoide, que es fundamental para la regresión logística, ya que transforma valores a un rango entre 0 y 1, representando probabilidades."
      ],
      "metadata": {
        "id": "5S-Zp_ZnWoSq"
      }
    },
    {
      "cell_type": "code",
      "source": [
        "def calcularSigmoide(z):\n",
        "    # Calcula la sigmoide de z.\n",
        "    return 1.0 / (1.0 + np.exp(-z))"
      ],
      "metadata": {
        "id": "JzM3M5DYBrya"
      },
      "execution_count": 11,
      "outputs": []
    },
    {
      "cell_type": "markdown",
      "source": [
        "La función de costo y gradiente evalúa el rendimiento del modelo y calcula el gradiente de la función de costo; permitiendo la optimización de los parámetros del modelo.\n"
      ],
      "metadata": {
        "id": "w1tgKB3RWudp"
      }
    },
    {
      "cell_type": "code",
      "source": [
        "def calcularCosto(theta, X, y, lambda_):\n",
        "    # Inicializa algunos valores utiles\n",
        "    m = y.size\n",
        "\n",
        "    # convierte las etiquetas a valores enteros si son boleanos\n",
        "    if y.dtype == bool:\n",
        "        y = y.astype(int)\n",
        "\n",
        "    J = 0\n",
        "    grad = np.zeros(theta.shape)\n",
        "\n",
        "    h = calcularSigmoide(X.dot(theta.T))\n",
        "\n",
        "    temp = theta\n",
        "    temp[0] = 0\n",
        "\n",
        "    J = (1 / m) * np.sum(-y.dot(np.log(h)) - (1 - y).dot(np.log(1 - h))) + (lambda_ / (2 * m)) * np.sum(np.square(temp))\n",
        "\n",
        "    grad = (1 / m) * (h - y).dot(X)\n",
        "    # Se aplica regularizacion en la siguiente linea\n",
        "    grad = grad + (lambda_ / m) * temp\n",
        "\n",
        "    return J, grad"
      ],
      "metadata": {
        "id": "nfnxySxWEVEx"
      },
      "execution_count": 12,
      "outputs": []
    },
    {
      "cell_type": "code",
      "source": [
        "# valores de prueba para los parámetros theta\n",
        "theta_t = np.array([-2, -1, 1, 2], dtype=float)\n",
        "\n",
        "# valores de prueba para las entradas\n",
        "X_t = np.concatenate((np.ones((5, 1)), np.arange(1, 16).reshape(5, 3, order='F')/10.0), axis=1)\n",
        "print(X_t)\n",
        "# valores de testeo para las etiquetas\n",
        "y_t = np.array([1, 0, 1, 0, 1])\n",
        "\n",
        "# valores de testeo para el parametro de regularizacion\n",
        "lambda_t = 3"
      ],
      "metadata": {
        "colab": {
          "base_uri": "https://localhost:8080/"
        },
        "id": "dH8ASgezEXBO",
        "outputId": "dc772290-0c08-4573-d470-1774446a2125"
      },
      "execution_count": 13,
      "outputs": [
        {
          "output_type": "stream",
          "name": "stdout",
          "text": [
            "[[1.  0.1 0.6 1.1]\n",
            " [1.  0.2 0.7 1.2]\n",
            " [1.  0.3 0.8 1.3]\n",
            " [1.  0.4 0.9 1.4]\n",
            " [1.  0.5 1.  1.5]]\n"
          ]
        }
      ]
    },
    {
      "cell_type": "code",
      "source": [
        "J, grad = calcularCosto(theta_t, X_t, y_t, lambda_t)\n",
        "\n",
        "print('Costo         : {:.6f}'.format(J))\n",
        "print('Costo esperadot: 2.534819')\n",
        "print('-----------------------')\n",
        "print('Gradientes:')\n",
        "print(' [{:.6f}, {:.6f}, {:.6f}, {:.6f}]'.format(*grad))\n",
        "print('Gradientes esperados:')\n",
        "print(' [0.146561, -0.548558, 0.724722, 1.398003]');"
      ],
      "metadata": {
        "colab": {
          "base_uri": "https://localhost:8080/"
        },
        "id": "5n3TH9GXEbUf",
        "outputId": "b6b91ecc-f7c3-4ded-958e-afa9a0b334eb"
      },
      "execution_count": 14,
      "outputs": [
        {
          "output_type": "stream",
          "name": "stdout",
          "text": [
            "Costo         : 2.534819\n",
            "Costo esperadot: 2.534819\n",
            "-----------------------\n",
            "Gradientes:\n",
            " [0.146561, -0.548558, 0.724722, 1.398003]\n",
            "Gradientes esperados:\n",
            " [0.146561, -0.548558, 0.724722, 1.398003]\n"
          ]
        }
      ]
    },
    {
      "cell_type": "markdown",
      "source": [
        "Para manejar la clasificación multiclase, utilizamos la estrategia One-vs-All, entrenando un clasificador binario por cada clase. Cada clasificador predice la probabilidad de que una observación pertenezca a su clase en contraposición a todas las demás clases.\n",
        "\n",
        "\n",
        "Esta función ajusta un modelo para cada tipo de cobertura arbórea, utilizando minimización de la función de costo con regularización. La regularización ayuda a prevenir el sobreajuste.\n"
      ],
      "metadata": {
        "id": "IXS-02ExW8R4"
      }
    },
    {
      "cell_type": "code",
      "source": [
        "def oneVsAll(X, y, num_labels, lambda_):\n",
        "    # Añadir columna de unos a X\n",
        "    m, n = X.shape\n",
        "    X = np.concatenate([np.ones((m, 1)), X], axis=1)\n",
        "    all_theta = np.zeros((num_labels, n + 1))\n",
        "\n",
        "    # Entrenar un clasificador por etiqueta\n",
        "    for c in np.arange(1, num_labels + 1):\n",
        "        initial_theta = np.zeros(n + 1)\n",
        "        options = {'maxiter': 50}\n",
        "        res = optimize.minimize(calcularCosto,\n",
        "                                initial_theta,\n",
        "                                (X, (y == c), lambda_),\n",
        "                                jac=True,\n",
        "                                method='TNC',\n",
        "                                options=options)\n",
        "        all_theta[c-1] = res.x\n",
        "    return all_theta\n",
        "\n",
        "# Número de etiquetas\n",
        "num_labels = np.unique(y).size\n",
        "\n",
        "# Entrenar el modelo\n",
        "lambda_ = 0.1\n",
        "all_theta = oneVsAll(X, y, num_labels, lambda_)\n"
      ],
      "metadata": {
        "colab": {
          "base_uri": "https://localhost:8080/"
        },
        "id": "Yz3N496OEgDh",
        "outputId": "e684a457-bd51-41ad-c716-8cfffba3e16f"
      },
      "execution_count": 15,
      "outputs": [
        {
          "output_type": "stream",
          "name": "stderr",
          "text": [
            "<ipython-input-15-054be94e5663>:11: OptimizeWarning: Unknown solver options: maxiter\n",
            "  res = optimize.minimize(calcularCosto,\n",
            "<ipython-input-11-b4b3dba6631b>:4: RuntimeWarning: overflow encountered in exp\n",
            "  return 1.0 / (1.0 + np.exp(-z))\n",
            "<ipython-input-12-d22e4f31dd79>:17: RuntimeWarning: divide by zero encountered in log\n",
            "  J = (1 / m) * np.sum(-y.dot(np.log(h)) - (1 - y).dot(np.log(1 - h))) + (lambda_ / (2 * m)) * np.sum(np.square(temp))\n"
          ]
        }
      ]
    },
    {
      "cell_type": "markdown",
      "source": [
        "Finalmente, realizamos predicciones en el conjunto de datos utilizando los modelos entrenados y evaluamos la precisión del clasificador. La precisión se calcula como el porcentaje de predicciones correctas sobre el total de predicciones realizadas.\n"
      ],
      "metadata": {
        "id": "krHk03_PXPNl"
      }
    },
    {
      "cell_type": "code",
      "source": [
        "def predictOneVsAll(all_theta, X):\n",
        "    m = X.shape[0]\n",
        "    X = np.concatenate([np.ones((m, 1)), X], axis=1)\n",
        "    p = np.argmax(calcularSigmoide(X.dot(all_theta.T)), axis=1) + 1\n",
        "    return p\n",
        "\n",
        "# Predecir y calcular la precisión\n",
        "pred = predictOneVsAll(all_theta, X)\n",
        "print('Precisión del conjunto de entrenamiento: {:.2f}%'.format(np.mean(pred == y) * 100))\n"
      ],
      "metadata": {
        "colab": {
          "base_uri": "https://localhost:8080/"
        },
        "id": "ySgoGaPpKBkq",
        "outputId": "666d2836-a79d-40e8-f7d5-6885d773495c"
      },
      "execution_count": 16,
      "outputs": [
        {
          "output_type": "stream",
          "name": "stdout",
          "text": [
            "Precisión del conjunto de entrenamiento: 71.24%\n"
          ]
        }
      ]
    }
  ]
}