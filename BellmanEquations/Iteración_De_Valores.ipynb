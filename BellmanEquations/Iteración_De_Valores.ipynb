{
  "nbformat": 4,
  "nbformat_minor": 0,
  "metadata": {
    "colab": {
      "provenance": []
    },
    "kernelspec": {
      "name": "python3",
      "display_name": "Python 3"
    },
    "language_info": {
      "name": "python"
    }
  },
  "cells": [
    {
      "cell_type": "markdown",
      "source": [
        "# Iteración de Valores en Frozen Lake\n",
        "\n",
        "## Introducción\n",
        "\n",
        "La iteración de valores es un algoritmo de programación dinámica utilizado en problemas de decisión secuenciales para encontrar la política óptima que maximiza la recompensa acumulada a largo plazo. Este método se basa en la ecuación de Bellman, que descompone el problema en subproblemas más pequeños, facilitando la búsqueda de la solución óptima."
      ],
      "metadata": {
        "id": "c4FL7Us7GHVy"
      }
    },
    {
      "cell_type": "markdown",
      "source": [
        "### Ecuación de Bellman\n",
        "\n",
        "La ecuación de Bellman para el valor de un estado \\( V(s) \\) en un problema de decisión secuencial se define como:\n",
        "\n",
        "$$\n",
        "[ V(s) = \\max_a \\sum_{s'} P(s'|s,a) \\left[ R(s, a, s') + \\gamma V(s') \\right] ]\n",
        "$$\n",
        "\n",
        "Donde:\n",
        "- $( V(s) )$: Valor del estado $( s )$.\n",
        "\n",
        "- $( a )$: Acción.\n",
        "\n",
        "- $( P(s'|s,a) )$: Probabilidad de transitar al estado $( s' )$ desde el estado $( s )$ tomando la acción $( a )$.\n",
        "\n",
        "- $( R(s, a, s') )$: Recompensa inmediata recibida después de transitar del estado $( s )$ al estado $( s' )$ tomando la acción $( a )$.\n",
        "\n",
        "- $( \\gamma )$: Factor de descuento, que determina la importancia de las recompensas futuras.\n",
        "\n",
        "### Diferencias con la Ecuación Simplificada\n",
        "\n",
        "Anteriormente utilizamos una versión simplificada de la ecuación de Bellman para entornos determinísticos:\n",
        "\n",
        "$$[ V(s) = \\max_a \\left[ R(s,a) + \\gamma V(s') \\right] ]$$\n",
        "\n",
        "En la versión simplificada, asumimos que la transición entre estados es determinística, es decir, cada acción lleva a un estado siguiente fijo. Sin embargo, en el caso de la iteración de valores en un entorno estocástico, consideramos la probabilidad de transitar a cada estado $( s' )$ dado un estado actual $( s )$ y una acción $( a )$. Esto se refleja en la ecuación más general donde sumamos sobre todos los posibles estados siguientes $( s' )$ ponderados por su probabilidad $( P(s'|s,a) )$.\n"
      ],
      "metadata": {
        "id": "z2rH2tYlGWCK"
      }
    },
    {
      "cell_type": "markdown",
      "source": [
        "### Algoritmo de Iteración de Valores\n",
        "\n",
        "El algoritmo de iteración de valores utiliza la ecuación de Bellman para actualizar iterativamente los valores de los estados hasta que convergen a los valores óptimos. Luego, se deriva la política óptima seleccionando la acción que maximiza el valor esperado para cada estado.\n"
      ],
      "metadata": {
        "id": "kHe28crVGOMV"
      }
    },
    {
      "cell_type": "markdown",
      "source": [
        "### Determinístico vs Estocástico\n",
        "\n",
        "Es importante decidir si el entorno debe ser determinístico o estocástico:\n",
        "\n",
        "- **Entorno Determinístico**: Cada acción produce siempre el mismo resultado predecible. Esto puede ser útil para una primera implementación sencilla.\n",
        "\n",
        "- **Entorno Estocástico**: Las acciones pueden tener resultados probabilísticos, lo cual añade realismo y complejidad al problema. Utilizar `is_slippery=True` en Frozen Lake introduce esta característica, haciendo que las acciones no siempre resulten en los movimientos esperados, lo que puede reflejar mejor las incertidumbres del mundo real."
      ],
      "metadata": {
        "id": "4kXZbr_wdb0W"
      }
    },
    {
      "cell_type": "markdown",
      "source": [
        "### 1. Instalación de Librerías\n",
        "\n",
        "Primero, necesitamos instalar las librerías necesarias. Esto incluye `gymnasium` para el entorno de Frozen Lake y `ffmpeg` para la grabación de videos."
      ],
      "metadata": {
        "id": "IYc5nmBCG1bc"
      }
    },
    {
      "cell_type": "code",
      "source": [
        "!pip install gymnasium\n",
        "!apt-get install -y ffmpeg"
      ],
      "metadata": {
        "colab": {
          "base_uri": "https://localhost:8080/"
        },
        "collapsed": true,
        "id": "qG7Rdv-YD0E9",
        "outputId": "55227e83-db9f-45ba-f65b-1f6479801b47"
      },
      "execution_count": 121,
      "outputs": [
        {
          "output_type": "stream",
          "name": "stdout",
          "text": [
            "Requirement already satisfied: gymnasium in /usr/local/lib/python3.10/dist-packages (0.29.1)\n",
            "Requirement already satisfied: numpy>=1.21.0 in /usr/local/lib/python3.10/dist-packages (from gymnasium) (1.25.2)\n",
            "Requirement already satisfied: cloudpickle>=1.2.0 in /usr/local/lib/python3.10/dist-packages (from gymnasium) (2.2.1)\n",
            "Requirement already satisfied: typing-extensions>=4.3.0 in /usr/local/lib/python3.10/dist-packages (from gymnasium) (4.12.2)\n",
            "Requirement already satisfied: farama-notifications>=0.0.1 in /usr/local/lib/python3.10/dist-packages (from gymnasium) (0.0.4)\n",
            "Reading package lists... Done\n",
            "Building dependency tree... Done\n",
            "Reading state information... Done\n",
            "ffmpeg is already the newest version (7:4.4.2-0ubuntu0.22.04.1).\n",
            "0 upgraded, 0 newly installed, 0 to remove and 45 not upgraded.\n"
          ]
        }
      ]
    },
    {
      "cell_type": "markdown",
      "source": [
        "### 2. Importación de Librerías\n",
        "\n",
        "Importamos las librerías necesarias para nuestro proyecto."
      ],
      "metadata": {
        "id": "aaXlKmx1G6fh"
      }
    },
    {
      "cell_type": "code",
      "execution_count": 122,
      "metadata": {
        "id": "1KlEkJWVDwEn"
      },
      "outputs": [],
      "source": [
        "import gymnasium as gym\n",
        "import numpy as np\n",
        "import matplotlib.pyplot as plt\n",
        "from gymnasium.wrappers import RecordVideo"
      ]
    },
    {
      "cell_type": "markdown",
      "source": [
        "## 3. Calculando la Función de Valor Óptima\n",
        "\n",
        "Definiremos una función llamada (`value_iteration`) donde calculamos la función de valor óptima iterativamente tomando el máximo sobre la función Q.\n",
        "\n",
        "La función de iteración de valores (`value_iteration`) utiliza la ecuación de Bellman para actualizar los valores de los estados y encontrar la política óptima."
      ],
      "metadata": {
        "id": "FqIhi96SG9Hy"
      }
    },
    {
      "cell_type": "code",
      "source": [
        "# Establecer la semilla para reproducibilidad\n",
        "seed = 42\n",
        "np.random.seed(seed)"
      ],
      "metadata": {
        "id": "4UymL4oUeOUP"
      },
      "execution_count": 123,
      "outputs": []
    },
    {
      "cell_type": "code",
      "source": [
        "def value_iteration(env):\n",
        "    # Definimos el número de iteraciones\n",
        "    num_iterations = 20000\n",
        "\n",
        "    # Definimos el umbral para verificar la convergencia de la función de valor\n",
        "    threshold = 1e-8\n",
        "\n",
        "    # Definimos el factor de descuento\n",
        "    gamma = 0.99\n",
        "\n",
        "    # Inicializamos la tabla de valores con el valor de todos los estados a cero\n",
        "    value_table = np.zeros(env.observation_space.n)\n",
        "\n",
        "    # Para cada iteración\n",
        "    for i in range(num_iterations):\n",
        "\n",
        "        # Actualizamos la tabla de valores, es decir, en cada iteración utilizamos la tabla de valores actualizada\n",
        "        # (valores de estado) de la iteración anterior\n",
        "        updated_value_table = np.copy(value_table)\n",
        "\n",
        "        # Calculamos la función de valor (valor del estado) tomando el máximo del valor Q.\n",
        "        # Para cada estado, calculamos los valores Q de todas las acciones en el estado y luego\n",
        "        # actualizamos el valor del estado como el que tiene el valor Q máximo, como se muestra a continuación:\n",
        "        for s in range(env.observation_space.n):\n",
        "\n",
        "            Q_values = [sum([prob * (reward + gamma * updated_value_table[next_state] * (not terminated))\n",
        "                             for prob, next_state, reward, terminated in env.P[s][a]])\n",
        "                        for a in range(env.action_space.n)]\n",
        "\n",
        "            value_table[s] = max(Q_values)\n",
        "\n",
        "        # Después de calcular la tabla de valores, es decir, el valor de todos los estados, verificamos si la\n",
        "        # diferencia entre la tabla de valores obtenida en la iteración actual y la iteración anterior es\n",
        "        # menor o igual a un valor umbral. Si es menor, rompemos el bucle y devolvemos la\n",
        "        # tabla de valores como nuestra función de valor óptima, como se muestra a continuación:\n",
        "        if np.sum(np.fabs(updated_value_table - value_table)) <= threshold:\n",
        "            print(f\"Converged after {i + 1} iterations\")\n",
        "            break\n",
        "\n",
        "    return value_table"
      ],
      "metadata": {
        "id": "bmi5vBHvDzKA"
      },
      "execution_count": 124,
      "outputs": []
    },
    {
      "cell_type": "markdown",
      "source": [
        "## 4. Extrayendo la Política Óptima de la Función de Valor Óptima\n",
        "\n",
        "En el paso anterior, calculamos la función de valor óptima. Ahora, veamos cómo extraer la política óptima de la función de valor óptima calculada.\n",
        "\n",
        "Definimos una función llamada `extract_policy` que toma la `value_table` como parámetro:"
      ],
      "metadata": {
        "id": "gOMn8YDXKGoC"
      }
    },
    {
      "cell_type": "code",
      "source": [
        "def extract_policy(env, value_table):\n",
        "    # Definimos el factor de descuento\n",
        "    gamma = 0.99\n",
        "\n",
        "    # Inicializamos la política con ceros, es decir, primero establecemos las acciones para todos los estados en cero\n",
        "    policy = np.zeros(env.observation_space.n, dtype=int)\n",
        "\n",
        "    # Calculamos la función Q usando la función de valor óptima obtenida en el\n",
        "    # paso anterior. Después de calcular la función Q, podemos extraer la política seleccionando la acción que tiene\n",
        "    # el valor Q máximo. Dado que estamos calculando la función Q usando la función de valor\n",
        "    # óptima, la política extraída de la función Q será la política óptima.\n",
        "\n",
        "    # Para cada estado\n",
        "    for s in range(env.observation_space.n):\n",
        "\n",
        "        # Calculamos el valor Q de todas las acciones en el estado\n",
        "        Q_values = [sum([prob * (reward + gamma * value_table[next_state] * (not terminated))\n",
        "                         for prob, next_state, reward, terminated in env.P[s][a]])\n",
        "                    for a in range(env.action_space.n)]\n",
        "\n",
        "        # Extraemos la política seleccionando la acción que tiene el valor Q máximo\n",
        "        policy[s] = np.argmax(Q_values)\n",
        "\n",
        "    return policy"
      ],
      "metadata": {
        "id": "cASsHrFfKD_S"
      },
      "execution_count": 125,
      "outputs": []
    },
    {
      "cell_type": "markdown",
      "source": [
        "## 5. Visualizando la Política Óptima\n",
        "\n",
        "La función `visualize_policy` se utiliza para mostrar cómo el agente sigue la política óptima en el entorno."
      ],
      "metadata": {
        "id": "aoQ1rMR4LTQU"
      }
    },
    {
      "cell_type": "code",
      "source": [
        "def visualize_policy(env, policy):\n",
        "    state = env.reset()[0]\n",
        "    terminated = False\n",
        "    truncated = False\n",
        "    while not terminated and not truncated:\n",
        "        action = policy[state]\n",
        "        state, reward, terminated, truncated, _ = env.step(action)"
      ],
      "metadata": {
        "id": "CIjgUNoED3bW"
      },
      "execution_count": 126,
      "outputs": []
    },
    {
      "cell_type": "markdown",
      "source": [
        "## 6. Ejecutando la Iteración de Valores y Grabando el Video\n",
        "\n",
        "La función `run_value_iteration_and_record` ejecuta el algoritmo de iteración de valores, aplica la política óptima y graba un video del desempeño del agente.\n"
      ],
      "metadata": {
        "id": "c2KH7ckvLWwq"
      }
    },
    {
      "cell_type": "code",
      "source": [
        "def run_value_iteration_and_record(episodes=1, video_path='frozen_lake_video', render=False, num_iterations=10000):\n",
        "    env = gym.make('FrozenLake-v1', desc=None, map_name=\"4x4\", is_slippery=True, render_mode='rgb_array')\n",
        "    env = RecordVideo(env, video_path, episode_trigger=lambda episode_id: True)\n",
        "    value_table = value_iteration(env)\n",
        "    policy = extract_policy(env, value_table)\n",
        "\n",
        "    print(\"Policy:\")\n",
        "    print(policy.reshape((4, 4)))\n",
        "    print(\"Value Function:\")\n",
        "    print(value_table.reshape((4, 4)))\n",
        "\n",
        "    for _ in range(episodes):\n",
        "        visualize_policy(env, policy)\n",
        "\n",
        "    # Analizar transiciones\n",
        "    state = 0  # Estado inicial (0,0)\n",
        "    for action in range(env.action_space.n):\n",
        "        print(f\"Action {action} from state {state}:\")\n",
        "        for prob, next_state, reward, done in env.P[state][action]:\n",
        "            print(f\"  -> Prob: {prob}, Next State: {next_state}, Reward: {reward}, Done: {done}\")\n",
        "\n",
        "    env.close()"
      ],
      "metadata": {
        "id": "u4cPcmp3D486"
      },
      "execution_count": 127,
      "outputs": []
    },
    {
      "cell_type": "code",
      "source": [
        "run_value_iteration_and_record(episodes=1, video_path='frozen_lake_video')"
      ],
      "metadata": {
        "colab": {
          "base_uri": "https://localhost:8080/"
        },
        "id": "TgnhAz1wD7xX",
        "outputId": "c9f6ba37-e4e2-4305-a9e0-9e7fba30074c"
      },
      "execution_count": 128,
      "outputs": [
        {
          "output_type": "stream",
          "name": "stdout",
          "text": [
            "Converged after 488 iterations\n",
            "Policy:\n",
            "[[0 3 3 3]\n",
            " [0 0 0 0]\n",
            " [3 1 0 0]\n",
            " [0 2 1 0]]\n",
            "Value Function:\n",
            "[[0.5420259  0.49880315 0.47069564 0.45685165]\n",
            " [0.55845093 0.         0.35834805 0.        ]\n",
            " [0.59179872 0.64307981 0.61520754 0.        ]\n",
            " [0.         0.74172043 0.86283742 0.        ]]\n",
            "Moviepy - Building video /content/frozen_lake_video/rl-video-episode-0.mp4.\n",
            "Moviepy - Writing video /content/frozen_lake_video/rl-video-episode-0.mp4\n",
            "\n"
          ]
        },
        {
          "output_type": "stream",
          "name": "stderr",
          "text": [
            "                                                   "
          ]
        },
        {
          "output_type": "stream",
          "name": "stdout",
          "text": [
            "Moviepy - Done !\n",
            "Moviepy - video ready /content/frozen_lake_video/rl-video-episode-0.mp4\n",
            "Action 0 from state 0:\n",
            "  -> Prob: 0.3333333333333333, Next State: 0, Reward: 0.0, Done: False\n",
            "  -> Prob: 0.3333333333333333, Next State: 0, Reward: 0.0, Done: False\n",
            "  -> Prob: 0.3333333333333333, Next State: 4, Reward: 0.0, Done: False\n",
            "Action 1 from state 0:\n",
            "  -> Prob: 0.3333333333333333, Next State: 0, Reward: 0.0, Done: False\n",
            "  -> Prob: 0.3333333333333333, Next State: 4, Reward: 0.0, Done: False\n",
            "  -> Prob: 0.3333333333333333, Next State: 1, Reward: 0.0, Done: False\n",
            "Action 2 from state 0:\n",
            "  -> Prob: 0.3333333333333333, Next State: 4, Reward: 0.0, Done: False\n",
            "  -> Prob: 0.3333333333333333, Next State: 1, Reward: 0.0, Done: False\n",
            "  -> Prob: 0.3333333333333333, Next State: 0, Reward: 0.0, Done: False\n",
            "Action 3 from state 0:\n",
            "  -> Prob: 0.3333333333333333, Next State: 1, Reward: 0.0, Done: False\n",
            "  -> Prob: 0.3333333333333333, Next State: 0, Reward: 0.0, Done: False\n",
            "  -> Prob: 0.3333333333333333, Next State: 0, Reward: 0.0, Done: False\n"
          ]
        },
        {
          "output_type": "stream",
          "name": "stderr",
          "text": [
            "\r"
          ]
        }
      ]
    },
    {
      "cell_type": "markdown",
      "source": [
        "#### Entorno Estocástico\n",
        "\n",
        "En un entorno estocástico, las acciones tienen resultados probabilísticos. La política debe tener en cuenta esta incertidumbre y proporcionar acciones que maximicen la probabilidad de alcanzar el objetivo, incluso con resultados no deterministas. Esto puede resultar en una política que parece contraintuitiva, pero que está optimizada para las condiciones del entorno."
      ],
      "metadata": {
        "id": "d4fE4XE3do_m"
      }
    },
    {
      "cell_type": "markdown",
      "source": [
        "### Análisis de la Política en el Estado Inicial (0,0)\n",
        "\n",
        "#### Transiciones en el Estado Inicial con Acción 0 (Izquierda)\n",
        "\n",
        "```python\n",
        "Action 0 from state 0:\n",
        "  -> Prob: 0.3333333333333333, Next State: 0, Reward: 0.0, Done: False\n",
        "  -> Prob: 0.3333333333333333, Next State: 0, Reward: 0.0, Done: False\n",
        "  -> Prob: 0.3333333333333333, Next State: 4, Reward: 0.0, Done: False\n",
        "```\n",
        "\n",
        "- **Acción 0 (Izquierda)**: Tiene una alta probabilidad de mantener al agente en el mismo estado (0,0) y una probabilidad de 1/3 de moverse al estado (4,0), que es seguro.\n",
        "- Esta acción minimiza el riesgo de caer en un hoyo cercano en las primeras etapas del juego."
      ],
      "metadata": {
        "id": "Iwu3Dbt-d87y"
      }
    },
    {
      "cell_type": "markdown",
      "source": [
        "### 7. Reproducción del Video en Google Colab"
      ],
      "metadata": {
        "id": "_KzSNVVdLb2O"
      }
    },
    {
      "cell_type": "code",
      "source": [
        "from IPython.display import HTML\n",
        "from base64 import b64encode\n",
        "\n",
        "video_file = open(\"frozen_lake_video/rl-video-episode-0.mp4\", \"rb\").read()\n",
        "video_url = \"data:video/mp4;base64,\" + b64encode(video_file).decode()\n",
        "HTML(f\"<video width=400 controls><source src='{video_url}' type='video/mp4'></video>\")"
      ],
      "metadata": {
        "colab": {
          "base_uri": "https://localhost:8080/",
          "height": 422
        },
        "id": "kskOjUyKEuab",
        "outputId": "5e72d612-29ca-40c2-888c-636e1e3cb2f2"
      },
      "execution_count": 129,
      "outputs": [
        {
          "output_type": "execute_result",
          "data": {
            "text/plain": [
              "<IPython.core.display.HTML object>"
            ],
            "text/html": [
              "<video width=400 controls><source src='data:video/mp4;base64,AAAAIGZ0eXBpc29tAAACAGlzb21pc28yYXZjMW1wNDEAAAAIZnJlZQAAj4VtZGF0AAACrQYF//+p3EXpvebZSLeWLNgg2SPu73gyNjQgLSBjb3JlIDE1OSByMjk5MSAxNzcxYjU1IC0gSC4yNjQvTVBFRy00IEFWQyBjb2RlYyAtIENvcHlsZWZ0IDIwMDMtMjAxOSAtIGh0dHA6Ly93d3cudmlkZW9sYW4ub3JnL3gyNjQuaHRtbCAtIG9wdGlvbnM6IGNhYmFjPTEgcmVmPTMgZGVibG9jaz0xOjA6MCBhbmFseXNlPTB4MzoweDExMyBtZT1oZXggc3VibWU9NyBwc3k9MSBwc3lfcmQ9MS4wMDowLjAwIG1peGVkX3JlZj0xIG1lX3JhbmdlPTE2IGNocm9tYV9tZT0xIHRyZWxsaXM9MSA4eDhkY3Q9MSBjcW09MCBkZWFkem9uZT0yMSwxMSBmYXN0X3Bza2lwPTEgY2hyb21hX3FwX29mZnNldD0tMiB0aHJlYWRzPTMgbG9va2FoZWFkX3RocmVhZHM9MSBzbGljZWRfdGhyZWFkcz0wIG5yPTAgZGVjaW1hdGU9MSBpbnRlcmxhY2VkPTAgYmx1cmF5X2NvbXBhdD0wIGNvbnN0cmFpbmVkX2ludHJhPTAgYmZyYW1lcz0zIGJfcHlyYW1pZD0yIGJfYWRhcHQ9MSBiX2JpYXM9MCBkaXJlY3Q9MSB3ZWlnaHRiPTEgb3Blbl9nb3A9MCB3ZWlnaHRwPTIga2V5aW50PTI1MCBrZXlpbnRfbWluPTQgc2NlbmVjdXQ9NDAgaW50cmFfcmVmcmVzaD0wIHJjX2xvb2thaGVhZD00MCByYz1jcmYgbWJ0cmVlPTEgY3JmPTIzLjAgcWNvbXA9MC42MCBxcG1pbj0wIHFwbWF4PTY5IHFwc3RlcD00IGlwX3JhdGlvPTEuNDAgYXE9MToxLjAwAIAAAGUyZYiEACv/o3eRH+cnGm0ukb7wOpO8UWuobvuowGbW091P7nElDroD9k/A0A9XgABJfE5dTBubFaF7tFHB+568bx5qSYDgt2f12JtvJmcuWATYlWFG/RFmrnk5K8eOmiPEWXJ0tUmUczvINlJL5NOgfdisCKjENxn2vHzCsfBRhkIATR7ucoGN+7kZWWHjnFa4e25uZaWt6Chavob/ALn1sn7HgOBCn8Vbmd8Ms+2b8jisC2H53OoeVTjk83kPyXLYNxKv5mNZPPalbt3iUZ60pltR8u2LsNZyo/1iU/LC9YHvaWhRB+ezyL0Qu1ulBE3cxfpyU4rWhrmTiopx6+kq+MN4EfeX2bXvNJBFCGV343VaK0SzQTEXm3Wg+kW1iYpe/qqjXrYvJWNpYLGEUZ3gZe2Joibpo5/DK6fSByCDZ7OtqHDUa89CeSTOOnVPz9Hba268FibuQ/fpdLtm2hp1jOKmmT9otLP1UPYrgV42xo0X9aFk9UbEINkDrx6Ph52K27xd7N1pufhuOS1TVMY6CWEce6+Tl2u0gb7aEX6v9UZdEIo5ZDvzNdTBO+28iPKhp1ULq2TOIQDLjuuQ6JXhvgHIXGjFNB0zlismeBDulmAYV5kmGrh8AUGFVCaPCfTBhck2qS//8ImdZ4YrB8t/WF5P16tH2dkYvXbE7bFqA6J+qkq0qwFFlqAsBwVj1hs2Vfd/3qqBDZvXQyb9+o3L//zgMejmiDnPT/rdDopqzUXRDL6Vv9vP/jb80g+nYfBOkgUxN3fVEooWMuNPZWTYw55j8eVPhG1KzmrRVqtJTqKgEqndTvce+3xK4Zj0TkexkNJP7QPlda54ZbVjVT0LXDMQaMyDOM5t2AJkBiDzkj0CN6r4djGWIduTJBTM6vNJmCtZm1c/6rqVeHNRDDs9GMKDnwB/47adw8B03fbPMIENW5hgzd8Qi2YiM0s+vT4M1pNDfSWe8CKUi6wF4yhUqxiQlnbXLhaYcnzIBpb2u13DaQHno/gmpD2XGEfNDUIrgIHFQleoxb2Bv7zmjly4GOLOg0v6UznsyQUx3K2A5qD72EL+q9dNBsdVprDmsxBhZgHaOKSjrjwg9nbNsVxEIfgg7+TXT+8bqp7R66z7dhhjc5BiMEMfve0J13QNMbTH7klXQ8nUtkyQ7MxyTFn+nALsA0R870nsUkJJ1G1CcynF+UP5RjFhT8gF2ojnIZGJyvh5XGyhbUXE/6tbJ6a8X6BeoDXyuHGfz0M88Yc8uImKSCVwpWhOwoNlKHVXpdiiJINtN5AGjpXGPROR7GRbI8IttaMBYfIMRMbWtC2gK48f3m7QoTWVflQrYD80Hyjuz6xNNTfY5VrVxMuMoigwSxBkF/O8R1ENyIDVPgDVcheyDuxYc+g3X5WMhy8BDVuYYM3fEIng8DN2DX5ZOLhK7jwkrqJIgw+DLtefkGOswgw3BxG4B0RNepUq3NSbHVIGySdZKDhbww4PcqHFOHaYuPSmga+1AspUerhFJaAqIJZP6DS/pTPQHvAVfmMKN53BYNYkQtpgoUY84e4R/gySmWjKxgavRMZEUvMHK4/HeUt/IOkmmEqi8Dc1XCryvPorNNM1Kh2Yz5z+qqzZ6CnA25Br1gKLLUAZjPwx2NZC+AmphdSz7zdoYOUEKL2KIhc38n6cF4SNwGLQ0mxmQjWGElcQD2bEIFJDJKt71Xrp9S0ca+x48KnPhozzxhzy1o1RnwfClaH8rMCkWWU9LeyQc19ERxlIGbKn5ToJw9XcuOAk5VIExDkZxqp66gmMKPHwGEFCxPzBmBmmt8tN9sE+kkSozH/BtACmhynktfqgmaG9NrCo5ZrndXt2cclcbGPEB2f5yMooyBBqNoFo04/o3zmVPbWeOQzcM1RkIkFssFHMs+6xMxi0XWJbcZjkzVj+lgN/FFDhd6FA3a8XEdj5FM6UjyeXpoW5QMqfY/gZ2d3UA+onzc8kuBfYcaiWLq6NUF2wtpKD/duWII06zGaJDJ/zVxU2E/9dCVCjo2GB1JXtZ4TbKGMGqL3AL8J0YpH7Tg1kcMmDBnDzako5lO4Ve/ty+e+oo6jfDodNn5mAGLi9Q+bMoRyrcRjbQyZsw7Intww5JB066cc0Eo1JUB+WYwgkjBD8JUc8OUb2H1TGgLSfZCBCGv/ClUz2/+S9LC589cZuz0gVlpHlDzgMjIbZUcBq1V8N+qd8IHlChnfsqIFghCCHPx4UFdvc+Civ+Aa1Qf1aRBC6BWxv3Qz7ruTRSnN2DELyMRXUlZyXwjDw4jMTkHSQI2bGTH+yD4iFwsF0Q4sbUaLoYu0Zr2Usritg03fK59I8Ao+XK/5TXjvxK8wtE6gW/5xiIH1ELFUENJjnSeaAC2MWMG52VHpTPs9qIVur1fm/vqB/0ygqseXqhRn5L5QHacbP09FG8SO5x+B6I5Bef3ndR56SuxdIj6ORKf32NWVecR/kV4h4GCeAagvqyQ0+0rxr8R09IQwIDJu+6q60WWL6o9EtBAlhEcSS8N8IIpiIQ2uLiRCRDWosmN/lVEFjYqPgWURgW07JPrjh/nW+mtBcsIcCAb+5Q9VNKKdUTUaOLUahzImupBRtvhCw2zPN7iedYqjyyhWMWE3D5GvNhg2ajm2CTRL5cUMlU/jNaDeJyVP7gueRTUI5g8ro6aTUe4+42dE8Pw7Ce7JF7DEaf9l9+qwhIpJuGnC0AhhckEmPALzS/BarQ9Rs47K4+QX1BtjFatLlSQIQy88XsIcyG4o3RayUeiJtdad2scRV1d8FrDDLwpNeDDiZfbNzwvS3oF0KKmC73aokYz52miN4uYpHVI+GG3tEwP2wdkp/JWpS4zV5VsSIz94ddmEXgIFJmTgKIuwOM0ScgyxwivH6BIVGUE6Z1ksk3bRhanucI6lvsznmi6T1QlsZD9zZOfRcSt4jzQFngBcJAQjQzXJFO9vJ1ILbk8Bl6Yhcisbw5yRykK0kz+Xvr4Cz5Rs+6Y9n2zAHkUNlcZL683nnrjpigWIV6HZ4izOpeq0h1PrpJDmNwWFkwDfUbAZ5cYsvTfR2qkO1Cz5pGCCiBxiAWz3oUYGEorHGnh/cHUlU5F+Qg8t2PZy5XHoDZfqbZA2KNRQhHGLB81SPyaxZ3Ifp4H1l+9I6CiAGn5WWwic7p3YFNU9Vb3q6SFW4I/GbBmGmhoVZuM0jx2iA64L1nmVyffboA04jLspIqc+B3LmEs6E3nl9b1Jw80H5O6zKngloEJ3CA0bHmfm53nESvfTwFhCmEqtJV+baw4z2jfGNT9rBiLcRaZFUsh7TvjTJjpNlQv21vbTpOtmkLrfm7NrRLUQZjGGdTZDQ0hZMnaqtD0fbHByzCgzhdqFZSmKv1sjG0v+2AccvOqhz5one864mVHkDoKWb4zv7nJf6SZdORGZPwJsNOYQi4SVOPLRFzbkfBBlqez2+0VILbk8CE9+f0k5/pYqQtkK5aWeic63jVR9++BAE1mFltw7wN0TxJWE+f9zMEfef039xJLZoDw02F+60y8PUNBBiPvDuaWgHka9IIki9VqObF1Rj7jgK4Wwc6Ql9ynW0/7tVApv9L0CCkiP066WUsgV1hNmOzEwN7Hg+gyS4uGopCIhxi1Lp/DVn+AENoS0pGShS2f7KWXRTUAQ7PeJKImp5hzNnRO+WxBzc55uzfdPGhX67xLcUWvZZnwcRoRSlcPLnSpNusNCbz11l+PWUvd4N1crkfbpsJuCA0CLkRQQPZye68l4eDTTMlv+fpeHkRdgGIwWMfmWHG3GlBUAxlcuNvcACG76J8vOWNie4frf/LpvhbIlU+IJzeTKgZDRV3jNZaIKd97PKwt57ovTc3SJlWQdNUalUNHNIgDJWVCghqVWCKTmMpeyjTeW4HpRjsyr+N74naw7vKcYgwDhelf9elzrArGUbYDWcLJD77boCJWik3twbCsvxh9Woe1XC5auGCPYX6w6nmO/deeSCeEDLbbTCWz2tuKGjo6ZkrWFwRx2BnYL+jXJoEt2kRx4P7j5jlXJOGd9E72mkOXYqWF5ytJbFkypEoN8eCMJ8aXYkBqAUiuSSD6954McSqo6gbGnz5AHgmVsnV4IbNPZQkQjSihAKlW5hm4G/QRlk9eiVNlhB1E9V8pdypojn2aZaLPKdHb8D+R4RL1Vj0nxuQgBROgiqFSZH+EPUZ+RAS3Ng6KaplVlpQbA2WdFB+L2vgSlJ0RVmDr4s/H7fwD1VALgVJDKbMJQ6G+p7UHCFrYP0xvlkhcTbfltDIZs0SxGyfR4F/mhBToSgr+/+K7vRGPz6CQWgkqPQ3fH6C7MBqjHSbKWiDNrOBATc21bVf4oBVsT6AN1YaPSS1hBwKHBuWKhY1awhn/I9RGZwV4dIt5kOCWJk/GVbVokdBVmOAyCrmTLtjF3Nev7Oj3P+53BEaiKf/rOcJJHyUFSkpkkCBq5s/5t/sq4za7+PegjSGC1jeO5GHFic9HlfBmVI1L0uVXZzroj72sZZLKL2Q/frhdL7+0NDzJnoURuLgggy99+DwNHlmSAmieAIP/6gGWrUMYjIj0kqcriqUo53KRQBh7LYLOSeM0PVup3Vk9zyBsNbk51F7rmApsg7L74mliYeFTvJtC5+hMv/bROUPQRUAqxu2009EGSAioy0EMBl/FrBehfVX7UHxE4NH+TDfOMLsOeda9nwqvGkt99GV9h5xx2K7K72/+rX4uGqliaYl0fgXojCH+4qTTAK0frEA+lyPzQj3LB/bU2+p9ybtzheHbt4n5ZrEfmKLttxldZIe+s9BU9VvEwVHR+9gjZCL9I7k5zYyLLBgVYKcjQnpdz3CNks7HdCJ6IdVHD3JqzEZQFdO1dHmALv9N8f/gE+xopAUCuAWaeq7qq4ksOHi0ePXwhdMv9acRAj0CG/MYNHQ1vwaubJxrgfw4BBNiNtOky4mxytFbQX9lM/BHmn3K1isJlXGQaGbrE+LdKTeolS4eh257cFarWaNYlxnXFOlt4WALyqlrixAgabCKyPFjuJNTtFAFAWROMkKgXO5IoaqAgauZ9vSmZ+zjQn7emTzs1/qsnKjD/Cc0Elfce3ysESA4KfWsgqJGEMd4DR4lLCfL0297frRamDrVUzdl/K3AMJy1Bjw039kDODJubbWdxF3DMaWk1SMbsyUVRRzqHbHz9Ffit8UhkQPVpGNErgGvlq8Txg43wEj6iKs8+9RgmLMHa/5p9/n9GyEWpr1FzDTOYJBUSuT22rXy4008s6M21s+fEWc1XiAgnC4vrx2jP1wUEsY8WRSASIQMnK54sW06rudPqMUqpZdZKuRHgvEagfe2c51UfoV60F5ReZk4gfOhPG+yfKlxK3X5zqD24myUaMXysWlQ+BPMDL7MTYtWYjA79hLNGspaKp7dr2rhE9BmbwpSu7Il1ZPUi+J6uUITYVdLOYhB4PMxOklqDs40X1r5/oxlltAexvB5L3V5BEIJB8cGJ8jkoGuFEGJ4DnA8wRDeTSsKE5rncjkxEhYGrmJUaLGgg41EygPtk7NKSG2/zwZzXaGCZd8U3r6YOMcU+CuHnwIxiZ4cnMXY02998Y6gnBCOZl2lQzA9FkWtZ9AkW4z8MkZZOauQIM3DkTNnyv2k7Pynucc34FiVgigV3iD8eNsz/gEc1qZHACfSyCc9QkbNv+owUZmDvX8zf2z+jdt04Zy1BHZOYKTKLO0m6xexFbMuWe+ZIp3kMTtFwG3jbYqNeOxDrboY+fBiSZm5HZwEiK1YJUg/c6iF39pPkGXfVga3gOSXXk2c5uBdFrZB2Z3xD8kgE6+jbK0qRecs0NXIpAZgvaUfKRR1CoJcOQcDLwd0nrai5SP01O7LZ+zjWVVXES4FQhNQOd3vJJWnWSRlSNe5QTncnyZGQg2NEGfUyoYT4+Pj/skbVOs4kiJaAgBgxEvV/gfa4bf+HIRGGydYP7V3s+tDwDWCTsvbyClncPjwI2otMNVm3WCDx3vn+JU0UJ0Nrvp78cZYFxHfPcJ7HWujAIRYc+q9+CCyVd1PwnaFx2y6Of3euE+Sv6RxLrhUY/Fan+ko7Sj9qC0yj0j/kSCXDEHBU3wEcmI0keQsJXMhUrR7tNAAMykPWJw0meJ7+s20nfBh06iTsnNA6QjrRaYCEp1J+zEmm9Wb6Srh69NejbLF6rCufd8X3unDjCkykd7CPfSw2mQZWD9wsFBqRR1YKRrftx//frpEYIza3faODOK5ZbDJtqWYm1itKA/lzJSNyQ3NYEw4qBRRhh67aZtQcLoRnnpm/puvTE6u1f/hDIpLzV1zMsJvpwTGWZOyRAhqZWuyiabfzFGdRdEzmpos88Pk28rW3zk1FPjDVQE8amTc1RqOiCwH+xiCsFaqbDjiiXf7RtdeXQ9ne//R+4Z9mv/ihsPXLlrlSZx+FrTMcjOAk8Bw6m6Zy+TN7nbhxp1T0Swlx/2+MtZDrb3H3gjqtxKJ4/sjDv3mLdgIeDEJpo8x3HMGFxeb6txFIfzj+1EDuJo9wD8MwZOnNicGNXSbccggLGrg8+hZ1g9Ww5KFQTnrBsaOEhoR1firB2quZbgUfKS3zEttK2xNXmQwXM2xtGrF0WHHEH4tyzRUe9s2BV6i5uJzdGHuJ4nCvrMz9ISGu7gFPo2DWAMzH4F4Qd+ZwShabfSoYJOodOh2EFDPWAc5Uy0o9Ulv14dmHp2OHd5k1DkPR/occVyGVPneT4p4k6QWr1J2EyxOdtF+MpQ6CGTkqDq4vPeKYppjfe8vNIP1+0rFU+oCAPhEEymEH29kQlVRLXwEECvmqBe8CCFk0IuqePXrDVNF4SaNtC2LbCSgQzosT4A7YQQMPQjAxn3wboLAf7GIKwLs1zjVBEouUV6WLm1o6Gb1zYKTcSKjphZE/yDWEzkqaSop2UywjgLZXJ6QJKvxRnTuHFQiXvzEq0Rr+RXCPmenqPBNsO16S1Ye+BFuK+ZowjNDcMV/TtzfgiGLQXWUHCxMf+j8fSFsJhdgSiS88cFuWkJxgXGo2D6ztbkm4x6c3oq2Z01VoYSS35Zqg6vxIdXVcMtvIStmURFftK20NjmQ+2v/Woh42uOHeIPxbnMx8b0ayg1L0PhCajEEFuqf4LdN9qaY+2LjPr40/zIm07F4sC1mPBNHrsLgktnehLuiTAKgoZ2QDnCT17DVJb8+HR/6djh3eY7A5D0i5EHFchY353k8zc9OkFp9x30rTL6T2/jKPSbIuo8KQf1vi+LMAwQY4meddCZB9XCEBKb1NJrgPXVVjKzoiogcO+HTcqHywSTtHo9tpNobb6Z3wozhMumlS+MqIfhJ6GwxXy3AWUdqPvgFHu7fzwauFiRsCa1mAhBGnK4H5nWXl3AdcAb5HBtqZP9u7/bojw1xJUBByjpT6/7q6u6vFoZ5tF5/qvofHFfmMQxGzh/vICExhvrWsyl4ovh9c96lQHLB2501u1oXXsLh3M7vyIZpu4vie8muYBFZhXcD704mbAxCMKUy0fK6tMAY9k8xzAaXZExHCBInGIXu6PsLtEerPYmIaxcOiYAH2PxBoLhgPE2eIoLHWWseeW4beGhGyqjSv+bJ4uEFeWYID4ChiA8yRWgNKV4TxfJ7ARc/odSbvIn9bH/jwDybng3Lx7xQfOcP8UUCRJndAObqp3u9cWKs5Iofu2skecQYu80uzS7wsvq/6FXSSR9zUEm7j1GJpWW8+BTlgG/PEi6dhgxfHQ+LhAoYW502TA0OtPCD+JpXWYDCP0rfd1hrvhCah71m55YwpODkjPnY0CFq/1xhshHRVyJy9pmvGh5Xevbfo8hMmC47wDEG/nImCYqpsj2q5d8NZ57EMxP+77ZfpOdUEUT0Qs3a/9vppBNfSU+oD4EBfmWTs9PbIGFVWQpO16HQ0gph6K41QkJFPR46fF8+RXG6mlNie/F23yZGETOqKnz7g0FBIFYjCWjd6OjKMEr/ZPc1HU5m857rVpKGHO6XZc2jdDYe9ETaWw6v4Yzdb9Q16doWtuDNgq1CYn7itD8hiGWSrJ7zg79WboWTO5Hpk7cbwyz28QolRM+MWhxLOeEvnZKzZMZPnFqLKE+f/4zBDteeovs1atDUMbs64KSwL8GbgcCu/avKBFwgPpFGLRoZ+HAhW0Y1UvQZxn8yKC/3flNMX64vsAL6QpRpaZFLMyVwkIq4yPjGGqsquhJhUGDme33NVOszSVGjAp5TXG0zR0lvx+m7/Khw8SjzcCvfn4G7e0qQMqddTCARCrg4hnd5kF08rCrbLsuIVwqcpVKzlbXMcJZaZaO0H94DKX3+LFR+C7JBgGo47KWPVkVX6DyAZiZHXOi1Pc/cKNeodQaoiTcms6xuFSPX5uary1m/MHKJBhB5ed2liMvJVvs/6rKzqLE3yO3iFgYKDdgccXwxmZ/rBDE4/4tmD1sIcI/8bQfxkD+Cx1h7tDQSoQLJ5XV9Ux8gjrt+trq8jYQKamOsPWNno9D+HovgvF51x0ZMSv84sTYP7SHNGb7eiIGp4HZ7rP64fa9nzlo/VI/z9NY7wJyz5mROaELSP9nFVuLsk/TrYtOVuM+ckVe4jaNeu3h49FNlO+BByu7IE2CysBTxvVZnu9Bz5xGklWx4sERR9f9BROp9j8+ed7b/9u1Wkc70FvOJg1dcZgA8kpE6ua+eyag3oYQKFFrVrDLmNP7HztNGrtWO8NoQYat5ytSq5huf6qkccN5ygU8QKboJFAC234Uqnzc4KsEoOzuP/asrzDBuG435FNjdJOCvvpt7oD4QCvbjoZZbAA9Bq2+XaUiDr6AMqmghCmyuGNvrWKHVvxP8d7+CNvNpLjz7OhFw1JGuALJoxmaLQVnnkY9LTTtX2znllICnWTv93k7xaPHUTTgQWRtqYT4XSyaZRX5X8VYWFVZGnpp4CnErZJX5FQKXFQ+prjUEzRdrcYCD1miRpRcAlPZA/AesjK9KiZM+If57fi2psEMggAy6Pz1QGfWZDPtyezCFQ/2W8EdjDEYMKyV/j3iuVBoyKbnIVdYkO1p7CG6BctveuE01FrSace6vVAgijCaQRdkL6Sy8bYoceifLfCt6RWL7EOW3zN0U83lghT30z5s9SynshFU6HPmc2Uqj8ZbKeeE9xyBBdcxYJN+nOWtQTmIm+DRGXwTxalh3+ezeqBd9wca2M8kMlhuiQ5+/4VMzGgHjXFohvLfRPdnh989KYgFi3BJF/X+MaJ1KowLEueAu+3cYbQKW+TTHxMNBzvfVCXf0+rHLcThxh0K9QOxiBL2Rmezt01YxRxXU5CDA/oNJDd1F++VhiXvNbbeujDucIY5/AhemPvZvIR4nDDYWf0dHjv9EQM4/MVRfCX0jhj2/roxkG8o0cszPxszMHHp5LDuGCZK+Meg+H82Grh74jx/PLSxuk1EOjvyr7oB9XYet/wcpaO6DQWxITftZrtDtfmnwCo74JhOfFl10y7Iw8LFKxL4X2/3Dw9Gi4PQkeD279Sh5EsOrRViJU93aO473eWCeIs26yJxtNM0kYSB0lHxrfIca2E+tw6WdZc2cs19PnYmneleWuI3a2FqSj0j9ahKSHJCSoR46yMzBTAGUX9LlrFe7uM9CGH5kTAx8zamexML8mrFm9Vm1VsQmHanmD8a6xH8IbmbRRxEN7WKDGq+xLtXEarhK7BKIWfbPfDj63ytfrvD/OLOKLu8mBmnApm9vw952XSxwFmg3zQUB+prs5J9KFLeN9vqKWjP/EO7kR6kryqzYeybCui4qeeAiJ/FM8CDUI/hg24oLSWPgmX+n4b69V1GszCzYgjPtpuZtK4hq0q10YZb158D3cN1RghYLVU/Wf0QoGl2+TzjHRIWiCI9q+IOQWyw2/WqYKQqYi7GgpEzJH+vM2UoT+BF0Jtmn86nT2Xzdl40n9XDXgn7BRFVB8y/+fFdeullGfJueCYomBpiqxmM9zZFh2AGLKYj/oKkBIO6XWlLQAY4RCZqUyqzpmvRSi4CCC0FB/bcpjLJviXn8hYqkj8oDzbIiGWTzOou218Rhh+M2l2dyR5/gYr9ckluaGcOF4wH/sSK3bVaRWdzpBzkLAm1pFwcYIZJHje3dDCsGB7rHABa8Ng+LbzFF4c6fg9M1jUYp+0GAD7v5w15WHg9VohV7nS333yFZ614IbsQWxbc4HbA4tiFI2zVuPADEf7qtoTilBWj9t6bNNIj7g12AuPsayFHGN9EH8kvqFwCmfx31xyf83CExsBS1bBNVmDs2jMNQkYGcQtcbXEkYlJZWgdIY+sbWoPiUNozH/cCa8uw+cZo7mv+AJlgYUvF+vrWv/TJcnjQv3Ey5Pev+cWvTagjXWK45bqMediMJqgekRONARAeSx8FOuocxjFLSKdSZFiXEcAo0qlY107onNBpXZDKSpiA5oCgOypewCnYNYbM5YF3g0XYLm1QbXdaRuaKjhKQ/c8+7Pbs4EXvw1VZBcNVXA8pRT7AUVnoRjssey4psR3jzegEyKnjcPnJQpKJrNisw8vujJhy0696z4Wr3GwYv4A0VYQnAQD4KgTyM+ebQJlzkv0jzvr07WGSKESACCsPYttay0xQdxoEg5Y5LxprtDrv7JHJeZQISjQn3M8KmBmB3GxlSACkUziPf8vmgyBCl2K0ekl9QneSlsJ4dUmErjCiYAq+SiFgJddAhOJx7WAD/TyAJ+22xOrGe6yGqMNP4tIzqcfBPFKYLcyibThgpNtl0hgfLp7P67Xk0n5ROodAq6opopaqyTtI+sgN1ReM8pPZWiQZu6CVXdVT1Pd80vs9LYSkawEnTUcb1Gs6PLWczWGM4v84RUNxhYzC1t+adN+nIWb8jx62uEOcHcteRVu9v0Gqy8U8j0j3NglmvLHZnmagBZXsU3d44HXp2LcKrl/Nd3hFr4ELdW7oOfbUk9HXygmfI0Yq0GK+QjhDDwpFJgP/d1dp4Cq7qfUHm6eYpQqboQYtuBa7VeuI+yMCSh/ilMeRM/akx9GwlZsy7GI+1QVlT8WgKaV5lacRfjw5w4TySua/S4d17COB30qD9bHnw6llHJDQiV2fkc4PxZIA14ZisihWoBgqdQa1t9uV1ZCJuku6sQ5Gjy3EjoVlAQX+1U9npGc9siBqPxXbxwhV/r7nhqjwx3Rsx08+IgI05ww3pHKp3Ebco3Yk200hRiCP5JhDiBf8lb8QXYovqE3o5Ikr86LhANKRvZo06nuc3LJwEuErq9JboYGppKhcF8+zZNwYAhGKX+oRypQMWnU/xM8yVpv829XjjCvS7UsZGyWTYQjtnc1W1NQMRLzjbu/Q/wY9HOzGFOlCYUGDoauZ5IAdvRaBIXMrxXl39Aivsd86Pj/71Y8BISxmZLLGFlchgv2o36N1a3yO6CP9ovlnqsnRBE14V+GfVAEEehgnuisaYLTLPb37KZKqXH/raQJpkZkiPcnWfaAA4B4hK+0wFcYOphpakLxyOHK7pRp/n9nJd5rGjNTPSVWj54frTAccmxqVrePjf9TuVACnUyo8D7jUeZRHJGfAbxswYbvC5ILXHjQ7I9iQjPx/hhCSMSohrQKo35I377S+wq5YSEJd7bapm1Uizx53CprjmFQGoCta/9QtyIiF/QNIlcwSir4C9QRrrT7Rzqj6/iMJS7gvqe+1gEVuzTs66hzE0md9+Agus/xXYVkgDkfXBbHFc10R6ENAXrFfZlfC6UCY3l7zFEsOaZCyQOES0ioPlAMG5S6M5Qd5Q8J0XkpXrVSdH8DETetZtwdSN/QjHfIYrUd8WSYfdEbHSZbIwS2FJRNZf1BgC5EUaDfy4fc/JwbR9SP8AaKsITjWQuMD2thgWrznqPH8FL79/FvkFIWe+OMxOI/0bFZbVTQVusqzVGGGmu0Ou/somg//Scly66+8KmBmB3NAJNrFIpxtPMAa6BkCFMsGBtAl1cd17WbMukcwoFjkY8W/cgngC66BCpkLZ3FPbMW7rkbW2dMZ7rlNow0/i83epx8E+UZgtzKKd2yzFA8ukMD0fPZ/jL/m8Yt6lwUFXVGl9hi7mF+4MjMPhWhsTD3bWnIKxAnWuZwRWrh6Jct6NSYorfvz0aSrKUf9PvDVufPdG3pyKS1awBU/fF4N0+X/8TQSRbDbq3O60azhW4URHaw3Jo9MCP9aE5qKeFRNioCGhRpAR7S3odi3FK7/z3BzO7fAhbq3hi7PsiCSz8mWEJNGKlRivjzt/Q+qkxE54lQJtPAVXdb+l03KahgLPyAr5Ho4vfEVqImcoLSc53/TBTK4SzhqfDpzSVdx/TLOe5TmJzdjf/qxMIc9Y7U7JK87+IX3X8GT1pcRWpfJdNWoRmwJZmyQmipDpRHj44NW+9+D0jYVes93XLSumTHAWgfvK1b9112aqzcQEQmnhhRQhzfShy/Mxet4UU/e8UqxSQ9Ce3cHectcuvaRPriobiHPPO3JPDZ5+VQOmtGQQegbbc1lmQkD0yZvPFDHDhbY+2uaPG11oRc5P8JGjm870fSbVURT6KiwLS3mz2UHNWCxixtEZpJoMaBQDvM+HhwjVzTCsudibAdnreg2GdhlARKU+s21GJEB5F4KF4XdmotM+bA1kN0Lmnny72WnBkuy3ZZ4KwOC8guFqPEIiIzLHRerq/FLxez6fH128+HneeTSX1PAnjFYPsPkZq+83Gn8RF3NtPg0pWqkayXyoOFqyhrol0txv8OB92wV1KJKTbAE0kFeEbLUrD9XaLGhardvUTXLCfB1kMzqhZUU+8Ftg8vni9nHHQLqp07grB4Ms4y/GFijk3RcE7LRZ9RZ8TOBwhHZoRVXeVjxglUHXZpSXNt08n2vi+aePLK4ujTfw3sKXF5+jfGqSzIyFgyGd2HSlH+QVSFycJ1Tt+66VbG/hJzjG5QWk4tkx1I2I3RZAL9pc+trUQz0uSN784FK+f+nh3+AUlSvIiYf3b1yw85QB8U5P+XuuQWLFje6MZXkR1unngSV0WNVOYQMzM3i/em5YBRPG+mzFjgzYJ7MqDChFY9qxYZyuhgXN65UZ61L4RgyttpEbkkPcccJUxROe20toqNFgTEbVOitE524WDqPD01D9EK25TuritByMYWJt/OmASv/NZV1v95RE/QU4IETvBqfYi9PBvFB0ptm+H/7xdbZVzJb5y/DgWNrICDbP90TEzo205ZuxpId6R48fRdyr9k5N1m/AtJKs0WBNqP/LuRWlgA70nHIHdgPPhRXasmaVFzwdmQCm4ZsGMnxs2+D+ccfVLU2D14R7xG8Ksn9kNKl6oIEe4hA88IEa8dh4uhRj0KnFtstTjFbpsu68/fE8iX6TCuelRCjCdHrvakvB1X1/Vs3cHcZcPWrZomY9A0VxxheyN7EcEDanCJWLddOoYBzG6fzXIuqdBARhexQcePn2/Q29Cd5ENlpCxnpOHEKg+q8zSXS5ZvxofA4oAH5DT6u9eYOPJ60W6jQpsqNo/ChwapBphRTQSE7Hx6xvXqdV0mWPHWpOhaVbflnagyuxTOjWMGqoESlGDEMNcgOiGjSrE17HBiK7JF7491TJpAviKSkg/sTsxOo+cOkIjulMSC1OBGa6PGwdeIaAcua8b5NbgIBqi6qcNj5fTwyZt0nrAWu3eTgsjPV8ZC+yGKGBtC1f+n7+cJ9X1LGT7D5eQywtn2FblHPOogHLNQCjfrqj8l0R2Jk978p7nHe5XVmU5WCNC0Yufb1N4BUMStVOljjnsotwPMXSPbcWmr7IhCo++I/7PbbhFqR/Ded3GAyAyR/whckWqg8MkdVV+07/D6G8HeMDB5ZnP5lKRVyY//V66GG2+yYHzDk46k8Mh3rruHh7HKCGn8JmXR+HQWry0BMi9kvKhn7UmZaK1m9kIxlP5cEfc2K/wCR6bpHOD4kEzXXAATL85Mg+0C4VjpaanDg7/GM2Kn4bgoecXoUExXdVK7eZUsrikmTEnC7RJRtaf4WxLGk8H7+23UHWZNlD6SBuC9uKLRpZVff6CFT6sfadm3GfzeEVBtEOCifW6DWtOG3OR9C+/Omn4wlTNfdpjKIP3d3bNmwvapiqlkxMf0R37eOnTSPYdljacDHYYj5JUybNV3uaBBxzknOyJrCX+W2PVQmMQkms168/oy//INTVFOMPvVqYo1QdngVZX0hWDszRWQ+JH1eJ9ErPMPSzfUMcgyQDHU66Bq12q75tuouiPGpKBId37Edc29qphTldEAt07Ex46KCMLM0rL300SBmqi4BMPd6OXd3xEfsmLKIFiDOiSr2CZpj+zR1erblO7GMVuxcqFNv6qiWdF5KAoGjnM28e62otT/AgxbMvUK0ek0Q4iqj/e8XVl/4BTK4OlkLGtSkwq2c6JtT6pkKM3XdUO9I8c35xpYWkj8s5/rATKqRnY4EsW3XyK0rf5jEG3bTRJ5zRpVdXDQhk8HZj4O+HPcM18fFx9uzZHz+fKumiI94VEwjftFhjeGQrh3WZyqAxDz579518xv6FT2zzFA3AxyPknJtS10ol8yJ67HkJKLNyGF6p5VD8ERqJm6P3PsmW0BvvqmSueDUfd/Fnu3l1XzXsJ9WbLmxvt0/mt/tVzCAjC9igZ/nBD+ht6CfruyXCCFX0n2B686oo/J8F9H41ROjZx8EomT7tcrO88r8dyIGNwp7/jsv7qrP6PsfULmQqrtAwUNnbaSxbbpGcivm5MSIWqgvIWoQEuF1t/u6RvRiCqIl+GZSiE6UISDkl+OKcMiDeC+aCtfNho6EhWC/L2WMX53XTx+6axsOBWoUgVyFwHnobolXhofP6IP0gkKSe1A9o4PbUKQVDGfwt0WJDl2+XLmPBtepR/tb8aEUBFRJgJnC07Lrgvxjg3qzrAQRlPBZNJe1pRZBRAFzrOfynE99V86/atbw4mMJ/NmBOyKfGPcqz5afXsEi0vlghLd5jmtMP/wYbSSVLwo2BgNix+fAhRdCS6lxSDaI4/job2zxsJ1gr6BNiaB35ly7KzxB0Qu6FMwviVB0iK6g5IdJi5IygemDeU/6hOSrVLcy/LZUxPb+MvqUAY20fdBpEsTY/GZHILWcMQtb0F8DBg3vcNwgTHAMsrkb7UYqjrAMpa3XknHcWpNY3A6/j9su5Yq9Ec0Zw/Or7DdZNga7U/uAd9JQNgrI/ymgsBjROXs/Bg4t15mmxtIPMFPFFNnWWxIa62btp5oiHBvf2JLPXcdWuLmh1RzmAI9lAIFMK4NxUA4fyEcPpybDke01224V/vkQ0+JY5LNE/QkuYPPI8Zl7JgFoqzcSO7U9mNtrNxvRfyL8XB9tpxV6S6IqKXZIiGOOTX81Wm9ZHvIf4Cf8lAmxmKMqFw5YJmLMVCwRqOB7EMl+ttEA7HTbrJOVvImMwpPMMnx5cBiIWXQ/tWrp8V6pOv9mytX8HSqG92L26+W+T5xPeeELcPFntG8c/OuClN2tWIsBTGVjX3GK1ewsHaMthVEBpplDYP08Hec0fwtv69OqYKbcdw/CQQFiA9OWRj8EnUY1+V5PnKAxaleWAZS5uNvAqGl2/cnc9AtuYsijv6u82ZC9uGhdqEDqplZ6F+AIj1L7lbM7DA4XMJlUKLaeQi9KM12KzE4i+nu1qy9JE6+omoMtNGak5na+kb0f44XBTAy83x/h3cVwimMKX9NPdd/QW++QBkdBdmgVy9TZNtv+4ng2eee7i8UGiUG0Z+i5f84I/4GgMGyHc0YM860hlIcgMSI9vD+qfUz3Eo/EJ6N3e8sH1NIu34el+o/rYcu4o/AkZtE9tfBafgTegSXdjeg7YC4JsVumhoG22OI/uMb2Gl3lFnmn8yX2yrGrI5XD+fs0uBQLkVqbH0pPPDtji4rmTfZ4s29kZmKv+YgElaNz7+D4WSqcLgIqgGl6hP70uFYT2G/oh0rVfIA/DEHmLusUXKDgaTDayAZBM4JJluCbtRgRiACaHYf+u+B+uAHAocLU4c3OYJPT/E1o2cxSx4cgbw+mtPlRLbm5wEiDvihiiZzYlgf2GvUhZ4UpJaUGKAkTgM7FhQ8mUWwYK3FsDr5Yjoub/2+4Nl/vA10ldj1m7zvlp3JQntdOqCRE3A0fC2jfB2wT9ZrMzF49Ww5KC2ZssBWHpboV1mq8ksaRt5nqLix3ikFLzFtr2VIhtKmaKF1gDW2K8x7e7amkjiqdFtY73tRBmALwPoIXWO4vR38zDkViatQP++GESqQHIod0UAqwhvqv5kAxhL4bqK2WT5gHRlJuX2JOcvIZ++7c4d3no4s49H0+mG9JN/8dz6QQmSTpBa6UZWwcU/b48PrH7MOb/3pOWVw4myS4vzTVKFMGpJ2G/7IK8+5FwqBuQJlqpWWq0Oj6YUd9EvJhFdN5QeSzCDEfGKSuGZJ+TLsKIoRu74/OP3pBWn/yLcSs2fKlfG/BUSzPtSBe8vbFbjhkYDipXileZsEEHp0ktVDLG+dEDqEN/G21Tjppg+x0csBY2CTbOyEJv0gNK2b3lOez6Q9kz/Mycyx/LB4K1MCNc5+V5TyvBrrQ0PyaKNV7CPo3VzqHC1uL54DUYRBU3VSaxNmcWeRT8mxD12Ejy0r7+dnHzZJdqARagOUeKZEEpAditnqQcGRDakjvit0LKUdks2jiwRfQPv4EX7//KyQQf1m09dA9I5V2yFfIfuOjXOTioiTEMVO4nPay9z3iz7A6na+uClN2tXNtBeAxgqJYlPOTdA144ICr8ouih7plod5K0A8k39erbzeDekAKsefzxN5mZdleeafrMJ/jyM7U1VyHRwCxi4rAaBB+IH8vRbLgdm00JvZ2zOpkos8cElqwZeFY25BYTgcc5XH5R5hHLoXxGoIeyTbyaYdPWMs/4zodNHAHYPQoODgqpRkts1M7bsXkuM29GikT+77aIjmZ1s6U9B25JoOSM9VFldPCyAeGvvKPOH/7q2huL7G4sPArp2+mb05AeLfJ8A0Bg2Q7DVMzzrRAIkkAxIfbo39U+pnnOsnb37V2+Ep8Umsbh+zG7ilAr40nIlAIXVXTH8rpntGOz1xX+jTHAFmWi/ORU5zbbHVI6zG9hpd5Rm5RxMlCiessg7Ae37sBC8sC5Famx9J9AuVhrMS6DTghtxRia1AKpjIBNYD/Se+sHPcc0esModLJatgWIAzU3LM5inOjJJ69pzxmS+q+BvKewSnSWoPNOhjUCvDfQK5zh5duE1+mbVt4BAhKwi+Xt6GLVP+A+Dab6lODMuSnKCjZMZVv+ZXyburPrYalHdckbsEWnNJByrajoNhGlTdhdwRb4gkYjYRCexVrrDBxdsdwGla4jdW9qDKbZOJCwFATvYiORDUdXhNpXYjPYfOb989KC0gEZSgNIOPWo18EMoJYGHz55xOm8eu1VEQgolWHvW2hHi+yRBJZJj/EwlVTXTgdSrPfik5Wu4/yNO73Jl87JSGSeLLxpF+8StSMZ2aQ4R6s1Cz/cKNCjWwwnR7loXCSxcR45glF41cm9d6k5nMSWDqm9PXH5a5pByX0xjkMgIu/jMgZXXOzhjNxE+u/4mcp9UdKRW98Z29htZPT6IUyY1LKq+U0Kr1Z7Pcu9dI6lwJR50fD5NzdXJcR5q7IxbwRf11bPA11sm0zOx2CNJhpBCc3WAIDH6jPY6OmkGejJTSWSpRLdseX615KPBhwirDzNqz8VTfwY/HRX6e0SzrHpvaR6Ye3377BhlbM+wb+41uFa2whK+xoDNULHeNVtTqgjMv+Vf370ZhP4Oe8qWn/3BHfmHYOQdSOUkUdwSEVIkfoViosd2gortWh3Xsmv9KpCTOQMBjxp5r9UnuST9skv2ztgHRRM7FGBo4W1Za7w17vk+kw7r+S+y+6Et4fJJunDtxNWTrRjmOT1gp+ZODFOK9QRrS7JwMOPb5v62A5+zhP2PI6h8RhfBnkp6zPRDZCDLp6IWRdUDs2XDNZxsILNt+y/ALBOL3BecIJXXLxFIs1DFj0gIMC3gf5AjbzAbEzSHHffOtK+GsrDcEq6R4Qlaa8ARhmTFAXhOm2xrT8mxnqLrnZ8JZBdOcDB2kRCbj1O+5PfiAK2LIl70vIuxNFkfnUt6fpTKDJ8+fCb5sbRxmNLc2vsGlU/OpIBrsGCl6+gjxYyx/y0aQRiUSZteKCyyWCPpOc07xfh1EnnV8wzZ7rdenRnKs8rXq4crxvrrw3wHv2lkqdhighpaxrQzrO3jyPkg6lZG41vudIEeB4uK/zM/cr08K+HbDgC0iHTIVQTnQMY+hmtax2hINd+pqnP0VJ9bk9mEfvNB9mU+L6tUJtFsQrzMnF1eZm3mCzPsUQBG/qJFz7VAsvhhOpKmkQpT2MTKn5ToaqKtpduLUcP8y8bQMoAGuasb8tzN0U8WEs5/fTPmzrrKeyET3EPxKpspSvrlKlOt+5pE+J2r43rd+nOWtZUoc31W2kvDacsEDwn8WEbEICDoaAzEAqoBpyOQP9XNdjbb1KPErp819Ub6FHgP6nglx8LFbdXonpPBIFgoo7OvWHAOj1htApb5NMkfgEbfX5LE8fy1dtLrBek4zukoF/rrhktRatSBhtpGiE7OUmnycpDpHwJ2XXrd/i/X5upUwDNcfoaBSAUA/XoVSMWjIX2X/3P4Mki368DRBcptON5VHuAKYWJVe4HRaD2n7S7nHOPTDVY20a9LJkpmPfNNUg0l5I1y5Mjt80blM9bSxlJ/AV7KWQy2SYrP9YIcrBNitbMJ5KA0ZElw5FBlZ8uTV7OQfSsLU7TL3Pau3K2j51uvmHiw0YCQ5Z/gVNY/edGS6QgFznVZKaCnV34vThkGKoBkYKyqFPx34sPaA+ClnQ6sT3dMLB8j7IOXfY43fR8BjcRwm5UMCGDXLDb12ZQXIXqwFOwbCgt+AB9u0Pp4LAgK0cmWiueqFZ4542rseudTOx1ZjugkNxkZe5uij51ilD5V0wIC0eUQXP4kgj3sA46NEkiYb5EwV+mMZ5Vgz8e07t1gvtT7zUEVfYZGv4T8Yvmi7ucvhv4o61HVGG/iOsPtRjLwihdw7n0+rf/Nl45LK6H+5ynSzT2FVnyKVGnRAvyv+FpDQF12wNm3okUCzN5Az9Znqeka0PKxC5swRlM70AajsE6KKa0FPRGW7IzRVphvUO3ta3JxJlvB7SWY6Pr/PouZn4UV1eI51Wz6YEHTZmWQxM1plUp1GYi/enlJGCmvGbgRGs0CEvV59hlmP6q07rqAMKqtSbJA26hmuzD3wWIsKps88pG4ElVZN/4zZFiUl8n/C8vxbi89DorrnDDfeVbHJm7B2bxD0a7RvoPTd3XTOacW1n/FlxMa6I1y04MU7m6yBDyTSI89dbDJbkVS8jS7CQ3N+M/Wo15lQ+xYUAWXSUCqQFqLmKVtbQ9Gf8Q33TOiFCF+Yqnzq3/b+QqngwQv3tSDX57awdypVJuzLKsbFsGqcFpbvrAgJ0AT87ds03ZpX2imtXPHt9FPRkjQ2slbkgIChqxEonEjfoaDWM44A3UYvOEWph+PIRJKmipOCJCAxfxbF9zybHigEcG39CvSIvpaIe++7uBRN3sMI5Twm9FwTuuED6adLzmvo/aqve+G2ShShTVCfHeA5ZrZo6S9PbEDbEPZvAuyk5D7paRkKjFWe9G/1EZBm1MMPTQqOnVAdfAvPnsVzK7EfQbNj3m2tqXfPTrwJrr8G6G/vLaE02hKpE/EyGUGt143rK1eljd7fja3e3MWRNW32IYfml/gKJgJaXcEyeWzKQZH145r9t8sPuIJvOYr5SKc1hHaHw1cOYWS1QZZhp6CncSpkKRcM8nfaq/w3SOUXUyOk5WVeQbRMNYkibQtTD+XWD7IQLh12g+gRWdbhFNAwqVgwUW7oGtjdBfGaQ+R9q767V5dicF2sOZiaIrTpW/9dK4GttsDMAGpiwUSeIEfSX/LppMIbrBVOFlm+bcWTovv8DSBZYledxQ/V5AgEftRYC8a8wEC1D4ldCorp6fmgxrfYrAOUyeb7hES5Nlq1ci3N9/8TVgtA4coTVxYBiuWySGDZ1Tm89ysKkBFwHR0+XyieCF51iA+aBUBdexF719U+nDi5CFivEzHS6hu1wXcL6zBkFWRlam+1I4P29P1z6nN4FuvGaSHShQmxq/fLKA91WnA8ViHShbcodaUYczSGKGuXEho2Do77rqiJqpw+pYk2Pyr0TUwcqaIrh16/vq5PCFOLHJSI9d1SZ21G9K+QKRZDSpZ4WHIuKt0m0KGoKeK3lrwEUqoqwJ0iBGWULangC6hNiy1C+qRuNOxTUbWhw9Cw3Te6F2F2nO9jxG1V/hukcn2x7nf7Kljd5hqbECwJFaN89iBcaED89Yq3T6oywgi5gYVqI3hUBS8uV7+a/33x8DGjAZ5e4kCOcuEwFYqOG3D4Kj2lrmb4A/oBlYk9gzFtDXyTmXTSRQ3WDqcLLNf24snZDhn2sNtg2i37cUhXAFKYaS7C8buxyo8EZR9HQIkTriYgfZ9esdTCQP+BZwk497HmnhEVft8PlrKKnDWBLb7Sk1htzLsuWyqZS7cbkJnuoBaQaf1Y9ra5K0kYlRDWgVRvyRv32boVid9cbW9onamA3DwgEW7hU1xzCoCkiYJWnT9YgXjOayB9hy5dvjYrM22uejxEiY1w2p3igYYok2ZAhpkGeIKbtChBs5ToyjrJPyoHeI+5WSCj9njl0Mu+NJgAq1FytouPb6VCubvcVsQgVOgh5nxpVA9LIGlwBIkKmHlaAsBiUVVlD/NBT+BiJvPZ79V4l3abuxrfVqEIq6mNW+AaKZKIwfiE9jNZfdA8FZhJQc9SwrYtnlksFlSn/3gT6mYEGEFsMc5rEsnwTDz+0XffvqCCxEgiRJRDB8w9nLWWtjmX8xMsssAVqs2cTd/ZHvza8BCUaFA9ZYHAzA7jViSueFzVfyJBGYqO7PZgDtexjarju14PQnjXtDMK8bnIw6eP0eF9mPaqJxDjQ/g2f8gVuA3nnPddDtF6+8Wtu3H8c9TQqAsyio9mMxHnLk3BAs3sKgxeMSflE5WTxrqfg3l3NlyhNAj9+wlNrz3MikJEcnQD16zb8Nt+hjKAR+/zaVxQkKsNoRPLeBPKkqnewlecIrwlCZl5hPiqXGI13/dwzjeyMNDf2jCkqVc/L87KMvV31fczKYMNPqGehy0E0jqYkI2UMNzsLAVXf+cQ+mi5yqy7hwnKOTzyk2/JlgiqacH8P9BK+Fg/qRNxOeRUCRLwFV3U/5dN2gm3hI7fbBdEIvQWCGEI+Sn+sHRfv3fK7lLODC9CKdKW83tPeNVdloDjVyt/ViYQ54cIeb6i8G7/wwh6ODfcLc/XpXIiGqBdZpZmyVDzrkebyaGFPXWvxS8kdV6xRTbeUV0ogSB/cSZQt17e8CM+yfNUhbQJWmJcWQ0RvTqlQreeIRvTjWAqYGbumk0JIjTQFUxygFi81KiHRig/N5YPO7e9iXKUWVQn0BEWa9P4T8jtCIG/0ZUB02AkkCKCYEQXBR4N7dwT+CX7fOGwrWHnLOL2+Asl8ICnYH2xsEOGpeUAYlF35D67tQG1xdmeGu21Qu5cqoaIBmjh/msZCdZOD0UkjoigYuMTW0MxvSivPc9LjnnLFeUDFY+WETnSRY906CnJJ1kqTn/75eCdw2B7XlsCR1KIYjKryVoAZcMJnOGIjPVNtdJn7OWjC+xw6MJ2TibCVwxXrn2lVAP5lwzkn6pbUwikfCGeBs7+mt6wjxYCgrxGRSYIh8XIZDhPyBgEEpoL5hRgTVHqHnvu3/p2fm0Rz2+yNS27EvNtS7cMX8d2kll7cqdEt4CBH4H7YJhtGI1P+ZJSVWtB76Wu42zDjQ2wCt34BMw8n58PBnYWlHlX7vsEVyhPFeoHNlhKs4C7c/gMOxALHc2WBe0SFd/ndbaKhvG5MQOydAi9XOCsWTkMlzmLmmL6cuQDTbANYPHbuZI5xxWNrFL7fL+RkORtvdD47kDFox02jDVaH7FegklCzAq5BEKG8oeA03AqF6QYxY4UwDrsUrbXMnXBLpw6QSielmuzEwv+gkVdTT05ZoNVSQfItAfSEUnu4cqqCl6q6fnhVXPQGVu9DUkbQati+avPVxa5TJ3pDjO2cMYoPmRoEASuCf6Z4vammSJg3UcNxwLJwEgRJC8DYcZsBdAKW9Hk6R2S5/SorPFa4mwmGGwGTZB4Sl0s7e1aO0yD66bqZWIS5PmJR+b4ZlwXI7txuWxZkQT9F3ijCq0A0tiThQj16FDOxGKbNRnp3XfebcF0R80iUvR0Wra5g4ZJsUOgzdPa8W8ATbwQbOopMIBkSvi58PqcX6JOAxWVnJFjllrYD3j8seGvxMfW8wO5JPQk4q0Ch81Jb/ecrmKkW42yNg1KMkBESg9VQAdJ3Y3/oavBlVHBP6loEDCHPx56NpkqRJkty7d7dU0mTGpH069dI4rQQkhOdofl7f1iogrMzzzgw1aD8ny3KohIjg799RbNgxjGnKqhvMHJJkAvAioDFSSlELoHmQanKZs9ZWANLkuQXPxEfcO36RsuMV8d57uO8X1klNuDPnjWpyqX0eG2/JRfohIuBdpx7Htfb+9Oh+Pkl0LcKEAa/AY0838zGI3BWAD+1sikVEuGJkSp0oU3VFpuWCZUt3sW4H+8mS60zUWu2dQuobly7mvnChbTjnJlAkeyVFRYklJLulrl1ueYcIgrXIEU5aVO/t6ia5RrKiDBu2rJzoAjw4spvNQT7uTmoJul/7/+27Q/LB5fp0kDw274pKinAbh1s63fK9CKq8c1egeyp12aUmeDOWNVzA651EUW6i0qLCbnZNEPRJTAV7tOSjZF1vJjd7CYFkKzTvpobSXPicz/ydk7LU44JSC2OnMEtQbErdFkA2UyhmtrUQz0vKanwX9oju3gLzzAmyKxxrDXlYcZgwXo0dQJyiSZeCOsUU81uBvqxYkCvE9HD55+25I4O7L/AAatEvN82Q9boiPJ44/nbLUhKO7VeOMmE/3QVma0cp0cjf52lFrpxvbPBQyAPnai3981ArKhHKhnYdyMdnD56Kv94Z2ZzBElSyB8g6DjF3xdadygTzKzKqHPP+fTe2UxEEYNSeIvTQGsg6UpoAnvaNtgJzJb5DFZCxpti9uGzRLABG2u2bsHjeB1b97TzZtwKHTDM8wzewumPujyEf+XcitKwajZEmjcguuRfaf0eoOg87z2Yzn3DnuGa+PLj3gZsj44Ufr+SwHdgg8BuRHqsBDDej65JTuSSuUeAcXzr5ZVtr+gtlqcfhZWKPOsTf6yO09k11g6hMVfr2hU5ZgF0IkquleVmqfg8DuDXboGirLnixq0q6uOm3H7t52B/Y1YLvNpPs0U8tQxFqsTadmDCbGXIu2K5ocRhkoz0n7hgF3aP9ka2Y2CgwmGSN8iFPXim3KPI8XpRBGSQMhxkj5Vd+GZ7XcmoJbouIDK+lw1NaJDQzPVH3O4bgJ7i5aANompC0dViTXJQQEAXJPQIEAnzm5/IFrczpAUh685f/YjysGlQRtHe33YpySifCMphhWVMOBEVJ9mJBWtz0QKzDSi/ifO0wA8GDBFzaKEiVrhJfQ48Pyvm8MNq21Z+zE4kGAYNkfcJ++/kHq26hMUSeh9q6Tb6e6WXgzdUMrXUYTGyfuGMUCPP3Mu0/kVfNMoOQFaVjqs6Ue2lWCLcpLeG7JE0Ud0ntl5N2waRIiu/PzUmCeqYvk26U3D/i9+TNn2w4i0IFtlv2IHax2CVfpcD5imAMEbyuSuGckjd/WKe21OQrRyiaWr93bd2mvhIFbzHqHN15rrGy1QxG4oj9UogCmGOUQcPd6DlACPZRLv9ALowBQH+6fYHG/3vl3HjPg0qGJYXaexBGBrpZ/5t2SKdtIPdKu8rFU0d37D+3KbDounN0yhAPbyTxIowFuK6gdtOD+oLhbn9TFYZ2ZRMG5it62t43s5b/gOTy7+zK2rfIWC0fFr/RzAnjd8Z+9sN/GfiJ1riGh3Ki1ZqSdojjU9bZkAjtu9/lWFt2vW5UYzbWrYj1V3WUqijiU8jstI1uqt+4qYO5OnOT5JslglVkEFi436Wbq9YSpr3u4rL9N7jp4ixDd9WUKvYdr89wFL/rGQNiYlWU3ZB89zkVAmNKFWcK2Qk9AuCRz4moYBBCdjKpaE3lxTfF3oL+stwUl+1kPsUa9cpjJLv9itFzjX1nOjOlB+3sOTMvZ8yOpgXForhEU9dC5gnxYB4K/pu3C/dQ2d224mqFUFN3uNX/QUE981eFPq9a+ssqELBoR+7hvaiD/SAWs2Sl1l8jsSbnkxUI9KVjL0ftj+rJ9CAYiXlDLFnRIu2z7V/hytVW2hyIbO5kdFmYCEtNexosxYp9MEM+VlbX0zeR2bLqDjkNVYtSfYmOV4HznbftQpOVl1KlY3mpUOokQ0Ymrtkh0HPMY0WofNIY65FBL32wt+7btAME8jPjPwOgzrB4G/xQnkIGTPy/O8h++OD4vhOZkrQkuDXfXddcWo8eS8kt6lCk3a23IjXEDOAc6PQ8e07yMPhgdaoaTbwWVereC88hNUlrO+avd5d5tERGTDLYr6na0+ItX9RxSUCWLzsI+/ImE6F4grcGJsMWWoM3jhE8H4iiaGU2RJ2sHq2HJQ/mbK+v5dhV+YQVeNf76Kl0Tqe/wX3fEsaQ2E7d503DO35UBHZiGgj0Rnc+25459lHHaa42AOlpBgJ5+Kk7SNOmMu2KduUY7r3GJbOKR00lbU+vS9b6r+c/RYLXRDKMM6DwaF2dTr7ASOWvY0Xu3OHd5kMDkPSJK3eFyFETneT1fzzxQWZ37y9t4L9vjxEvALdC1BKBQsGk3w/vlR9T+axyt/BGxTRytCYplzizQ6+pPAtxeWcttwH1Ewium/rykt0kw7p5ze3tpwSM4oMohh3+7zvifxWkHXimUDay73k7v6sNnAxgz3v4mz3qjBPahkFnJNS9/+6Nt08Ykd0KMbfVSXD5Q9rlPNZNOaUJetlcHYoEwQW2UONnckDU1bx5PyZ3MLcDpSgaL8dP685+7/KdPLVHwAQ6Zri23EAWYPKEIrhtTaLSJ0LVLfrKKTts9JdEVFLskQz/OS8zKcSsy0LSCktNzrdVN+qLjvlKFRDt5FKGLIgUmaqhOuTK5HPyf8fDvf38fIvB/sfAdySvnGSGJKQjVs8GPHvkcPh8YiNnfHXygy7OcQBfQhf/os3EHEhtwBcKVH5nywXgLglPGkzUuIg7Rlt9sJ2mmUHiBs9Bkd4DyTf16R3LYoqMIzOe3ODzQcH48EnUY1+V5Paaoib5zI0cA0R3XMBmA/KvRUbFmH46kSCoGEIJUlFSHACY2nxlOQXbUc4d5DvlcZQCfMeSvBc+dhEboAJHrFZhf3sA7tasvMohTdFBAVUoxlcgLdcQCj/FEiVexE/u+0Uoax7tnSnoO3JNByRnqurLj2f5IkrfIbKtt/3EUU+F9jcYsxU7QbRn7eeUhiG+AaAwbIjUJgzzrTS4kkAxIgI+X9U+pnjbEM179q7fCqBffla9YeL+o/qmmC2UaRIzaJ7i+p3KWs0lc+75B+K9C0MSVbpoaBttjNL+U810arhdOVhUmS+0eRRRiwHt+7AL0YphorU2PpPw69MNZiXQaWCcL3sYgNEs3D1E8aaS6YEj7snGYx4n+DlTLnvyHpVr3SGxn7eIqbzX5UA+WWFo58uxL1MPxJNd5YIqqtd+ba5UbxSaqUNImX+78ObWAp84L8eTp0Cxz7ZwPjhASKcUzmd6Q4cHzAUzst2Gx2J0WGpfMasIDQN6j/7Bq4056N3BtFaq1YmjDBxNMYKctNcjgRKUOQDbv6TkRwJ+5D50mp4rSGtEXUEUHmuHNRgQWx2/TxZjmeDQjd/MqjOCQx/XmNFlWtKWxSZKVZ+3U9GN9UB/AmKk+Ptr4t5Wpcmb5ehkoQC/QlKKBcu0ESoRA40TFEKB2lVSatNUTj4iny+vgUv6TfEl3IGyYU0Mo+xEPkhPX66JIQ78el1JeZa94pqyJdHVA7toW63pAOXcjpMbhAByHLK5rhXPOezuxy9ZMlpRo/VQ9P3dYRR+1H0XfQZmXcsFAK0LC2FlVeF5oEWVaK2TrD53UgV7JVMEpK/l3JgW6D1jGdcKOtblJ8Sql6asUdwoQcajoUJU53TP3xFZwO2wq55z1obdKdYG/CBMoUNc2gFzDujTWwvhLrCefvIbmfOQyaOjWlICJGXgjdbd6y3/h7tb6yYWyMtsaL4H2NdeGxPQVAUmerLyEwMIwYVMnkAvI1zYSCQUqd2cAyuwjOx3QZ7/PqUKVbOY8C53CWRH5AtNgkSoo+QfSclDUX2prZL0LSDWRcUouhQdEMC85QPebEiqKnCVcgXHrsEznwitJmCcy5xLPhET4Iz19s5cW1tzVQUXlyjw393VMeJUBOsUxVWOZOSezAmAnkPIhTFQ/50KS2opouGHA0WLCwvQhN8hHWPYxHIXQUXiudOp8sP2ZDH3fXkefiH1hU+u2PpOTOf3JXK7nDHaZswGice6Rina0kud99M+bLRVBj12dqftXy6yziARi8iZINUVIV5AFPnWdwk49pE/NNlRviQg0vjd0CB1NaExhPkQ7uModAddeyIcQ+Ief+WkMVNjorvY/dq5hoPZ7x99dI8vJCwDebET0IROD8TsycfUP7HCJDyRHnlmyfqJ0I5n66218dJl555NHTG37tPXJPpbAkkMP7ZamMrjgd5w7BI/f0alpQsmW4Wxd9GzDXbNNKLKlWNVbCWi2A0gwdmHjMO+1NwCaIiS0OUrW6IwnmMXWUY9tvUtLzYQ49qGHuHmKTJqW2smVs7eMKryDqjGpucmJtAMPb5xIJIN4HY6/axZXYerv9O0fnVPGYEXXEOXXJGsseIcfsFNzJKRzCS/nGMlFUe3EAJuFsR1wLBOQexZSYtokEB/7G/qRG7GkvAkbfo/ZRAZOv1jYUDhuaPytp8gnUkDJZeQBXE/8o2BgX+Zm6KeMVnpFxESGJOqQby/KGBd8U+HCsWzFq9KecCxBuoX1NtDi31dwsFm2LxqHWgdSSJlpY4kiBLtQMrfo+qgvSgSPAIQpOI6JKlY0X9csgfSY21sDhMcsxB89tow6g4699gsTykXAPsPt9enXBmFqpqWbJ+lh5j1OGXNdGUp1JoStWWzIWrO3bqZ9QiDQhKXvNeGPQxGv1r5quf0GMVS2N58h5/CP/Pi2wdrNmXEWWCgFMFk2ANVg7wwL+pov4THklNPmffugDT6L2nXxCJHIRWUWPSSytz5Kl3yw3wbKAtgsQsNUi2pP70RcBHSBZF/yuU52RE62mWU+IqU74U2sOg/KqH2LnZyfbf3n9umriz20qekJsq5VN1O5nats+/2SJskKMRTUC0bdBeH/Z5AkE3YnCxuZfXb4zxadOZYbngnKGNG1ImXVoaTfd83hiVx3U4HrcYvLB2a8MPViDReye9ENz1I2/ZxZhli4zb5fwzyOqnJ42L4i6n2qx96OGmCktOlMmaHMlXUVDilTwFD7xkwGyR+H+YtY+zFI0QR9GU6L00kVurAVhIH7TowWQQ1ZNTwEbyE/b67znRfLoiYf0cWdonmk5QT1heLpj5+r9HGS1FwKZ8np2t8P2VTlAg5EnSkm4bAwu9vDBzeHrguNhCC5ulpmytbkCAmqQNBCaTm/LsSseg3K453RnSAM1AYDIl9Eq4vnOEOnH2EVp0Qn5bQbEdKhMdKHK5ird7dM6EhswV0xuzr24WCVwhkYDaneKoNdes+DENMhBKzQDj42ORmFi5Gdqe9c8EG2EYpD3IOyQH0bonf+DZk3H/WGVkzmWT9/BF/tfVZ8YmUwlrWB4JJw3StpgskowfhO5YU4ZX6qsckxnkSRN/Bb79ZKUdVajy563b/tNgaPR1MbDcIxeKR/8gMUIaKRJgDwVpb2i9V617MflXce8bYhd6FE6Vko+fWs1fcEyPAmHn9pmt89ESgDRGzPo19LyGsh7tfnHO6t0TQVJUS63ig4MXm4QDRzKBCUaHaiKVTAzA8ZspUgApFME56ynLVwIEKWmyIhOZquO8quisIsWqxVIbVn8m9uS8MXWkIWjae2dZ68GlzwLbpbFOD+rPaL194yiFqiu+t2GVf6M1btwijuCajqp/RvYUC0E1fpaGYLnjXU6Y6tvhrJl8Xz28LP6qlj2VmbRPux5DwYjqjRFnrQAweGU7HBJRiCqjXof5IirHV2579xB/QGgbOUn8WhwbJdQ6/tJaulI6/xIQJBsDZtecHFHdjq77kc+QNQ3iL+oiWAE0jqYkJC0sHp2FgVJLvmNN69pd4sfcMwICNr7qA+kgU8UUI0aWMB9sjBwoZfwgLu93euCSVwhDSmptEB2fw7El8qHT0bwWCFkOKij1WvjhtbO/q5SzdPN5E1qW83swf+98KYgK+fDWnEX48QIDxeE5qc3gnrmoMoYF1/8F/Ltds+RnORRXLJxQb0pncYZKxWTDlqwVlb1rmOnzYb4gRQRwEZJ/CxNMyLdqxYneRt4ZxzIye7mKDJFKg+c8IQfu0jqWF/ed83peSXw7RuE0csgwtubI1Z4YWjQTeH4tDrPRzN1zyTLvsC7mId+Hb2H8fNhX22SsmorsZxn7t6f7DzkbmhbjwNylp+ey8UnTy19sfSiEl6jJ/pniIhjWtWP5EpAfFf8UbHcz9lbXxr1j2G/Bw4cyFsHEPiQsGFLy/LTM67wv7bHMCtnCHuv6YyYpgZgxnR+MMV+kOgrEuvt9qP6ZOQvn+c7Bg9MomOttvxDADOreuDv3VNsipKe/+MwnlIGxrXouqXOWabZHQYM1s4PUFmUESQrK8XzNkUnb105CeROIVtnrPeE1PnnubF8AoiaLGiVjE/6vSA3aaUg2q1r7XqaNl7WsxmVD/DEikNQNftxffPEpP90TE4PuwZA+/L0a55/D77pcACL04nBNkndFq1oXocqIroN8Tpa9qyI2U+bP2mZOPXj3fDf/HDGJ42j+RWF6j1jpL28VRP68Vl/afH3oS+OlM/h2c7qIYuSygDXh+FLwzkTf+qIWsd9M5UEoDbvjqTSfdr3U/OJdbSL8LhW8Rlu3duOAxzKSEh79YtxF0qp62uqTO5OG/t1tBDAS54pFzdJS/wRmojtgiVcoUETncEWKBPOFvDPnUFaZTd0Ex2zsox/AyGpj3080HP9PpXax8jUI0CI/JkDq5OEQGVhd9T1Qh/MTUy6+N5KZLONu5Hn/3odPhB8yZOEdxq0LaNBcM5g2DQqqiJqzGjI9velG8JDoALWYcgnOZUFR/6R0SS26LcEs7kzJXh2Xd5zguHG9/gN6Yh27lRitvCeB+foXXs1rAzNvskax8u2CbgEoGIBFeXF34IJAGZN9cabgV9YVZ6S70nnCTj7ITGQKUW/kvIYtyiqWVar7oSJt39vAV1uuOeC1cw4DBRlK+zEtEzD5V6rjT0JrrSOMQd8gVjpsmyJ1B64uP0Kzog4sgNTIzml9ita9HT+e+lc4t8OhZPqyqzrOa30yMN9rfAm8bt8TsuIxqqNfWkEN7LoH/SVu7el9FGEO9g4EtRui+wXnyIQS7gVP1KrD07vvsR+gUksbs9p8zpdXfkpCVT/rs7li/P5gAXb8booUBGu+Z+kUy0Xa5/Ic1zoBUmxTPlsyWMYyRBp+HcHf1Quw4HPIMdFx1jTBRzocomK1ivE/yIfhoeObQ4wUrUOFFPcCT5tY3YaprGWRfv/ZMRRTcyQjK25RhloL5AS0PzRRbZPP+HuPUJKJujXTylk978OMIgktXoYKfDeqi1Rm8gTIziGJwtYp4w4j4+Y4Jml8JKyFwXIIQAb2dr+bPG5e/R0NDoERdpDODZAixC8Oxt589b3WqXU68ZVB18F6gtVUBR6gYHNg/86G+CbxecwMzlv5JdafW9fSutLrFCZl8t+A7PVh3e5B+1kNrx7+7+IxApddv+5oaNjGSBBT7YjBh74fTatysleluiSSrBbNprkogmHfWlVsBR+JQnu7vfOOxqC+gEsT2MAPn9SdW0wMCw/vQmZ6qQzwagil5tj5ydMYpczKm1Huyiw4Svn44dH0lZ6JWepwyqYdkSyQbm1WJenRr4V/t/KWKyFcUnZjRW7uc/1iWP94rtNjmvi8iydNmNvRCsUM+DLravPKd7mARDVXt7uSINQKDruCP2KzvGaL6cZ6R9t6RfFqWHn3h1BzXoxRkyLRtfkhglOpESTSkzVlYfkuclTVhEqmAuyQt4pi0/wCuUHZKZ/Ih/JUIkpK8VkQlkfBW1JcBHZDrjGby1W5emNabOyJ6catmeG8xRZdbFbk5/W77O0XyCj6k6/i3oEkWAW268p9/JcauUjYrjRT0oJtJprv97ED1+e20uw/GZAkXMjLnsBuonJ57atf9IVm0diJxOmyLFwkPCxIb6B17WhOueE3regASsdzhbEupmRJSoGvqKyjO1ttceexdV2gbrJSHZGCP4s9AKgDInOF3Nyo7ABygXjcesTb+0WG/gczfXSgjnytkCcDJIRg1OCAqYXjxQdKazcb98ZfyjyApldfEZCxrOLN6MiLzw6CNuvMZ12ueB9+lDoXFyEkjdnRu8qrAKrFJG6fXoBaaQFt9xbPnoNKqT1z+rt1u8wHQR7MmFyHN7hmvjbMy4LZFB3+zWufBHvPIYQg4aKPPtRkEnVamASx9qnz37zr5hZVp/LPMUDdONefFqUoR1HqP5mOI6UEJKK72GF6p57KPmXWhOdH7n1o6SA3puy7C52cnqrXuK4+FxREYOMv+VXOzAHI9z8hmk4Kozt94/mkxD+ht6dP4OlDDwt8vnBkVqVF16pZlyzfjRYZfQASGGu9jNVuU8r8UkfMLIYEVH4UFdVIIsB8MPL6qilGgMo+/vD3OJbvtE7wikrhQ7tPmJexFxQYWkylbRKXyQHKmDysxW/xMMSIpIvfMkjWNDYPvtkIL6rM5hCwWL7zNq0EWBI+qkM2Y0YPDoBxDbJhKhb5LX+fK4Xme5YM/hnckLPJdtEZtOQFXJWgvv0QyHY1FsXJxISmyF2YlmoXzG73OBRIukCGy/gcchp04KHXuLA2Ylj5j2H2vmsXc+UEaCNCYOGcsvtt9j+94QbbGKZClLJWK/Jenomwe/vCCNOKSIkqy4ufS9H10Uh4wdNjrM9bnl/1a363DunLnwUibMTvFEqTtmlQ1GKiaSanmCpGbFYtfl2BfMgjr6AkJ19MfgWim1mnYPbL6S9uBgNA+zDPZRcouEqCqsTk06b0RqwkJSLIsTmJCNH+QYfVmrORaNgmZXhJlNg/ZdM/jF6bsJ4mtida/sDhV7GNwyh2Lw78uONf7oF9vv5AIDiSbfOyzAWGzgYMZCme42ipdpd7GnGkAbmRAlRUWYQW7adq3PwRZxpJUVSRy764AZW01mwF8CP0GKipsgcx7F7Xu6fHGykr/Bei3Cl24gJTY3M5Rdm39KQyLDKSkarsfpzCXPDzHh7tkS/ICt194QOeQ8xFml71KqLEy+Pk+AOJO0jsPzSTrwGuvZNpzSkp9LhuG8scBTCzFdazfEopHCRPlUMUuvVPYceiyviCGW6Ewpv6zRWR0R+cQzeXH+r4kRkgyuXizjEKOFHGzszdB3ZCsQCFMklSjMvNpN3zZsBhCh/0GRP4HfccK98GUztB0COSAKf4royC+qM1Ken54Ut1AfkoX6fyPDokJIPrzIya3yPXoYviA+1NaynmS255yfTW8aDw0j+1x/KoyyPxC7GC2pUd5G2IwAZi3vLNxt1I68b1YhbzBWJ32tOZzGMGHj8URDqpA7FvfwXCpl2BABmct/lSk8g781PnOHCPhnRTdKkQvFvGXG61LRJfxDvusFrMLhrhbpGK5qXIW8zoBKsKjTDRwjyiNoK8E0xp0fTf29S+8GgD93iGdwy4iKuIwhsGTGqEZKK9z1nWMztfRrir1PBKMk8+kp+txOi540HcnXwUtSMEj9iMuh7kctSCTrdGRtma6EzEmhd7N4n1if+9LLoeO4XW1NDwIXhVLrA4JYogMfc8EN1JMWYprKQevD3ewmlhX1dRpKhX7RS/h+XhlZcdkXj9EyW2GHf3JpK2XKBiZafzS5P9XfuVxpxjX7jR42J1ECqy/fly9P3Jjx+zIvUOvGp925TpUGB95Wl9Oz4EFoRFq8y0si2FyQi1iSxtA7GvKiFCse5/eB6NgefhW20yCsmQ3I3XsqrMDW3zb4TRGKntULDT+fkke8lZcTT/pT5N6Q4flsNSnghn4DFA/qPyoTKAKI0WS/kCoa8wB9grQeSQWd38eKA88LDCbVNsW9YgFIN39MQ761X9rD4wVRAqTxDJX1eT3yEoN2rVgctc+2VivzeWu0bYswySOF05pzBEMrJpLLl71dxOmCDQgzx95EAoLoTjXoIq5opWF81dG29ArdUWHG71d7suwZuK/2Mc+HEzhB8uaZ7drRBZJOpypBQd+D+xc/o/oAjCKAgD9KaB6rkTNACBEjltvRzVOnkznlG/zgAYIj5G//DtzFXlBniqiJz+J95Kh5jlJc+gx5yPf+CZ3uLOr4VBtqC/s8g8KYL8DoKPXs7F4jSfhiXKhHqfnMWxh9ScYU+7HyCQ1I5TDJxEjPUD+7NhyeqwmmlxT8p3TXQG4vTCyt+pXdMeb7KtebHcusw4EtQSPEdaHNgm6J/IOSPUIVKYxrr8dMzbGtj85qIdHjA1+GgaMxvoDzz7INE/kSr5P/xEyUmzKmoDIcErqkaztH8X7Z3zUDcmfc72QFM3xkC2a/c3Xz+GAKMpx8Ob7Ofw2x3fzXOEMu1EujlBGmaJX6nY/H5Wb5RQ40Ep6v2uz1+104MsBVLBaOWksLH5+eRkr70dEAGvGGQRBjqXliXf1TYhRmBLLrcLaFYj1iswEf+7TdNHAcDnnux0OpAHQX5j5ofOkhNNAng7xHGO4huz24LgxUnLdPqS5oqjj9lxhghZAc2jxDbeNpaTT/mMddFcbeiCMPe9DZJWhQAfrqj3jYYHEvXjBgneQGJEn4B+qj8z7aJq39+1dvXO/Z6au/quLDcUoG0bhxx+BIzaJ9t/YLUHyC0aaLW9/ci1kgDdx1VB2LMBue9Qvrwn0z3lJFJl9sHIhsZZ7L92AbPxTDRWpsfSYHeT3d7iuZOHgQcV3y2+I3kSoX9lQrnr64jd722+N8YI0gKeyXJgCNhHU4+xu2lBViAJzOgB1Fyg4Gkw2s6NlFNqWACZuWoHO2QyeDROTmOr8RvYn1tWy4i1sj7Yf3KrpEjgbHW3SNGOLKMDYiL675RJ3xQxVzT8lgZ0wpT/5VpxNBk8G88o1D6G7WaH6q5QB3Oc59JxO9b2bh77py+NCltFm/YSMNiHKSAIQ+wktswBuiZhoSuI2Um/O7jEom65Lu9p3Zxz+JwK7JSuh7WFHpFWdBRAwVPLO5xTATcv/8kxGxYbjtP6EQa44JEKPT1dph26uDOM8P1NLxs1YRxmLgChq6q8AwFJZJUjuSG2y4TGKne/Yq3U+ArdTkSiB+lyncX8TVSwnkpweg9sQodLjHajnobFLJmlKSl3k00iMOKvUxFzS5k+YjGTRw9ZdscKAiCi8VRt5IK1gUxvKNaPptOTf39v7ByVR6hCXErONjWoY1xgDKWngwuSYWaE3i8reE7n237UKURHgQbWnCwVNlKHj8kXvjDRaa1wZaVkOkbpvHQP4qBXuxInTO9o8CZuTCcjXseE0wPoOATgAE/Wnh/E3al0oK0yL2rJjaQkuD0mtk6p/hl6wCQ3pylTnLjBuWR6Hj7lsZMQ72D4atR+WC+aW4/9M7Est0h1/pP5wh4teqVrdKYcvYXEU2VJnT6dLi5CAbpjUgAOakTN6FEEspljWGlsJYP8UAzCmqy1j9aEsHq2HNQ84Q9s1b7L/MN8q2XxJTnFlj8GeiYxR9lK2c1AtoYx+HXWZqIlsO6yLbadrwHw6ODwwJOEU+eyq7mcah9CWzpG/Y5Ay14qQj+zc6UJPmpIfepIHd3GU9V/Rkt8GTCD0GBlWcGg768UHqklCK+lJ2KWSPOKgG26VJmvpx+c7lyirHkVYySFVoQMfyiB6PXjhrPTOVfhdAa7ZQD1AKUyjaZC1T8Sq4hJNSL5FDiLUw+CkjXMCO2dXxtG/Nc2A3ZQEKHgo6EbpveA40rFPoNoLf6vpvzoZOrVdoK6xxje6ZjyBaQUr1vTCftmBTa/GAU9XjrXr+2MgkqRgOXwgJ99oOM9B9aYgq/A3hi5uYTUi/wSyzf74AMhhq+V3z4oITQK+pAVYxEYkfpx6gpJfMBsYYy1V8E6pdRS+ht3u1FisbT2f0dK0UgIDCjtpEW6RZgei2wUn8M22jv7ln9+jdZ93ETMUq6I+oKQKwaJN9F6IW5TPIYmA1R+37AYJNGTTk+b08M4QKQ48bSHe9HYX2HDUjoHyniBVmzWtEqvFTog9/mR+MwCpPifdyAZew4WAVUv8HNErrIATydi2ama3WV/9Dg3SCPFQr8AnHEAepWAMizUxPq/MNTlHRq9P75pqGtaqixYFP6OW4JBW+1t75N2Z+AzUACC8RtRBXKgZ3ZRZHeAtj3GTEHtNWZsBafvPaP+3MRYIWV3CMFp3Wxplo0yhSaRlBwN4QAAAhBBmiRsQr/3zMeBkRtl0iATy0+FGD208vqS16EDzVrBXrXFEah7NtreuU2NabjznGTMhGBRT+EGMd7kaIc0DoelSkTSXnAF8BsZrvNZQvygQOcf8WoJNrGwKX8E6BFewS8M6ER8sWXtrfpTMCcLpTWg/Irz/AkhxdpOxCRcUD/F3iJXXka6Zaqdag4oyv4YQ+pFA/mAVNsWbn2L6JTyQXI1t42gByCunt2HmzS7WcKzUxqxeewAM6kYhKRxiSGfQ0JHBpckgbO38veNcUUpKef4WW+2sDfoIsp1sBrk5uc6qLcBNLzCY8gn2LpANq1OuZ5ZBoOUImBtdOsbQQdEkHV5m6KWm43MA5JPP4U1fXprwkTOjnH1lkDX21jPnLZ5W3NsK52LEZy8F70tiA4zQP+oAq0RNjJKFjEuQct33Jq4ISZbh0TuMIPiVhFblDh5uzz3LZ0pQd77UKPM/e1IWC1oHSNRbsEVNPs8iTwZ0lmpjbXKMAfyrDWUrUGXqKfyWDwvGMiulL6YEyIn99656kSzH8/6G3zpKdc5Vui0hrF9V5DaRwoxCYZeCuuz+X9DYkMrAz/vFvDbtAYqy3R4tHMBsCRPYKcf0zJedinznf8t0OMWjbnnbeBBML6kMZc8k0UUF0JUOCC4G4zn5WFxbmvyJzVjOckSxEVwr8qOhdf3zImKWO+WZm3GPTpQ6QQsAEAAAAAMQZ5CeL+rFoYOCrdJAAACWQGeYXRX0egF9EGaQHRQkB51y4gC2uef9G9iPAScsuXA4JSQNAAZFozOTz+QgL0M+g/VCVZN0g5EzVc+67XiAbNdDqWI0fr+d6J5Iv59cU8RMAiHuaI8Zc3jF4GFnnJcNJiZ/HQ+4o6gfDKSs4y5cPBh0jpXs78vdm6mp2AmJhokIvWZwSt8xYjVKJsbenK3vWGjIiiXcjza08gdwdnlbQr0ou6px4Kf6cc49NfpYJc68p9LvzcYRmnWe2kx7l0XMgBlZ8uDeNUiSDmtNvli0ojoVOfEnuSaS574y7ojNJDDVK8mKsgIfznuo5QzV4jCTLWIEFUNFaQESRJxSnrTzyW5CNGVjZNlCq4EDPro+g0xC1sowLeI10G1ZO8poGxBzMtU1d6JkRv0M76+SeRABaTCjvDEyhIzVVA8BlVnkKacsXF2EXQKyUt/ofh4fzPoO+l5TTIFeqhonpALZBDvlFeU2W9GRu0m4Aoy0kZELQO8UnUizsgdi9g5HQEfzUJe/dSsIfgeAYtoNg3IGOnoheIybEz+GDa47BDh6vUZOro/fZoTk104aD9SKp4UWG0gHDbfwy/S93SlBl7z0wC5CnIHoJD4PTxa5DsPbAhmMP2VBg3j+IA1dg5gPh0HYEADnP+OWD/m0ZvHj69M7gnbWWm52TLhKP3ZXR4CGXiEao1FyHKIMoFlGHk+k1XZoYNZD48xkWmJ5dJByZVtcBoByB3c59CFPjZ5VssBqOXZcwkNjGPnKFTSSnCb4NTBh8G85cw/cLqucZGTibJpzhRMCEKz6Gc/SdvHEdAAAAAIAZ5jalcAFtEAAABDQZpoSahBaJlMCE//+eLf5JRMcXR3uu3eKcljGKTAjP7ALqbbrrLGQMEuxP9C1z/gnSfXoaKeWCgRZ6PUzvby6WLyzwAAAApBnoZFES3/AA+ZAAACaAGepXRX0egF9EGaQHRQkB51z0wuuLOgt829iO6q8q5lPqkSV7A1SZa0BOqz8IPykCub6OH6AJjUDoTU//AuzfTFH1Na8QLZrodSxGj9fzvRPJFvc+nSmCJwjdtZm99+jvnjxQGmGekJLC4uHEnlTs8bKKF4XS4+GoXNOXk/bpSTI3oXFEg7AUUs56R8ICYuygvJ78bjsZ0nqKtJMI6fULaBYIRtVMO1jttUJEeQM/Y4vqerRKsKBNWejnAy4nyUsxMly+Y2u9TPBFZk132Dn1Qku8vM3KmhluySj/oaACde/tuW1pxAGJSm4Uq4s5Vq5f/YC/HpCnoWPoBvT6z1M0pDmwWj/FMXlyx0UlNUm9BJp1bgt3/9vT2eFoZ9dH0HVvIQxFWcMMomClERUxHYaxVLnci446K24meulJ/XAE6GdCslJlB4tqqmYcm1edrsVzBAvbkSwsHnr5Oh4TL6RXtClX3gBlbvf0BJy4unGMis/Lgyr2bEA6QVVDBHcDvFM9aIF53U5VztK0Mhf/DGKSaZc7hZwPdtcnYxWlQ4h2QF0o5doWh9XspN4ZzPC/ZWLwcc6sf5Yw7TeZFmyCC9erKby9ihepWMF7JUIIhlmyNqSHwlfK14D35nO7mS/XjeWIP4gDrADl3P2yzZBOESk87wmeQqvm1CfDJrvyJnNp/oYRS0FubesS+hksIK+jfX35LHyp7hh5PpOL+MuXq8OO4yLTDMCSzJzDtajEmlckVaD2kE1TPKtlgmp2vwpuwHC8SXdOAYp80AIDbrXwH/c06LvxsbNsoQqqBJ2vjynEE/S5rfpO3jiOkAAAAIAZ6nalcAFtAAAAM3QZqsSahBbJlMCE//12rpdLTO2PyPHHbKFyj66CTRdNSCDN0DhBv2xGbAOiH5+5fPHglv7a9by5GeZ3UoodSSxMgllrgbNKxY3vQomTXu8m/H1+V8jebzQbSxgv9YQnp1j1TCrbHaz7/ybqxY1F4bWA7tMezmxE84s26f6CmOhbzkTmII7uqW6YWfYKi1z70CRhs4XqAV9OiL2g2dahw6K5gNoEP+CaKa8qQyVSDzcWJdj1cCcGZN7Q7eQQGedr3nzDWrZX0DNl0We1c8dsltcLZMwPUKUdOqCNgNHKXqTQROGW4z/zUDQQdaNYMsAAmuLuk3bHMJRrBpS4r+lIqUDfrLmdqCIUnqn6fEK9NV9ux03HaZz9iA0ncUHnPmXjplZCZ8lU3ySNUtYt7nOLJG05pVolOKZbF3BY1VXyvtw28WviOBoRWpu92FTWi/f5/rBSBn+mZGwjl7XY9HNMB3w1acB5YauCNgyrMNqI4q5HwUO+uNPcsJTnmJLzsKPaxEBokGabsAJBNpJeA17NQkqbNp5Nxi25oPyppBfRp7ckxtTbQPT58MbN3Da6MWaY2njV9xYj/ZFY7v5F0b22srGTWe5sNdbjYfQMXvAW6vcwHUt9r99gtnSbEpBWf5KSBuKeIxXcm/CfeomZrBzpQLFFtiG6apuTT5w/EN5y3cXfKAikurS4cQcL1NalvjbP1oZ7FAjlu97DR6RfmDuS8zhCKHNkshcyiN7pKp6+wRMF37khVi4mVQmn4gD6JX/HNT9loJMQOF45eJZ0zGyvWojn0/92yWTw0kAdCgTZWrU3TslQ0/OkDZB1rG1uYvlyFvwDzMIc9Zd8Ur2EihWiRgaOyJB1t5bBuucSWRyHfqONdxHemYJuR0C+Xx1jRBHInipH8guKajoMf0FzdEP7FVoK02hnLMMxV6sa2VZunSsXybhlHWSwLKvH1+XcIeo417IKyxZ7Q68UuS11WcKtEB2lkYQokIwBFW+DGpM0ubIPJdDyd3kp9O76KKe/qEnfSfuL7JcdQXbwIYYhnWTXNiW5yFxU9N8kXS5bfTf5jO7PxPFSrf4LOxCf11b4+vOf2MabsetCdQ+AAAABFBnspFFS3/yPSJek3z19I5zwAAAAgBnul0VwAW0AAAABABnutqV8oHUUjJCwKLtyJAAAAB40Ga8EmoQWyZTAhP//3xE/dyWNHS34qZuN/89EyscF2F2oFP3vAhw6EB/mRt7Bh4ukYgH0wP4Ww9Aq56KbET6CInTotJu/mDROIfZH8tVcBFQo+5nMlD9jN1l1nI/63wR6AHn9zwu2vNmvsFP8oqSBPbmdNpugAV/kS9uVtcffNK65mgpK2CQCHp9/MVFLid0rWD44QSlxgfGonNmOwVKRU7L0kWNcHYGXKPWGxwNSwwjqxV0HU+WqrKdVw5mNvilclH8mX/LvM6PJDUM5u6rze8e/D8p57i0dHz8flY2rq6i5B/Y6NV6CFJ32vRByJaiiqcg9BudDi8XX8As6fC43V7X53aHed2w6rONuvsv4QeCRFV5oSpKr/MAxgxY/8p9YkYmFdfRncMaDACKU0apA5orNuHz4sVusqHxBJ4ACFw3qdEqUzZjTJkCUZx2OROLHf7fqjFiPPiTWu+GdmyKBgF1FXFWimTab7YuHIh+B6Dl/6irMpAHdAjAhejbfmLpN0u4GrhcgEAmfrlzD8GcmECSeNSaEZsW6CxVRtIrhIZZbTLAWRpC0OJE6QOXDCghLRhW7pZx+mW6NgEfzWiJqvnMTBCQ8xksmREKEBzFYjry1y/cA+rv/JMbSFtSNBMEbZHwQAAAWNBnw5FFS3/CA8NQdCglsKKlgpamgyBnSoT/yECOSKqrVsxYnmV7AOKUgnVgx9wTqg/x+RMBdLP0kUaGz03asvoIojS+S+QckmQ9BidesM8dNX+UQYcoRPbAchUNR4ikBhUeIpD+zfUbpXO3KHiKypWHLFtver4O/XPVL+n1SdmiK4NfSTF+gpuwYQjkzvV72ozv/Pt0GEkbMCoRfKiqy96btiBImIbYNjE4wrokBqeNBDPoTPBBlk8bgQQu/avtEbT0X2Q2Hq1Tyy5rRuTErbHXQCJI7WFfmdgHFQc4ch4QvOtmkexOT98VjV9V3ptNQKkjjtPooKTl2XzZq71paaoP4UEueF4raIGjKspRdOMVtAfa7pVOJwKxunV8waPCsW1kRujL31luzwx0KROa9FlhGfkaFoz2QQHl6MsZ44n8QxErcmPmEATD3iQA4ZPHGkwVBJ2pPG9W/3iAdwQ/hmbzImtAAAAFgGfLXRXC9G2wkv2t4Nj+JVDAlihIjsAAAG1AZ8valcCSD/o4oswSDPBisOHbozadEKyNdBAUe9HaFg0AG/060bV/Hl3Ka1jcajD/FfhLhHcxqPVQHhfSViOLmkLpyCG0vlXY/RXidA0n/P6ESkXLafisH1fS7Z40MNozxdZqwCwA0H45/yiWv7vgHiIdnxXogOn9SDjBQztx+0lzOjYmCp2OSRHzb7vI5xVrnKxJpetJZZmZOVcSymsf1mmDUBU2aagxB2RvkvRZDR4UN172vpga9LRH7ZnPL2jgFkK9Pvzb7dk5wZdMW2jPli7SQzrkw5oAj79Qp/7j0XHa9y4cHEhibWcMRb3WP6o/VQxHXVpdJMXpXYRhMvBD36Z2EQvtzfoMgyPb6cPOB3TVLN5RoESdwgCV3Nsy/qlPPkbnB3HGnTXdh5WKakMfeyiq0NylOVh848Eoc6q0wnWAGkYCqQEtz4np5WL3S/fosHaCc/AdamzEl31Krxp1C+Ijk5s+ayn43hSVAH6ZjII/acz4x4Yv7HK4FTmOZzWVjEIAfAZyT6xCFy9QdpiPcGmqICIcWFieAxG1S00oA0mPbpkTTxMzCt7S7zEVr+M6J+yhEAAAAGnQZs0SahBbJlMCEf/1AxyBk9LH5rj1URK0/Mx0yFWP+rQXPoxViPdIUoLWxtR4n0nrRaIDRLM0CfuJT6d+r4zc49Ov5I+4oS7YedtkJWSLZBXzOeXTDJyIlSCt8zroy6GMp3K+yKnZmmxdvxJ/ud/p9Tvq/EIrWYPHQ1SBNg9VP2Tzw0rmjKuk5MjiUnn23Dok+69NkOuF6A1QOOA/zrUJkDORcX0sfwceEtA7oIDYP3IWLNXRUvLDDSN4JVu1Qca5hOsgu22xA7d/wyGGfO98FSxTGdMmfpvDpo4SV98kJ6+NIJkMt9m0SIa0x8sS0UTlZNzR98SKqLDnHpfx523oCZXVOAJ7F8o2g/Bt/HbL61/8lILV2JPZOKAqWcTiciWSLieQ/WiE8CagFTgiUGWtsbOnF89VLdoqFYA3pEKqcrgchnD4FjNvH81dBw5EtZoL3sGh/ytPlpBYjGZUoUvPvC9hnD9Y66QH1n+4kP4E7z16S4cJKR5SSJ7+XOx/QxyDjudMK8cYLTnKsa+dR41l1kxhbPU10GmEwlRSeD+FDoOF9ZyKdAgAAAAIEGfUkUVLf/I9kaFjDc0zVLVjYSWmoz+GqbyMs+R5bkRAAABWwGfcXRXC79JhyXsgHVdjjZhFPhBVYE1v9vh5J3yboPyQAniZTUeDTy8S7GqNqfHlo9HbVjfTKGQ8T5zFcPD/YDYWOtbb+UUMBr5KnvdKnvavl5n9+XxqPuVnJhewhVdA9UsXrmm+zzr1drwypDyfWGvsTFvH6ipWpHxkcMpEpZl6OvdO0o7pzstRqkVlk73ojGyQdNdl7rBead+Xe9gEtO5LySBv47g/XH23J5Ik2Q0TwT95UKOiSP/9PL1eUzHGN+pdfnoukG7x7LzZQDVKW7vzmlCO88/naAZESTcSd3OWvsNpLK+v/iff1Rxroh/HmTEGJOhXJOxkN2Z293CnnMco7u71TOZ0bmLQHtO6/8dbuRMnhMzt3/IfRHAnHT1yDl0Joclot7uEjSUxypR+gsAaVx9e72/3nACzw3yD/VAbc+eDW8X9e1oEaJSXTYeVgDgvBMbgt/AOrrgAAAADwGfc2pXygdRSMNUFLibTAAAAF9Bm3hJqEFsmUwI/84QDb8JFwUFncljfiSv474xmkcLmldGEgju49x2mIWar3J4rY/Jncoj1OubV+NQnjp2O6XOdvq90OmuZG9cbCEzb3x9WQshMoKxm7aMneKG6fpQvwAAAA1Bn5ZFFS3/w85ZAAq2AAAADgGftXRXyAWomYXJhK+jAAAAEAGft2pX0vnHVtHbImEjOcEAAAFaQZu8SahBbJlMCP/8hAE7LBONLVVAmKF87OwyOXmwpqOsa9MWY9VUNZcNfOZ1R97CcdQXQoJtXYTWHDaseW7FpyxGAKvz861GW/7r3BB4BPxMHf+oz1xd8+SKsVM4oFpiIChioqEqVjs/CMkmJONa9rIZVDALRhUDOqOQtS9L+pJx2ya3Q9Rs+PIduuWuZ0H+sFGhFkhacFA1yI47AGblDjI4BaWcG5edPBJ6sTCLtqw3y8VmubYLANry1JVIbOLvBdxmyVPqML7FUGIItuzykHedt9So85GkLzoOGW83B84/wn0LnNWgXAfWuIupwdBpwUzvJpRvc9eDrqy9Cty8BkYflzFLkSTsPe8afPFBkWlMauW5aO2MTo8g+45lSgCWwRtuWfQoUgKNtMRFztgQ3nFqS0NMlBK+1eKr+3KQvg8QznDV2mdDHuY5DrCg/n5SFhIMWXx6SL793wAAAY5Bn9pFFS3/CB1H0tTtYB1cReT7JrMjqELZbkU95eFCPZ8o0f9oAYqwMicPXGfunAXqNV3m5GRJXHzfdaDrPuAxez66w5kaK0A1gWfAzGvxRMJGr6C/D4EeKZJAqTBnMJxhg1U60EVkA/ZgOXEj44ENkjPAepGnvLAQTMIvRn4dq70kwbxhB6baaPP79BuQYg/pBl8vyeKi/ki2qnotQoe9OmzbzdFEe15+MsBBgY4OdcUAgfkgaN3BmFU6VobYOIC7360gvg86CXqKxutL5fdmMeByBO+JJ7SEbkRXjwFQG0wxpWrH95d+k+UD/tgaqw4SgC61U7Z5QssoTEEFMaUsEBkh1nhjyPxkkilnJRUeHkWFSc+PO7YNPfBwRdpqvOa9iD4HJ2bS+P7/EOIHX4n/ncMMnSy+EUXT5M4XDGvqOopb1/RtD4w+F1ApPulblJgNXgTuHTyAThYUZx/EtHPUZqJrpMFF4hG/k+DuIUVMfrw1rCJ1hXcTX0GWpVANUNx3Ktru8jgFa9dfhXqf0QAAABMBn/l0VwvRtBE6XYU3vR4IVlPgAAABYwGf+2pXC8+4Ca2gcbtwBDAQwddOq7HG17AP1smpG5Fni4fIbN5Sv6XbnxWOhERP5d4XTUCuh5AwjixVAZtVLvi6WvG673UKGcBikR6Wu+ZYaQ22gY+okzUZeuEMiWN3oDnOeCqk6p7LbfX5h6Z9RFhUKRSJINBK1Mg5DKxZERdO/cKSNzwl8sN2w9yZKHBnIfoF0JwUPFTMLYWnVIC1Mqtfq0hefd9bIdxgf3EGo6MvyAhjyNHSsufaznhISuoDsISTUkB43ON9Eo5pyltgGNqlNLrqOcjrY7DcNHL3SXeYhOZq10RnCrafDcLaJHFQOR7hMN1OQtD0bzkQhx0k/mF9S+NEG6fzocjgI51/buyzTbR71V2G9W3BVpYvebGHlD/b+3jkmSdyx4QovMMOg25x1TBW2kWezIMzxUElPIfzRaE44CkDGHadEmvLAC0MJ1NZ2LS58vhXKRhrKxAO92lx1T0AAAISQZvgSahBbJlMCN/6WAKC6hyZeRjO8RUaVfbV1xMIqXWFgsM+hbhTPX7Nor5c+KrwmuC7n9QzNNg2oyl74iv8Tqyonrm49UB9751KJZpjQ1FQv3T622fwIiGndLdbD8nMnTRV7dP+/vkl4B10LrrKZg7zWWaboHxClZEx6FOVPp/RIEzk1yAxiNIbL8JakUFPQRqBAKLuwvP+PVai8g/8pplK6Zp85suJdGAGbgHXO+z/AIf0ldoF4co6x98YzorB40FFJeJ6IVghGHvdLOKH8sIwc+St8kgP+X/N1h3BV+ZTxV3wKDFFkVsBqj9N0smYkO5xEx4XvEWKRndgXbb9vKGWIGKFZHKIb6qMVQoCRymRMhDDlvfag+kUIJIJKus/R7KT4MsJzaML70bqbWuAQ3SklqMlbaSE4ro7liUsNoYrh5ZtjbqBND8Yz80vhuZFt3/0QXv3Cy80H9874bdk7VoSl861favSCq1CpOKs00a07/qmNAMPLXb5E9fRVm/1qJ/A+Q0167SSro+E2iJpX8aOcp/WOh58BaDn/5MMzhThFUngL1mEQHkfit/3qJalfxMcJLcahH6HngGFAGszPOGOm70kIx26x+KgAQ2DSndtlZVSXLn+rFhXOK9PFXvgwm4hAV07MksmscLDY8Lq/SPZySi+PN+CTtK1C0UL6UuXF3sPqDLI0WhXApxy4euLlyEAAAAdQZ4eRRUt/wgPDUEGwnekw+73ECdxC78EUGFTp3AAAAFMAZ49dFcL0jjsBPUrdyXplZfr4EnjFSbN28rc3MryjZOmpQdVxv3KbQbq/XOzq8J+zKNDZ6bpQZe27xpfJfIOzKc0yYmVYwIr61zvBnSWLfTH4nCU1plnPlv+K8SF2b6ezkVqTKWHYUUpfcvoBflFU+i9WY6SpEKdRqOXbI/Zdjk+AogeflRCZE/gkcWJctRiL8xZWvmyAtkDjsbAPItlUJ2PABIasFGLDMXegZ6X5v1F05HOoGrWb4+malBx0MibR5v8MXB3Ws/IdUIjoR4f4bmot2uLNEnnlQGYbDr4j9wL5nPlIGASWsOtxfQele1BrILrXJNVC9iWYPo/L17M+Bt386RVm7//nGdm21M7avk12vkTL7KqFabHQoyEAnMCJNpTfDxPjnCxnch1GVKGy4OyCYi44l8EdL+Qf3OOXHN0eXdlHSZJ50H4wbAAAAG5AZ4/alcE8DTsHLw9YqIM8GKw4dujHR5CsjXQQFHvR2iDp61/aGV/Hl3Ka1jcajD/FfhLhHcxqPVQHhfSViOLmkLpyCG0vlXY/RXidA0n/P6ESkXLafisH1fS7Z40MNozxdZqwCwA0H45/yiWv7vgHiIdnxXogOn9SDjBQztx+0lzOjYmCp2OSRHzb7vI5xVrnOeIpiLcSScZkJXEsprH9Zpg1AVNmmoMQdkb5L0WQ0eFDde9r6YGvS0R+2Zzy9o4BZCvT782+3ZOcGXTFtoz5Yu0kM65MOaAI+/UKf+49Fx2vcuHBxIYm1nDEW91j+WW9Klnj62ZCZB0CCMJl4Ie/TOwiF9ub9BkGR7fTh5wO6apZvKNAiTuEASu5tmX9Up58jc4O4406a7sPKxTUhj72UVWhuUpysPnHglDnVWmE6wA0jAVSAs7vE9PKxe6X79Fg7QTn4DrU2Yku+pVeNOoXxEcnNnzWU/G8KSoA/TMZBH7TmfGPDF/Y5XAqcxzOaysYhAD4DOSfWIQuXqDtMR7g01RARDiwsTwGI2qWmlACG4dLmDCFjq3sISSIo65qson7Al7A8UgA7OBAAAAEEGaI0moQWyZTAif8yAAC7gAAAFuQZ5BRRUt/wU3ie3BclUiv3JAq63/cYEsxFYKZH3BXHE+wBp43AhMEQB4j5crPdnX9XAgAFNhmMNlTbEo9kgZ1k+hGms+Bn+CkeWiCfIS6j2NUfgvj8Emo09bgGtnTLJnnnisB82p7v/xMuWQXrRIOkH0zvSF+PUbCERiIFtP/adgRowwni/d7CBmfUu1dJfj9AW+tat8ELhycTX1gZmi56+9Q1b1Yl1ahyj4zKDKxbjvBMFAo20Ux3HAc9lmdxamALV1tFquoA9kSK+PZ3TKRZunILMxhUjbIDmSYz1CKDuehfVoIOr9Gpq68QYkGp6nldIiLA3aTCmRA2TxSYEP6PSXpUa8AXJgQGdPA0NtrVEmQXD4b8ylt4gBY9HNtpcdEfKkfAtUVtNOl6g5Y7IYPnhJe/HN6odl2wvLY1BCD71jAO52EJSKvA3BxdetxXnCn9CsZ/pr1szAlA5qf8knlZBFPz5VA3Uk+ip24/ghAAABVAGeYmpXBPAvhgTveR5jvi9LgH+NJN1bJPF72ZkiQF/zw6yqBT8bgD2mD/VUn1I5cPLXNhz/McGMyZXa7nPxnRj8R814uMhT4aK4eS5i+1BteAeT6OqA+QKZUgdRrw2sZDj4ZOXTKPBf0iPe3k2n8v0Ttg0yfJzBnYfEYV6AF6BkKS7mJIJ0BCq6Fj0zDvMzIailICPP9Vpmkopt4wlm5TE4EwNZhi99BguOmVHuQZsD5upxT19CkWSwR82Cvu4euf4Amh9Q4jwuUkzUq9Cu5xABO8w9R3JqZlY57O9FF9hJ0Tivs3SF6YkUIwQTQ7SCHViNsKzCOcy70FTYnLqTd+3nnT7kLoCR5BT6nBn1fy+zubcmdE9Dqd2QxQ+Dcd5wcQ2rpQ3ojmmXqKz4O4veErvEQ0uZxQX9E+ALawqPI7vuW7Y0bG/SChylHguXLV9+o6gd5P8AAAAQQZpmSahBbJlMCf/kQAAj4QAAATFBnoRFFS3/BTeJ7cF0Ed9a0D/+QgSTwVUxkf4KmvkdBuRh/g+KQFzy5We7OpMf9Nc7fdkWfWglO3m4nQQ8vk1aSythJLzDcqXxnndziiDFeBK5BqHXG0wvmLvNH5oCZiIGtnTLJ91mCupToryFrQv3lpD4uITvZ+VzzyQNABn7fOciavgPodwyFAetDsVWiXuOeFEGw6LiHYDDSKd71ksyINV652QklCVMJf7axYPsEFZUQMcp/A/iKP8w6DW/MCcjJ7pR3S1L0/agAgKd28QmzylK3+bDdD/EnQe8PqJMou+yCXWoMRhwW6g1QCcE7cUVvr0L3+2RsVyzWHdAFERWRXlYTSKlHQMtELxUkanuWxSqjW6qv8I3ixrqTwjNI7xLqMQPpA1sU/6z0p0SMgj8oQAAAh4BnqVqVwTwNE8fFtZIX+jASTwVUw3X4KmvkdWmRh/gnZQ/3SlN0RyN+gFF7xzLontIToa36XzGWPnvnirT78lLY3w+T/x3/ExDNK59fBPpq/kavBfQFEbCz2FahhYXig+n/1WJ0I+dBfBbJBjslQ4hyuc0SAJ/pKzCCh8FsIYFc8YW1oA1QsLy0EkQ6ims0JEDc3P6UE6QYQWq1vh/kAiA3D/u5F5h5yNRwuPqPOvZ9fhYiTby95eWlGwZmssLfgHlux0jB7fAfwozIAjTd4jXXMxo1udEE0BYoJX9NXBiCE9wAvSo4CKdSU4Gpo6KTcA5DDPwTl8NIBIpyh/4xfjiMJ3bbYrdLD2XANNeE1hd/FrB+h0LW4PPbNn0YIkJKWVoYBimKzhbHkX2jBND4K6+c++/3EMKgF9Q4SM2TtZ4ksK+xFnBzUNpQdninMQ4I8k+arWI7cskbEabAWgVKQ+9N1PVWzDYnhYqsRFH8Pix3Ny80LA2DnNB8Y47JyMPOjUqyci02BQF2pyJCGGjKfNGXabibKE/OGdiC1f8BViYwGRuk4oxU4Y4qtwjb/9S+3SCTMon6krBJsGH2IHPhG27EqMZcIBZ3ueWCk4UJ4R0v3qU34kDkkJ+LRPJa6zXxL1PTLJiaBMasuBbwepbXai88TTc1qkSaYHIKCD7kv2v1NISwxSxvc6rgLhxEwLThgWZybCo2iONCOQ4Hf7bwQAAAltBmqhJqEFsmUwUTX8AACNHEmKiDNIDooSA9IGxSavlrhbIyiYhJF8OAZxviRnSfyzpDIeIexQRsw68F68sosaPG65QCbm/CoSDR3oTnK1cMrJ156fiB3PPI6R90IZVVibAxCBqPpZfw0o68Qa8oMgcYg7DA0SR0umoa7xKfKH1v1KJY6PXymD3DYzcxP55+CCtxmD4MYo9pNIvSMln/NuOiBAMb3vt/6z638dzJnGUSgV1hwPY0B4o1dvPGUAk0KyQuRmtn/VxNnVxIt7hD2WdwGwj9fGsUJFFtDT6L7xr15dXJQjk1zm2kq1ibtx2v8hC4sdzcsMOq0KpzQjQNNG2hG9nsxE2FgFYkYbEbxyUE7aHO2Gjlsqb97GwKPfbiQ78/h8Dhu8YcMn2Q5njioGiyXAjl+ib/c1o4HIFkYfj6YQ6dBqjsPN2ezAIuXoh/sViJBPfH2+jci8yItq71MT9BNrDggGNkzoS+GK/r396shqXmVbTKy4ENBQ2jZqqMGvSj54q6wkpU9P9ccHiwBoPaNhvaL/+SHiWamxxrfCfd6tBHfiX2fDR6LNdMefb/YjNIv3S0olbgtbExjDe9yQiHAjRr7rESL+xDSqJNniU9azF2sN2W3O5h3QFm5pb6UZ6GMmAmrehHNSCr1C4HcPiHMSlbGh98mYqD+WiaEDF13Y2Mmgo8Jb6Mzl5E8g17MbTAoRTQBxeijMmRq4i0PnUSsWhz1rLJXVD5GG2sGC5fsA6ZjNWZCnWlSFnQK6LG6QHOuwA/NYG9K7jf6SD4SNWX9Ossbdjn/lgxMEAAAFyAZ7HalcE8pOdlRVBdhFdzbr9fAkngqphuvwVNfI6tMjD/BztlDfFeh+X6WL/dKU3Rz8FCP7dcB+W40Tdh89mtebnuUIDnrtaJEhDkSAYyGnv3SSS1Up/nzeq0ZAbAVqGFgeyL0w8eIclNlR7vOsP4HIx9PQ49lxx9WwGMHc3bkvwTYqno+qLvc8Q+Yt+n0Mgz6BWAp4b5IZtQrIVEqzXl5UTby+YhfIvdoYJW3uXgOmOrVccdGxzNwDke0ZMBDvBuQLihrc/hBwLqZwLvzDnSDTBGHVgo7iFkmsiV0XSaqvis6DaKoJzIQ7BeYTjLQe7jGDeGW34+f/Q8x9rs4yLqxOw/Cd74n8SIlrwvDm8RI++gsre3sqK2XYE1NupBQonlMwrG+NcKHYHUJqdXS9QYsdkMHzsaPk7ZoPZdsLy2M5eg+mbQdLYweMdoI7P6MpPImJRtK/KEwLgaRTGsyzbDmx9XWM8/C/yvgl3knHsvgBingAABO5tb292AAAAbG12aGQAAAAAAAAAAAAAAAAAAAPoAAAoCgABAAABAAAAAAAAAAAAAAAAAQAAAAAAAAAAAAAAAAAAAAEAAAAAAAAAAAAAAAAAAEAAAAAAAAAAAAAAAAAAAAAAAAAAAAAAAAAAAAAAAAACAAAEGHRyYWsAAABcdGtoZAAAAAMAAAAAAAAAAAAAAAEAAAAAAAAoCgAAAAAAAAAAAAAAAAAAAAAAAQAAAAAAAAAAAAAAAAAAAAEAAAAAAAAAAAAAAAAAAEAAAAABAAAAAQAAAAAAACRlZHRzAAAAHGVsc3QAAAAAAAAAAQAAKAoAACAAAAEAAAAAA5BtZGlhAAAAIG1kaGQAAAAAAAAAAAAAAAAAAEAAAAKQAFXEAAAAAAAtaGRscgAAAAAAAAAAdmlkZQAAAAAAAAAAAAAAAFZpZGVvSGFuZGxlcgAAAAM7bWluZgAAABR2bWhkAAAAAQAAAAAAAAAAAAAAJGRpbmYAAAAcZHJlZgAAAAAAAAABAAAADHVybCAAAAABAAAC+3N0YmwAAACXc3RzZAAAAAAAAAABAAAAh2F2YzEAAAAAAAAAAQAAAAAAAAAAAAAAAAAAAAABAAEAAEgAAABIAAAAAAAAAAEAAAAAAAAAAAAAAAAAAAAAAAAAAAAAAAAAAAAAAAAAAAAY//8AAAAxYXZjQwFkAAz/4QAYZ2QADKzZQQCGhAAAAwAEAAADACA8UKZYAQAGaOvjyyLAAAAAGHN0dHMAAAAAAAAAAQAAACkAABAAAAAAFHN0c3MAAAAAAAAAAQAAAAEAAAFIY3R0cwAAAAAAAAAnAAAAAQAAIAAAAAABAABQAAAAAAEAACAAAAAAAQAAAAAAAAABAAAQAAAAAAEAAFAAAAAAAQAAIAAAAAABAAAAAAAAAAEAABAAAAAAAQAAUAAAAAABAAAgAAAAAAEAAAAAAAAAAQAAEAAAAAABAABQAAAAAAEAACAAAAAAAQAAAAAAAAABAAAQAAAAAAEAAFAAAAAAAQAAIAAAAAABAAAAAAAAAAEAABAAAAAAAQAAUAAAAAABAAAgAAAAAAEAAAAAAAAAAQAAEAAAAAABAABQAAAAAAEAACAAAAAAAQAAAAAAAAABAAAQAAAAAAEAAFAAAAAAAQAAIAAAAAABAAAAAAAAAAEAABAAAAAAAQAAQAAAAAACAAAQAAAAAAEAAEAAAAAAAgAAEAAAAAABAAAwAAAAAAEAABAAAAAAHHN0c2MAAAAAAAAAAQAAAAEAAAApAAAAAQAAALhzdHN6AAAAAAAAAAAAAAApAABn5wAAAhQAAAAQAAACXQAAAAwAAABHAAAADgAAAmwAAAAMAAADOwAAABUAAAAMAAAAFAAAAecAAAFnAAAAGgAAAbkAAAGrAAAAJAAAAV8AAAATAAAAYwAAABEAAAASAAAAFAAAAV4AAAGSAAAAFwAAAWcAAAIWAAAAIQAAAVAAAAG9AAAAFAAAAXIAAAFYAAAAFAAAATUAAAIiAAACXwAAAXYAAAAUc3RjbwAAAAAAAAABAAAAMAAAAGJ1ZHRhAAAAWm1ldGEAAAAAAAAAIWhkbHIAAAAAAAAAAG1kaXJhcHBsAAAAAAAAAAAAAAAALWlsc3QAAAAlqXRvbwAAAB1kYXRhAAAAAQAAAABMYXZmNTguMjkuMTAw' type='video/mp4'></video>"
            ]
          },
          "metadata": {},
          "execution_count": 129
        }
      ]
    },
    {
      "cell_type": "markdown",
      "source": [
        "### Explicación de la política\n",
        "#### Política en Entorno Determinístico\n",
        "\n",
        "```python\n",
        "Policy:\n",
        "[[1 2 1 0]\n",
        " [1 0 1 0]\n",
        " [2 1 1 0]\n",
        " [0 2 2 0]]\n",
        "```\n",
        "\n",
        "- La política sigue una ruta clara y directa hacia el objetivo.\n",
        "- Cada acción lleva al siguiente estado predecible.\n",
        "\n",
        "#### Política en Entorno Estocástico\n",
        "\n",
        "```python\n",
        "Policy:\n",
        "[[0 3 3 3]\n",
        " [0 0 0 0]\n",
        " [3 1 0 0]\n",
        " [0 2 1 0]]\n",
        "```\n",
        "\n",
        "- La política considera las probabilidades de deslizamiento y toma acciones que maximizan la recompensa esperada.\n",
        "- Las acciones pueden parecer subóptimas a primera vista, pero están diseñadas para maximizar la expectativa considerando la probabilidad de deslizarse y terminar en estados con mayores valores esperados.\n"
      ],
      "metadata": {
        "id": "3N_I46Std0qW"
      }
    }
  ]
}