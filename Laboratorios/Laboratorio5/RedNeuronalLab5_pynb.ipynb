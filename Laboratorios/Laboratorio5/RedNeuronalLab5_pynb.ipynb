{
  "cells": [
    {
      "cell_type": "markdown",
      "source": [
        "# Implementación de una Red Neuronal para Fashion-MNIST\n",
        "\n",
        "Este documento describe el proceso de implementación de una red neuronal básica desde cero utilizando Python y librerías estándar como NumPy y SciPy para clasificar imágenes del dataset Fashion-MNIST. El objetivo es construir y entrenar una red neuronal de dos capas para reconocer artículos de moda a partir de imágenes en escala de grises.\n"
      ],
      "metadata": {
        "id": "zSEoqpyihvSa"
      }
    },
    {
      "cell_type": "markdown",
      "source": [
        "#### Importamos\n",
        "\n",
        "Instalamos las bibliotecas necesarias"
      ],
      "metadata": {
        "id": "tG2e3eoyRdhX"
      }
    },
    {
      "cell_type": "code",
      "execution_count": 36,
      "metadata": {
        "id": "zxteIMMaGLoT"
      },
      "outputs": [],
      "source": [
        "import os\n",
        "import numpy as np\n",
        "import pandas as pd\n",
        "from matplotlib import pyplot\n",
        "from scipy import optimize"
      ]
    },
    {
      "cell_type": "code",
      "source": [
        "from google.colab import drive\n",
        "drive.mount('/content/gdrive')"
      ],
      "metadata": {
        "colab": {
          "base_uri": "https://localhost:8080/"
        },
        "id": "CQWs2xrQRwxM",
        "outputId": "22197414-893d-4493-cc8e-9ee63f99d171"
      },
      "execution_count": 37,
      "outputs": [
        {
          "output_type": "stream",
          "name": "stdout",
          "text": [
            "Drive already mounted at /content/gdrive; to attempt to forcibly remount, call drive.mount(\"/content/gdrive\", force_remount=True).\n"
          ]
        }
      ]
    },
    {
      "cell_type": "markdown",
      "metadata": {
        "id": "Kdpnx-JYMf0Z"
      },
      "source": [
        "#### Carga y Preparación de Datos\n",
        "El dataset Fashion-MNIST consta de imágenes de 28x28 píxeles, cada una asociada a una etiqueta de 10 posibles clases de ropa. Los datos se normalizan dividiendo cada píxel por 255 para que los valores estén entre 0 y 1."
      ]
    },
    {
      "cell_type": "code",
      "execution_count": 35,
      "metadata": {
        "id": "Z_4jtp_iMUus"
      },
      "outputs": [],
      "source": [
        "# Cargar los datos de Fashion-MNIST\n",
        "data_train = pd.read_csv(\"/content/gdrive/MyDrive/datasets/fashion-mnist_train.csv\")\n",
        "X = data_train.iloc[:, 1:].values / 255.0  # Normalizamos los datos\n",
        "y = data_train.iloc[:, 0].values\n",
        "\n",
        "# Cargar los datos de prueba de Fashion-MNIST\n",
        "data_test = pd.read_csv(\"/content/gdrive/MyDrive/datasets/fashion-mnist_test.csv\")\n",
        "X_test = data_test.iloc[:, 1:].values / 255.0  # Normalizamos los datos\n",
        "y_test = data_test.iloc[:, 0].values\n",
        "\n",
        "\n",
        "# Configurando parámetros necesarios\n",
        "input_layer_size  = 784  # 28x28 píxeles de entrada\n",
        "hidden_layer_size = 25   # Número de unidades en la capa oculta\n",
        "num_labels = 10          # 10 etiquetas, del 0 al 9"
      ]
    },
    {
      "cell_type": "markdown",
      "source": [
        "#### Visualización de Datos\n"
      ],
      "metadata": {
        "id": "rPm1708CiJSP"
      }
    },
    {
      "cell_type": "code",
      "source": [
        "def display_image(img):\n",
        "    img = img.reshape((28, 28))\n",
        "    pyplot.imshow(img, cmap='gray')\n",
        "    pyplot.axis('off')\n",
        "    pyplot.show()\n",
        "\n",
        "# Mostrar una imagen aleatoria del dataset\n",
        "display_image(X[11])"
      ],
      "metadata": {
        "colab": {
          "base_uri": "https://localhost:8080/",
          "height": 406
        },
        "id": "lfLjZZadgqAh",
        "outputId": "0038ea76-2e26-4f17-93a5-ac108e538dd2"
      },
      "execution_count": 38,
      "outputs": [
        {
          "output_type": "display_data",
          "data": {
            "text/plain": [
              "<Figure size 640x480 with 1 Axes>"
            ],
            "image/png": "[encoded data removed]"
          },
          "metadata": {}
        }
      ]
    },
    {
      "cell_type": "markdown",
      "source": [
        "#### Inicialización de Parámetros de la Red\n",
        "La red tiene una capa oculta y utiliza la inicialización de pesos aleatorios con un rango específico para evitar gradientes demasiado grandes o pequeños durante el entrenamiento."
      ],
      "metadata": {
        "id": "G9h-fBQmiPCQ"
      }
    },
    {
      "cell_type": "code",
      "source": [
        "# Inicialización de pesos\n",
        "def randInitializeWeights(L_in, L_out):\n",
        "    epsilon_init = 0.12\n",
        "    W = np.random.rand(L_out, 1 + L_in) * 2 * epsilon_init - epsilon_init\n",
        "    return W\n",
        "\n",
        "initial_Theta1 = randInitializeWeights(input_layer_size, hidden_layer_size)\n",
        "initial_Theta2 = randInitializeWeights(hidden_layer_size, num_labels)\n"
      ],
      "metadata": {
        "id": "guchn2BCSFh3"
      },
      "execution_count": 39,
      "outputs": []
    },
    {
      "cell_type": "code",
      "source": [
        "# Desenrollar parámetros\n",
        "initial_nn_params = np.concatenate([initial_Theta1.ravel(), initial_Theta2.ravel()], axis=0)"
      ],
      "metadata": {
        "id": "I71V00HfSHoF"
      },
      "execution_count": 40,
      "outputs": []
    },
    {
      "cell_type": "markdown",
      "source": [
        "##### Definición de la Red y Función de Costo\n",
        "Implementamos la función sigmoidal como función de activación, y la función de costo incluye un término de regularización para evitar el sobreajuste."
      ],
      "metadata": {
        "id": "2yjt-YGriTdZ"
      }
    },
    {
      "cell_type": "code",
      "source": [
        "def sigmoid(z):\n",
        "    \"\"\"\n",
        "    Computes the sigmoid of z.\n",
        "    \"\"\"\n",
        "    return 1.0 / (1.0 + np.exp(-z))\n",
        "\n",
        "\n",
        "def sigmoidGradient(z):\n",
        "    sig = sigmoid(z)\n",
        "    return sig * (1 - sig)"
      ],
      "metadata": {
        "id": "GXW-Pf7NSfGG"
      },
      "execution_count": 41,
      "outputs": []
    },
    {
      "cell_type": "code",
      "source": [
        "def nnCostFunction(nn_params,\n",
        "                   input_layer_size,\n",
        "                   hidden_layer_size,\n",
        "                   num_labels,\n",
        "                   X, y, lambda_=0.0):\n",
        "\n",
        "    # Reshape nn_params back into the parameters Theta1 and Theta2, the weight matrices\n",
        "    # for our 2 layer neural network\n",
        "    Theta1 = np.reshape(nn_params[:hidden_layer_size * (input_layer_size + 1)],\n",
        "                        (hidden_layer_size, (input_layer_size + 1)))\n",
        "\n",
        "    Theta2 = np.reshape(nn_params[(hidden_layer_size * (input_layer_size + 1)):],\n",
        "                        (num_labels, (hidden_layer_size + 1)))\n",
        "\n",
        "    m = y.size\n",
        "\n",
        "    J = 0\n",
        "    Theta1_grad = np.zeros(Theta1.shape)\n",
        "    Theta2_grad = np.zeros(Theta2.shape)\n",
        "\n",
        "    a1 = np.concatenate([np.ones((m, 1)), X], axis=1)\n",
        "\n",
        "    a2 = sigmoid(a1.dot(Theta1.T))\n",
        "    a2 = np.concatenate([np.ones((a2.shape[0], 1)), a2], axis=1)\n",
        "\n",
        "    a3 = sigmoid(a2.dot(Theta2.T))\n",
        "\n",
        "    # print(\"-\"*20)\n",
        "    # print(y.shape)\n",
        "    # print(y.reshape(-1))\n",
        "    # print(\"-\"*20)\n",
        "    y_matrix = y.reshape(-1)\n",
        "    # print(y.shape)\n",
        "    y_matrix = np.eye(num_labels)[y_matrix]\n",
        "    # print(y_matrix)\n",
        "\n",
        "    temp1 = Theta1\n",
        "    temp2 = Theta2\n",
        "\n",
        "    # Agregar el termino de regularización\n",
        "\n",
        "    reg_term = (lambda_ / (2 * m)) * (np.sum(np.square(temp1[:, 1:])) + np.sum(np.square(temp2[:, 1:])))\n",
        "\n",
        "    J = (-1 / m) * np.sum((np.log(a3) * y_matrix) + np.log(1 - a3) * (1 - y_matrix)) + reg_term\n",
        "\n",
        "    # Backpropogation\n",
        "\n",
        "    delta_3 = a3 - y_matrix\n",
        "    delta_2 = delta_3.dot(Theta2)[:, 1:] * sigmoidGradient(a1.dot(Theta1.T))\n",
        "\n",
        "    Delta1 = delta_2.T.dot(a1)\n",
        "    Delta2 = delta_3.T.dot(a2)\n",
        "\n",
        "    # Agregar regularización al gradiente\n",
        "\n",
        "    Theta1_grad = (1 / m) * Delta1\n",
        "    Theta1_grad[:, 1:] = Theta1_grad[:, 1:] + (lambda_ / m) * Theta1[:, 1:]\n",
        "\n",
        "    Theta2_grad = (1 / m) * Delta2\n",
        "    Theta2_grad[:, 1:] = Theta2_grad[:, 1:] + (lambda_ / m) * Theta2[:, 1:]\n",
        "\n",
        "    grad = np.concatenate([Theta1_grad.ravel(), Theta2_grad.ravel()])\n",
        "\n",
        "    return J, grad"
      ],
      "metadata": {
        "id": "yLWqXGk3SP3s"
      },
      "execution_count": 42,
      "outputs": []
    },
    {
      "cell_type": "markdown",
      "source": [
        "#### Optimización de Parámetros\n",
        "Utilizamos scipy.optimize.minimize con el método TNC para entrenar la red, minimizando la función de costo."
      ],
      "metadata": {
        "id": "b4fL_0-jiW49"
      }
    },
    {
      "cell_type": "code",
      "source": [
        "# Optimización\n",
        "options = {'maxfun': 100}  # Limitar a 100 evaluaciones de la función\n",
        "lambda_ = 1\n",
        "costFunction = lambda p: nnCostFunction(p, input_layer_size, hidden_layer_size, num_labels, X, y, lambda_)\n",
        "res = optimize.minimize(costFunction, initial_nn_params, jac=True, method='TNC', options=options)\n"
      ],
      "metadata": {
        "id": "93zwauvHSXhL"
      },
      "execution_count": 43,
      "outputs": []
    },
    {
      "cell_type": "code",
      "source": [
        "# Obtener los pesos óptimos\n",
        "nn_params = res.x\n",
        "Theta1 = np.reshape(nn_params[:hidden_layer_size * (input_layer_size + 1)],\n",
        "                    (hidden_layer_size, (input_layer_size + 1)))\n",
        "Theta2 = np.reshape(nn_params[(hidden_layer_size * (input_layer_size + 1)):],\n",
        "                    (num_labels, (hidden_layer_size + 1)))\n"
      ],
      "metadata": {
        "id": "Oaef4sj6SYsw"
      },
      "execution_count": 44,
      "outputs": []
    },
    {
      "cell_type": "markdown",
      "source": [
        "#### Evaluación del Modelo\n",
        "Después de entrenar el modelo, evaluamos su precisión en el conjunto de entrenamiento."
      ],
      "metadata": {
        "id": "JESHyhE8icrt"
      }
    },
    {
      "cell_type": "code",
      "source": [
        "# Predicción y evaluación de precisión\n",
        "def predict(Theta1, Theta2, X):\n",
        "    \"\"\"\n",
        "    Predict the label of an input given a trained neural network\n",
        "    Outputs the predicted label of X given the trained weights of a neural\n",
        "    network(Theta1, Theta2)\n",
        "    \"\"\"\n",
        "    # Useful values\n",
        "    m = X.shape[0]\n",
        "    num_labels = Theta2.shape[0]\n",
        "\n",
        "    # You need to return the following variables correctly\n",
        "    #\n",
        "    p = np.zeros(m)\n",
        "    h1 = sigmoid(np.dot(np.concatenate([np.ones((m, 1)), X], axis=1), Theta1.T))\n",
        "    h2 = sigmoid(np.dot(np.concatenate([np.ones((m, 1)), h1], axis=1), Theta2.T))\n",
        "    p = np.argmax(h2, axis=1)\n",
        "    return p"
      ],
      "metadata": {
        "id": "9Ro9_UYDSsGk"
      },
      "execution_count": 45,
      "outputs": []
    },
    {
      "cell_type": "code",
      "source": [
        "pred = predict(Theta1, Theta2, X)\n",
        "print('Training Set Accuracy: %f' % (np.mean(pred == y) * 100))"
      ],
      "metadata": {
        "colab": {
          "base_uri": "https://localhost:8080/"
        },
        "id": "r6wNBT3_VCvb",
        "outputId": "10112a5c-5fa3-4a44-e56f-7418a6cc8552"
      },
      "execution_count": 46,
      "outputs": [
        {
          "output_type": "stream",
          "name": "stdout",
          "text": [
            "Training Set Accuracy: 80.591667\n"
          ]
        }
      ]
    },
    {
      "cell_type": "code",
      "source": [
        "pred_test = predict(Theta1, Theta2, X_test)\n",
        "print('Test Set Accuracy: %f' % (np.mean(pred_test == y_test) * 100))\n"
      ],
      "metadata": {
        "colab": {
          "base_uri": "https://localhost:8080/"
        },
        "id": "zAl7XPldjbdH",
        "outputId": "a75f21de-ccb2-4ae4-fb60-4d4a178b7318"
      },
      "execution_count": 47,
      "outputs": [
        {
          "output_type": "stream",
          "name": "stdout",
          "text": [
            "Test Set Accuracy: 80.560000\n"
          ]
        }
      ]
    }
  ],
  "metadata": {
    "colab": {
      "provenance": []
    },
    "kernelspec": {
      "display_name": "Python 3",
      "name": "python3"
    },
    "language_info": {
      "name": "python"
    }
  },
  "nbformat": 4,
  "nbformat_minor": 0
}