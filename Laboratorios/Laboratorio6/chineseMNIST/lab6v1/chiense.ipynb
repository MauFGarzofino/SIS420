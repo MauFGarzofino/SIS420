{
 "cells": [
  {
   "cell_type": "code",
   "execution_count": 1,
   "metadata": {},
   "outputs": [
    {
     "name": "stdout",
     "output_type": "stream",
     "text": [
      "Collecting grip\n",
      "  Downloading grip-4.6.2-py3-none-any.whl.metadata (961 bytes)\n",
      "Collecting docopt>=0.4.0 (from grip)\n",
      "  Downloading docopt-0.6.2.tar.gz (25 kB)\n",
      "  Installing build dependencies: started\n",
      "  Installing build dependencies: finished with status 'done'\n",
      "  Getting requirements to build wheel: started\n",
      "  Getting requirements to build wheel: finished with status 'done'\n",
      "  Installing backend dependencies: started\n",
      "  Installing backend dependencies: finished with status 'done'\n",
      "  Preparing metadata (pyproject.toml): started\n",
      "  Preparing metadata (pyproject.toml): finished with status 'done'\n",
      "Collecting Flask>=0.10.1 (from grip)\n",
      "  Downloading flask-3.0.3-py3-none-any.whl.metadata (3.2 kB)\n",
      "Collecting Markdown>=2.5.1 (from grip)\n",
      "  Using cached Markdown-3.6-py3-none-any.whl.metadata (7.0 kB)\n",
      "Collecting path-and-address>=2.0.1 (from grip)\n",
      "  Downloading path-and-address-2.0.1.zip (6.5 kB)\n",
      "  Installing build dependencies: started\n",
      "  Installing build dependencies: finished with status 'done'\n",
      "  Getting requirements to build wheel: started\n",
      "  Getting requirements to build wheel: finished with status 'done'\n",
      "  Installing backend dependencies: started\n",
      "  Installing backend dependencies: finished with status 'done'\n",
      "  Preparing metadata (pyproject.toml): started\n",
      "  Preparing metadata (pyproject.toml): finished with status 'done'\n",
      "Requirement already satisfied: Pygments>=1.6 in c:\\users\\hp\\appdata\\roaming\\python\\python312\\site-packages (from grip) (2.17.2)\n",
      "Requirement already satisfied: requests>=2.4.1 in c:\\users\\hp\\appdata\\local\\programs\\python\\python312\\lib\\site-packages (from grip) (2.31.0)\n",
      "Collecting Werkzeug>=0.7 (from grip)\n",
      "  Downloading werkzeug-3.0.3-py3-none-any.whl.metadata (3.7 kB)\n",
      "Collecting Jinja2>=3.1.2 (from Flask>=0.10.1->grip)\n",
      "  Downloading jinja2-3.1.4-py3-none-any.whl.metadata (2.6 kB)\n",
      "Collecting itsdangerous>=2.1.2 (from Flask>=0.10.1->grip)\n",
      "  Downloading itsdangerous-2.2.0-py3-none-any.whl.metadata (1.9 kB)\n",
      "Collecting click>=8.1.3 (from Flask>=0.10.1->grip)\n",
      "  Downloading click-8.1.7-py3-none-any.whl.metadata (3.0 kB)\n",
      "Collecting blinker>=1.6.2 (from Flask>=0.10.1->grip)\n",
      "  Downloading blinker-1.8.2-py3-none-any.whl.metadata (1.6 kB)\n",
      "Requirement already satisfied: charset-normalizer<4,>=2 in c:\\users\\hp\\appdata\\local\\programs\\python\\python312\\lib\\site-packages (from requests>=2.4.1->grip) (3.3.2)\n",
      "Requirement already satisfied: idna<4,>=2.5 in c:\\users\\hp\\appdata\\local\\programs\\python\\python312\\lib\\site-packages (from requests>=2.4.1->grip) (3.7)\n",
      "Requirement already satisfied: urllib3<3,>=1.21.1 in c:\\users\\hp\\appdata\\local\\programs\\python\\python312\\lib\\site-packages (from requests>=2.4.1->grip) (2.2.1)\n",
      "Requirement already satisfied: certifi>=2017.4.17 in c:\\users\\hp\\appdata\\local\\programs\\python\\python312\\lib\\site-packages (from requests>=2.4.1->grip) (2024.2.2)\n",
      "Collecting MarkupSafe>=2.1.1 (from Werkzeug>=0.7->grip)\n",
      "  Downloading MarkupSafe-2.1.5-cp312-cp312-win_amd64.whl.metadata (3.1 kB)\n",
      "Requirement already satisfied: colorama in c:\\users\\hp\\appdata\\roaming\\python\\python312\\site-packages (from click>=8.1.3->Flask>=0.10.1->grip) (0.4.6)\n",
      "Downloading grip-4.6.2-py3-none-any.whl (138 kB)\n",
      "   ---------------------------------------- 0.0/138.5 kB ? eta -:--:--\n",
      "   -------------------------- ------------- 92.2/138.5 kB 2.6 MB/s eta 0:00:01\n",
      "   ---------------------------------------- 138.5/138.5 kB 2.1 MB/s eta 0:00:00\n",
      "Downloading flask-3.0.3-py3-none-any.whl (101 kB)\n",
      "   ---------------------------------------- 0.0/101.7 kB ? eta -:--:--\n",
      "   ---------------------------------------- 101.7/101.7 kB 2.9 MB/s eta 0:00:00\n",
      "Using cached Markdown-3.6-py3-none-any.whl (105 kB)\n",
      "Downloading werkzeug-3.0.3-py3-none-any.whl (227 kB)\n",
      "   ---------------------------------------- 0.0/227.3 kB ? eta -:--:--\n",
      "   -------------------------------- ------- 184.3/227.3 kB 5.6 MB/s eta 0:00:01\n",
      "   ---------------------------------------- 227.3/227.3 kB 4.6 MB/s eta 0:00:00\n",
      "Downloading blinker-1.8.2-py3-none-any.whl (9.5 kB)\n",
      "Downloading click-8.1.7-py3-none-any.whl (97 kB)\n",
      "   ---------------------------------------- 0.0/97.9 kB ? eta -:--:--\n",
      "   ---------------------------------------- 97.9/97.9 kB 5.8 MB/s eta 0:00:00\n",
      "Downloading itsdangerous-2.2.0-py3-none-any.whl (16 kB)\n",
      "Downloading jinja2-3.1.4-py3-none-any.whl (133 kB)\n",
      "   ---------------------------------------- 0.0/133.3 kB ? eta -:--:--\n",
      "   ---------------------------------------- 133.3/133.3 kB 8.2 MB/s eta 0:00:00\n",
      "Downloading MarkupSafe-2.1.5-cp312-cp312-win_amd64.whl (17 kB)\n",
      "Building wheels for collected packages: docopt, path-and-address\n",
      "  Building wheel for docopt (pyproject.toml): started\n",
      "  Building wheel for docopt (pyproject.toml): finished with status 'done'\n",
      "  Created wheel for docopt: filename=docopt-0.6.2-py2.py3-none-any.whl size=13773 sha256=d562200e3a9f87227153766b03b6912a1afb059c12b165ecc08d5ef46202b533\n",
      "  Stored in directory: c:\\users\\hp\\appdata\\local\\pip\\cache\\wheels\\1a\\bf\\a1\\4cee4f7678c68c5875ca89eaccf460593539805c3906722228\n",
      "  Building wheel for path-and-address (pyproject.toml): started\n",
      "  Building wheel for path-and-address (pyproject.toml): finished with status 'done'\n",
      "  Created wheel for path-and-address: filename=path_and_address-2.0.1-py3-none-any.whl size=4293 sha256=5c46ad8c6419fd4a578cf4dbc02571c0e62bdfca3960585a8bf2c3b761e10d74\n",
      "  Stored in directory: c:\\users\\hp\\appdata\\local\\pip\\cache\\wheels\\2c\\81\\2e\\50746448073c3ac74647796ad9ca30ba837294d297b65b6cbd\n",
      "Successfully built docopt path-and-address\n",
      "Installing collected packages: path-and-address, docopt, MarkupSafe, Markdown, itsdangerous, click, blinker, Werkzeug, Jinja2, Flask, grip\n",
      "Successfully installed Flask-3.0.3 Jinja2-3.1.4 Markdown-3.6 MarkupSafe-2.1.5 Werkzeug-3.0.3 blinker-1.8.2 click-8.1.7 docopt-0.6.2 grip-4.6.2 itsdangerous-2.2.0 path-and-address-2.0.1\n",
      "Note: you may need to restart the kernel to use updated packages.\n"
     ]
    },
    {
     "name": "stderr",
     "output_type": "stream",
     "text": [
      "  WARNING: The script markdown_py.exe is installed in 'c:\\Users\\hp\\AppData\\Local\\Programs\\Python\\Python312\\Scripts' which is not on PATH.\n",
      "  Consider adding this directory to PATH or, if you prefer to suppress this warning, use --no-warn-script-location.\n",
      "  WARNING: The script flask.exe is installed in 'c:\\Users\\hp\\AppData\\Local\\Programs\\Python\\Python312\\Scripts' which is not on PATH.\n",
      "  Consider adding this directory to PATH or, if you prefer to suppress this warning, use --no-warn-script-location.\n",
      "  WARNING: The script grip.exe is installed in 'c:\\Users\\hp\\AppData\\Local\\Programs\\Python\\Python312\\Scripts' which is not on PATH.\n",
      "  Consider adding this directory to PATH or, if you prefer to suppress this warning, use --no-warn-script-location.\n"
     ]
    },
    {
     "name": "stdout",
     "output_type": "stream",
     "text": [
      "Collecting supyr-struct\n",
      "  Downloading supyr_struct-1.5.4-py3-none-any.whl.metadata (4.7 kB)\n",
      "Downloading supyr_struct-1.5.4-py3-none-any.whl (236 kB)\n",
      "   ---------------------------------------- 0.0/236.5 kB ? eta -:--:--\n",
      "   ---------------------------------------- 0.0/236.5 kB ? eta -:--:--\n",
      "   ---------------------------------------- 0.0/236.5 kB ? eta -:--:--\n",
      "   - -------------------------------------- 10.2/236.5 kB ? eta -:--:--\n",
      "   - -------------------------------------- 10.2/236.5 kB ? eta -:--:--\n",
      "   - -------------------------------------- 10.2/236.5 kB ? eta -:--:--\n",
      "   ----- --------------------------------- 30.7/236.5 kB 145.2 kB/s eta 0:00:02\n",
      "   ---------- ---------------------------- 61.4/236.5 kB 233.8 kB/s eta 0:00:01\n",
      "   --------------- ----------------------- 92.2/236.5 kB 308.0 kB/s eta 0:00:01\n",
      "   ----------------------- -------------- 143.4/236.5 kB 425.3 kB/s eta 0:00:01\n",
      "   --------------------------- ---------- 174.1/236.5 kB 455.1 kB/s eta 0:00:01\n",
      "   -------------------------------------  235.5/236.5 kB 554.9 kB/s eta 0:00:01\n",
      "   -------------------------------------- 236.5/236.5 kB 536.1 kB/s eta 0:00:00\n",
      "Installing collected packages: supyr-struct\n",
      "Successfully installed supyr-struct-1.5.4\n",
      "Note: you may need to restart the kernel to use updated packages.\n"
     ]
    }
   ],
   "source": [
    "%pip install grip\n",
    "%pip install supyr-struct"
   ]
  },
  {
   "cell_type": "code",
   "execution_count": 15,
   "metadata": {},
   "outputs": [
    {
     "data": {
      "text/plain": [
       "array([[[  0,   0,   0, ...,   0,   0,   0],\n",
       "        [  0,   0,   0, ...,   0,   0,   0],\n",
       "        [  0,   0,   0, ...,   0,   0,   0],\n",
       "        ...,\n",
       "        [  0,   0,   0, ...,   0,   0,   0],\n",
       "        [  0,   0,   0, ...,   0,   0,   0],\n",
       "        [  0,   0,   0, ...,   0,   0,   0]],\n",
       "\n",
       "       [[  0,   0,   0, ...,   0,   0,   0],\n",
       "        [  0,   0,   0, ...,   0,   0,   0],\n",
       "        [  0,   0,   0, ...,   0,   0,   0],\n",
       "        ...,\n",
       "        [  0,   0,   0, ...,   0,   0,   0],\n",
       "        [  0,   0,   0, ...,   0,   0,   0],\n",
       "        [  0,   0,   0, ...,   0,   0,   0]],\n",
       "\n",
       "       [[  0,   0,   0, ...,   0,   0,   0],\n",
       "        [  0,   0,   0, ...,   0,   0,   0],\n",
       "        [  0,   0,   0, ...,   0,   0,   0],\n",
       "        ...,\n",
       "        [  0,   0,   0, ...,   0,   0,   0],\n",
       "        [  0,   0,   0, ...,   0,   0,   0],\n",
       "        [  0,   0,   0, ...,   0,   0,   0]],\n",
       "\n",
       "       ...,\n",
       "\n",
       "       [[  0,   0,   0, ...,   0,   0,   0],\n",
       "        [  0,   0,   0, ...,   0,   0,   0],\n",
       "        [ 83, 147, 126, ..., 145,  49,   0],\n",
       "        ...,\n",
       "        [  0,   0,   0, ...,   0,   0,   0],\n",
       "        [  0,   0,   0, ...,   0,   0,   0],\n",
       "        [  0,   0,   0, ...,   0,   0,   0]],\n",
       "\n",
       "       [[  0,   0,   0, ...,   0,   0,   0],\n",
       "        [  0,   0,   1, ...,   0,   0,   0],\n",
       "        [  0,   0,   2, ...,   0,   0,   0],\n",
       "        ...,\n",
       "        [  0,   0,   0, ...,   0,   0,   0],\n",
       "        [  0,   0,   0, ...,   0,   0,   0],\n",
       "        [  0,   0,   0, ...,   0,   0,   0]],\n",
       "\n",
       "       [[  0,   0,   0, ...,   1,   0,   0],\n",
       "        [  0,   0,   0, ...,   0,   0,   0],\n",
       "        [  0,   0,   0, ...,   0,   0,   0],\n",
       "        ...,\n",
       "        [  0,   0, 131, ...,  81,   0,   0],\n",
       "        [  0,   0, 114, ...,  23,   0,   0],\n",
       "        [  0,   0,  11, ...,   0,   0,   0]]], dtype=uint8)"
      ]
     },
     "execution_count": 15,
     "metadata": {},
     "output_type": "execute_result"
    }
   ],
   "source": [
    "import gzip\n",
    "import struct\n",
    "import numpy as np\n",
    "import pandas as pd\n",
    "import matplotlib.pyplot as plt\n",
    "\n",
    "## Ruta del archivo\n",
    "file_path = 'train-images-idx3-ubyte.gz'\n",
    "\n",
    "## Función para leer el archivo IDX\n",
    "def read_idx(filename):\n",
    "    with gzip.open(filename, 'rb') as f:\n",
    "        # Leer el encabezado del archivo\n",
    "        zero, data_type, dims = struct.unpack('>HBB', f.read(4))\n",
    "        shape = tuple(struct.unpack('>I', f.read(4))[0] for d in range(dims))\n",
    "        # Leer los datos del archivo\n",
    "        data = np.frombuffer(f.read(), dtype=np.uint8).reshape(shape)\n",
    "        return data\n",
    "    \n",
    "## Cargar los datos\n",
    "images = read_idx(file_path)\n",
    "\n",
    "images"
   ]
  },
  {
   "cell_type": "code",
   "execution_count": 16,
   "metadata": {},
   "outputs": [
    {
     "name": "stdout",
     "output_type": "stream",
     "text": [
      "Shape de las imágenes: (60000, 28, 28)\n"
     ]
    }
   ],
   "source": [
    "print(f\"Shape de las imágenes: {images.shape}\")"
   ]
  },
  {
   "cell_type": "code",
   "execution_count": 17,
   "metadata": {},
   "outputs": [
    {
     "name": "stdout",
     "output_type": "stream",
     "text": [
      "   pixel0  pixel1  pixel2  pixel3  pixel4  pixel5  pixel6  pixel7  pixel8  \\\n",
      "0       0       0       0       0       0       0       0       0       0   \n",
      "1       0       0       0       0       0       0       0       0       0   \n",
      "2       0       0       0       0       0       0       0       0       0   \n",
      "3       0       0       0       0       0       0       0       0      32   \n",
      "4       0       0       0       0       0       0       0       0       0   \n",
      "\n",
      "   pixel9  ...  pixel774  pixel775  pixel776  pixel777  pixel778  pixel779  \\\n",
      "0       0  ...       122       255        90         0         0         0   \n",
      "1       0  ...         0         0         0         0         0         0   \n",
      "2       0  ...         0         0         0         0         0         0   \n",
      "3     164  ...       255        64         0         0         0         0   \n",
      "4       0  ...         0         0         0         0         0         0   \n",
      "\n",
      "   pixel780  pixel781  pixel782  pixel783  \n",
      "0         0         0         0         0  \n",
      "1         0         0         0         0  \n",
      "2         0         0         0         0  \n",
      "3         0         0         0         0  \n",
      "4         0         0         0         0  \n",
      "\n",
      "[5 rows x 784 columns]\n"
     ]
    }
   ],
   "source": [
    "# Aplanar las imágenes para que cada imagen sea una fila\n",
    "n_samples, width, height = images.shape\n",
    "images_flat = images.reshape(n_samples, width * height)\n",
    "\n",
    "# Crear un DataFrame de pandas\n",
    "columns = [f'pixel{i}' for i in range(width * height)]\n",
    "df_images = pd.DataFrame(images_flat, columns=columns)\n",
    "\n",
    "# Visualizar las primeras filas del DataFrame\n",
    "print(df_images.head())\n"
   ]
  },
  {
   "cell_type": "code",
   "execution_count": 19,
   "metadata": {},
   "outputs": [
    {
     "name": "stdout",
     "output_type": "stream",
     "text": [
      "Shape de las imágenes: (60000, 784)\n"
     ]
    }
   ],
   "source": [
    "images_flat\n",
    "print(f\"Shape de las imágenes: {df_images.shape}\")"
   ]
  },
  {
   "cell_type": "code",
   "execution_count": 23,
   "metadata": {},
   "outputs": [
    {
     "data": {
      "text/plain": [
       "array([[0., 0., 0., ..., 0., 0., 0.],\n",
       "       [0., 0., 0., ..., 0., 0., 0.],\n",
       "       [0., 0., 0., ..., 0., 0., 0.],\n",
       "       ...,\n",
       "       [0., 0., 0., ..., 0., 0., 0.],\n",
       "       [0., 0., 0., ..., 0., 0., 0.],\n",
       "       [0., 0., 0., ..., 0., 0., 0.]], dtype=float32)"
      ]
     },
     "execution_count": 23,
     "metadata": {},
     "output_type": "execute_result"
    }
   ],
   "source": [
    "images_normalized = images_flat.astype(np.float32) / 255\n",
    "images_normalized"
   ]
  },
  {
   "cell_type": "code",
   "execution_count": 26,
   "metadata": {},
   "outputs": [
    {
     "data": {
      "image/png": "[encoded data removed]",
      "text/plain": [
       "<Figure size 1200x1200 with 9 Axes>"
      ]
     },
     "metadata": {},
     "output_type": "display_data"
    }
   ],
   "source": [
    "# Convertir los datos planos en imágenes 64x64\n",
    "images_reshaped = images_normalized.reshape(-1, 28, 28)\n",
    "\n",
    "# Índices aleatorios\n",
    "random_indices = np.random.choice(len(images_reshaped), size=9, replace=False)\n",
    "\n",
    "# Mostrar algunas imágenes aleatorias\n",
    "fig, axs = plt.subplots(3, 3, figsize=(12, 12))\n",
    "plt.gray()\n",
    "\n",
    "for i, ax in enumerate(axs.flat):\n",
    "    ax.imshow(images_reshaped[random_indices[i]], cmap='gray')\n",
    "    ax.axis('off')\n",
    "    ax.set_title(f'Image {random_indices[i]}')\n",
    "\n",
    "plt.show()"
   ]
  },
  {
   "cell_type": "code",
   "execution_count": 28,
   "metadata": {},
   "outputs": [],
   "source": [
    "n_samples, width, height = images.shape\n",
    "images_flat = images_reshaped.reshape(n_samples, width * height)"
   ]
  },
  {
   "cell_type": "code",
   "execution_count": 30,
   "metadata": {},
   "outputs": [],
   "source": [
    "from sklearn.cluster import KMeans\n",
    "from sklearn.metrics import silhouette_score\n",
    "import matplotlib.pyplot as plt\n",
    "\n",
    "# Preparar el rango de números de clusters a evaluar\n",
    "range_values = range(2, 16)\n",
    "silhouette_scores = []\n",
    "\n",
    "# Calcular el score de silueta para cada número de clusters\n",
    "for k in range_values:\n",
    "    kmeans = KMeans(n_clusters=k, random_state=42)\n",
    "    kmeans.fit(images_normalized)\n",
    "    score = silhouette_score(images_normalized, kmeans.labels_)\n",
    "    silhouette_scores.append(score)\n",
    "\n",
    "# Gráfico de los scores de silueta\n",
    "plt.figure(figsize=(8, 4))\n",
    "plt.plot(range_values, silhouette_scores, \"bo-\")\n",
    "plt.title('Silhouette Scores for Different Numbers of Clusters')\n",
    "plt.xlabel('Number of Clusters')\n",
    "plt.ylabel('Silhouette Score')\n",
    "plt.show()\n",
    "\n",
    "# Imprimir el número óptimo de clusters\n",
    "optimal_clusters = range_values[silhouette_scores.index(max(silhouette_scores))]\n",
    "print(f'El número óptimo de clusters es: {optimal_clusters}')\n"
   ]
  }
 ],
 "metadata": {
  "kernelspec": {
   "display_name": "Python 3",
   "language": "python",
   "name": "python3"
  },
  "language_info": {
   "codemirror_mode": {
    "name": "ipython",
    "version": 3
   },
   "file_extension": ".py",
   "mimetype": "text/x-python",
   "name": "python",
   "nbconvert_exporter": "python",
   "pygments_lexer": "ipython3",
   "version": "3.12.2"
  }
 },
 "nbformat": 4,
 "nbformat_minor": 2
}
