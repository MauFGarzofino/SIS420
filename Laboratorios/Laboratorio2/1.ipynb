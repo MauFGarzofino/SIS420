{
 "cells": [
  {
   "cell_type": "markdown",
   "metadata": {},
   "source": [
    "### Preprocesamiento de datos para Regresión Logística\n",
    "\n",
    "Preparar adecuadamente los datos asegura que el modelo que construyas haga predicciones precisas y significativas. En este caso, estamos trabajando con un dataset que contiene indicadores de salud para predecir la presencia de diabetes."
   ]
  },
  {
   "cell_type": "markdown",
   "metadata": {},
   "source": [
    "#### Carga del Dataset"
   ]
  },
  {
   "cell_type": "code",
   "execution_count": 42,
   "metadata": {},
   "outputs": [
    {
     "name": "stdout",
     "output_type": "stream",
     "text": [
      "       Diabetes_binary  HighBP  HighChol  CholCheck   BMI  Smoker  Stroke  \\\n",
      "0                  0.0     1.0       0.0        1.0  26.0     0.0     0.0   \n",
      "1                  0.0     1.0       1.0        1.0  26.0     1.0     1.0   \n",
      "2                  0.0     0.0       0.0        1.0  26.0     0.0     0.0   \n",
      "3                  0.0     1.0       1.0        1.0  28.0     1.0     0.0   \n",
      "4                  0.0     0.0       0.0        1.0  29.0     1.0     0.0   \n",
      "...                ...     ...       ...        ...   ...     ...     ...   \n",
      "70687              1.0     0.0       1.0        1.0  37.0     0.0     0.0   \n",
      "70688              1.0     0.0       1.0        1.0  29.0     1.0     0.0   \n",
      "70689              1.0     1.0       1.0        1.0  25.0     0.0     0.0   \n",
      "70690              1.0     1.0       1.0        1.0  18.0     0.0     0.0   \n",
      "70691              1.0     1.0       1.0        1.0  25.0     0.0     0.0   \n",
      "\n",
      "       HeartDiseaseorAttack  PhysActivity  Fruits  ...  AnyHealthcare  \\\n",
      "0                       0.0           1.0     0.0  ...            1.0   \n",
      "1                       0.0           0.0     1.0  ...            1.0   \n",
      "2                       0.0           1.0     1.0  ...            1.0   \n",
      "3                       0.0           1.0     1.0  ...            1.0   \n",
      "4                       0.0           1.0     1.0  ...            1.0   \n",
      "...                     ...           ...     ...  ...            ...   \n",
      "70687                   0.0           0.0     0.0  ...            1.0   \n",
      "70688                   1.0           0.0     1.0  ...            1.0   \n",
      "70689                   1.0           0.0     1.0  ...            1.0   \n",
      "70690                   0.0           0.0     0.0  ...            1.0   \n",
      "70691                   1.0           1.0     1.0  ...            1.0   \n",
      "\n",
      "       NoDocbcCost  GenHlth  MentHlth  PhysHlth  DiffWalk  Sex   Age  \\\n",
      "0              0.0      3.0       5.0      30.0       0.0  1.0   4.0   \n",
      "1              0.0      3.0       0.0       0.0       0.0  1.0  12.0   \n",
      "2              0.0      1.0       0.0      10.0       0.0  1.0  13.0   \n",
      "3              0.0      3.0       0.0       3.0       0.0  1.0  11.0   \n",
      "4              0.0      2.0       0.0       0.0       0.0  0.0   8.0   \n",
      "...            ...      ...       ...       ...       ...  ...   ...   \n",
      "70687          0.0      4.0       0.0       0.0       0.0  0.0   6.0   \n",
      "70688          0.0      2.0       0.0       0.0       1.0  1.0  10.0   \n",
      "70689          0.0      5.0      15.0       0.0       1.0  0.0  13.0   \n",
      "70690          0.0      4.0       0.0       0.0       1.0  0.0  11.0   \n",
      "70691          0.0      2.0       0.0       0.0       0.0  0.0   9.0   \n",
      "\n",
      "       Education  Income  \n",
      "0            6.0     8.0  \n",
      "1            6.0     8.0  \n",
      "2            6.0     8.0  \n",
      "3            6.0     8.0  \n",
      "4            5.0     8.0  \n",
      "...          ...     ...  \n",
      "70687        4.0     1.0  \n",
      "70688        3.0     6.0  \n",
      "70689        6.0     4.0  \n",
      "70690        2.0     4.0  \n",
      "70691        6.0     2.0  \n",
      "\n",
      "[70692 rows x 22 columns]\n"
     ]
    }
   ],
   "source": [
    "import pandas as pd\n",
    "import sklearn as skl\n",
    "\n",
    "path = \"diabetes_binary_5050split_health_indicators_BRFSS2015.csv\"\n",
    "\n",
    "dataframe = pd.read_csv(path)\n",
    "print(dataframe)"
   ]
  },
  {
   "cell_type": "markdown",
   "metadata": {},
   "source": [
    "#### Exploración Inicial de los Datos"
   ]
  },
  {
   "cell_type": "code",
   "execution_count": 43,
   "metadata": {},
   "outputs": [
    {
     "name": "stdout",
     "output_type": "stream",
     "text": [
      "       Diabetes_binary        HighBP      HighChol     CholCheck  \\\n",
      "count     70692.000000  70692.000000  70692.000000  70692.000000   \n",
      "mean          0.500000      0.563458      0.525703      0.975259   \n",
      "std           0.500004      0.495960      0.499342      0.155336   \n",
      "min           0.000000      0.000000      0.000000      0.000000   \n",
      "25%           0.000000      0.000000      0.000000      1.000000   \n",
      "50%           0.500000      1.000000      1.000000      1.000000   \n",
      "75%           1.000000      1.000000      1.000000      1.000000   \n",
      "max           1.000000      1.000000      1.000000      1.000000   \n",
      "\n",
      "                BMI        Smoker        Stroke  HeartDiseaseorAttack  \\\n",
      "count  70692.000000  70692.000000  70692.000000          70692.000000   \n",
      "mean      29.856985      0.475273      0.062171              0.147810   \n",
      "std        7.113954      0.499392      0.241468              0.354914   \n",
      "min       12.000000      0.000000      0.000000              0.000000   \n",
      "25%       25.000000      0.000000      0.000000              0.000000   \n",
      "50%       29.000000      0.000000      0.000000              0.000000   \n",
      "75%       33.000000      1.000000      0.000000              0.000000   \n",
      "max       98.000000      1.000000      1.000000              1.000000   \n",
      "\n",
      "       PhysActivity        Fruits  ...  AnyHealthcare   NoDocbcCost  \\\n",
      "count  70692.000000  70692.000000  ...   70692.000000  70692.000000   \n",
      "mean       0.703036      0.611795  ...       0.954960      0.093914   \n",
      "std        0.456924      0.487345  ...       0.207394      0.291712   \n",
      "min        0.000000      0.000000  ...       0.000000      0.000000   \n",
      "25%        0.000000      0.000000  ...       1.000000      0.000000   \n",
      "50%        1.000000      1.000000  ...       1.000000      0.000000   \n",
      "75%        1.000000      1.000000  ...       1.000000      0.000000   \n",
      "max        1.000000      1.000000  ...       1.000000      1.000000   \n",
      "\n",
      "            GenHlth      MentHlth      PhysHlth      DiffWalk           Sex  \\\n",
      "count  70692.000000  70692.000000  70692.000000  70692.000000  70692.000000   \n",
      "mean       2.837082      3.752037      5.810417      0.252730      0.456997   \n",
      "std        1.113565      8.155627     10.062261      0.434581      0.498151   \n",
      "min        1.000000      0.000000      0.000000      0.000000      0.000000   \n",
      "25%        2.000000      0.000000      0.000000      0.000000      0.000000   \n",
      "50%        3.000000      0.000000      0.000000      0.000000      0.000000   \n",
      "75%        4.000000      2.000000      6.000000      1.000000      1.000000   \n",
      "max        5.000000     30.000000     30.000000      1.000000      1.000000   \n",
      "\n",
      "                Age     Education        Income  \n",
      "count  70692.000000  70692.000000  70692.000000  \n",
      "mean       8.584055      4.920953      5.698311  \n",
      "std        2.852153      1.029081      2.175196  \n",
      "min        1.000000      1.000000      1.000000  \n",
      "25%        7.000000      4.000000      4.000000  \n",
      "50%        9.000000      5.000000      6.000000  \n",
      "75%       11.000000      6.000000      8.000000  \n",
      "max       13.000000      6.000000      8.000000  \n",
      "\n",
      "[8 rows x 22 columns]\n"
     ]
    }
   ],
   "source": [
    "print(dataframe.describe())"
   ]
  },
  {
   "cell_type": "markdown",
   "metadata": {},
   "source": [
    "El método describe de pandas proporciona un resumen estadístico de las características numéricas en el DataFrame."
   ]
  },
  {
   "cell_type": "markdown",
   "metadata": {},
   "source": [
    "#### Estandarización de los Datos"
   ]
  },
  {
   "cell_type": "code",
   "execution_count": 44,
   "metadata": {},
   "outputs": [
    {
     "name": "stdout",
     "output_type": "stream",
     "text": [
      "       Diabetes_binary        HighBP      HighChol     CholCheck  \\\n",
      "count     70692.000000  7.069200e+04  7.069200e+04  7.069200e+04   \n",
      "mean          0.000000  1.286560e-17 -9.649197e-17  2.106741e-16   \n",
      "std           1.000007  1.000007e+00  1.000007e+00  1.000007e+00   \n",
      "min          -1.000000 -1.136104e+00 -1.052798e+00 -6.278417e+00   \n",
      "25%          -1.000000 -1.136104e+00 -1.052798e+00  1.592758e-01   \n",
      "50%           0.000000  8.802011e-01  9.498498e-01  1.592758e-01   \n",
      "75%           1.000000  8.802011e-01  9.498498e-01  1.592758e-01   \n",
      "max           1.000000  8.802011e-01  9.498498e-01  1.592758e-01   \n",
      "\n",
      "                BMI        Smoker        Stroke  HeartDiseaseorAttack  \\\n",
      "count  7.069200e+04  7.069200e+04  7.069200e+04          7.069200e+04   \n",
      "mean  -7.719358e-17 -7.819870e-17  1.849429e-17         -3.377219e-17   \n",
      "std    1.000007e+00  1.000007e+00  1.000007e+00          1.000007e+00   \n",
      "min   -2.510153e+00 -9.517105e-01 -2.574735e-01         -4.164703e-01   \n",
      "25%   -6.827454e-01 -9.517105e-01 -2.574735e-01         -4.164703e-01   \n",
      "50%   -1.204662e-01 -9.517105e-01 -2.574735e-01         -4.164703e-01   \n",
      "75%    4.418130e-01  1.050740e+00 -2.574735e-01         -4.164703e-01   \n",
      "max    9.578850e+00  1.050740e+00  3.883895e+00          2.401131e+00   \n",
      "\n",
      "       PhysActivity        Fruits  ...  AnyHealthcare   NoDocbcCost  \\\n",
      "count  7.069200e+04  7.069200e+04  ...   7.069200e+04  7.069200e+04   \n",
      "mean   1.447380e-17  8.523457e-17  ...  -1.045330e-16 -1.567994e-17   \n",
      "std    1.000007e+00  1.000007e+00  ...   1.000007e+00  1.000007e+00   \n",
      "min   -1.538638e+00 -1.255371e+00  ...  -4.604591e+00 -3.219449e-01   \n",
      "25%   -1.538638e+00 -1.255371e+00  ...   2.171745e-01 -3.219449e-01   \n",
      "50%    6.499253e-01  7.965770e-01  ...   2.171745e-01 -3.219449e-01   \n",
      "75%    6.499253e-01  7.965770e-01  ...   2.171745e-01 -3.219449e-01   \n",
      "max    6.499253e-01  7.965770e-01  ...   2.171745e-01  3.106121e+00   \n",
      "\n",
      "            GenHlth      MentHlth      PhysHlth      DiffWalk           Sex  \\\n",
      "count  7.069200e+04  7.069200e+04  7.069200e+04  7.069200e+04  7.069200e+04   \n",
      "mean   2.508791e-16  3.216399e-18 -6.432798e-17 -2.573119e-17  1.141822e-16   \n",
      "std    1.000007e+00  1.000007e+00  1.000007e+00  1.000007e+00  1.000007e+00   \n",
      "min   -1.649743e+00 -4.600583e-01 -5.774506e-01 -5.815537e-01 -9.173925e-01   \n",
      "25%   -7.517193e-01 -4.600583e-01 -5.774506e-01 -5.815537e-01 -9.173925e-01   \n",
      "50%    1.463042e-01 -4.600583e-01 -5.774506e-01 -5.815537e-01 -9.173925e-01   \n",
      "75%    1.044328e+00 -2.148271e-01  1.884113e-02  1.719532e+00  1.090046e+00   \n",
      "max    1.942351e+00  3.218410e+00  2.404008e+00  1.719532e+00  1.090046e+00   \n",
      "\n",
      "                Age     Education        Income  \n",
      "count  7.069200e+04  7.069200e+04  7.069200e+04  \n",
      "mean   2.959087e-16 -9.005917e-17  3.216399e-17  \n",
      "std    1.000007e+00  1.000007e+00  1.000007e+00  \n",
      "min   -2.659082e+00 -3.810178e+00 -2.159964e+00  \n",
      "25%   -5.553930e-01 -8.949340e-01 -7.807678e-01  \n",
      "50%    1.458365e-01  7.681388e-02  1.386961e-01  \n",
      "75%    8.470661e-01  1.048562e+00  1.058160e+00  \n",
      "max    1.548296e+00  1.048562e+00  1.058160e+00  \n",
      "\n",
      "[8 rows x 22 columns]\n"
     ]
    }
   ],
   "source": [
    "from sklearn.preprocessing import StandardScaler\n",
    "\n",
    "# Seleccionamos solo las columnas numéricas (En este caso)\n",
    "features = dataframe.columns \n",
    "\n",
    "# Creamos el objeto StandardScaler\n",
    "scaler = StandardScaler()\n",
    "\n",
    "# Ajustar y transformar los datos\n",
    "dataframe_scaled = scaler.fit_transform(dataframe[features])\n",
    "\n",
    "# Crear un DataFrame con los datos escalados\n",
    "dataframe_scaled = pd.DataFrame(dataframe_scaled, columns=features)\n",
    "\n",
    "print(dataframe_scaled.describe())"
   ]
  },
  {
   "cell_type": "markdown",
   "metadata": {},
   "source": [
    "+ X representa las características (en este caso, todo tu DataFrame escalado, dataframe_scaled).\n",
    "+ y es la etiqueta o variable objetivo que se está tratando de predecir, en este caso, Diabetes_binary.\n",
    "+ test_size=0.20 especifica que el 20% de los datos se reservan para el conjunto de prueba.\n",
    "+ random_state=42 es una semilla para el generador de números aleatorios. Esto asegura que los resultados sean reproducibles; puedes usar cualquier número que desees."
   ]
  },
  {
   "cell_type": "markdown",
   "metadata": {},
   "source": [
    "#### División del Dataset en Conjuntos de Entrenamiento y Prueba"
   ]
  },
  {
   "cell_type": "code",
   "execution_count": 45,
   "metadata": {},
   "outputs": [
    {
     "name": "stdout",
     "output_type": "stream",
     "text": [
      "X_train shape: (56553, 22)\n",
      "X_test shape: (14139, 22)\n",
      "y_train shape: (56553,)\n",
      "y_test shape: (14139,)\n"
     ]
    }
   ],
   "source": [
    "from sklearn.model_selection import train_test_split\n",
    "\n",
    "# Asumiendo que 'dataframe_scaled' es tu DataFrame con los datos escalados\n",
    "X = dataframe_scaled  # Las características, todas las columnas excepto la etiqueta\n",
    "y = dataframe['Diabetes_binary']  # La etiqueta o variable objetivo\n",
    "\n",
    "# Dividir el dataset en conjuntos de entrenamiento y prueba\n",
    "X_train, X_test, y_train, y_test = train_test_split(X, y, test_size=0.20, random_state=42)\n",
    "\n",
    "print(f\"X_train shape: {X_train.shape}\")\n",
    "print(f\"X_test shape: {X_test.shape}\")\n",
    "print(f\"y_train shape: {y_train.shape}\")\n",
    "print(f\"y_test shape: {y_test.shape}\")"
   ]
  },
  {
   "cell_type": "markdown",
   "metadata": {},
   "source": [
    "El conjunto de datos se realizó correctamente, y los tamaños de X_train, X_test, y_train, y y_test reflejan la proporción de 80/20 que se busca."
   ]
  },
  {
   "cell_type": "markdown",
   "metadata": {},
   "source": [
    "### Análisis y Modelado de Datos para la Detección de Diabetes"
   ]
  },
  {
   "cell_type": "markdown",
   "metadata": {},
   "source": [
    "### 1. Visualizar los datos"
   ]
  },
  {
   "cell_type": "code",
   "execution_count": 46,
   "metadata": {},
   "outputs": [
    {
     "data": {
      "image/png": "[encoded data removed]",
      "text/plain": [
       "<Figure size 640x480 with 1 Axes>"
      ]
     },
     "metadata": {},
     "output_type": "display_data"
    }
   ],
   "source": [
    "# Asumiendo que X es el DataFrame que contiene las características independientes\n",
    "# y que y es la Serie de pandas con la variable dependiente (etiqueta)\n",
    "\n",
    "from matplotlib import pyplot\n",
    "\n",
    "# Vamos a seleccionar dos características que podrían ser significativas.\n",
    "\n",
    "feature_1 = 'BMI'\n",
    "feature_2 = 'Age'  \n",
    "\n",
    "def plotData(X, y, feature_1, feature_2):\n",
    "    # Crea una nueva figura\n",
    "    fig = pyplot.figure()\n",
    "\n",
    "    # Encuentra índices de ejemplos positivos y negativos\n",
    "    pos = y == 1\n",
    "    neg = y == 0\n",
    "\n",
    "    # Grafica ejemplos utilizando 'loc' para indexar con una máscara booleana\n",
    "    pyplot.scatter(X.loc[pos, feature_1], X.loc[pos, feature_2], c='black', marker='*', s=50)\n",
    "    pyplot.scatter(X.loc[neg, feature_1], X.loc[neg, feature_2], c='yellow', marker='o', s=50, edgecolor='black')\n",
    "\n",
    "    # Añade etiquetas y leyenda\n",
    "    pyplot.xlabel(feature_1)\n",
    "    pyplot.ylabel(feature_2)\n",
    "    pyplot.legend(['Positivo (1)', 'Negativo (0)'])\n",
    "\n",
    "# Llamando a la función implementada con los datos\n",
    "plotData(X, y, feature_1, feature_2)"
   ]
  },
  {
   "cell_type": "markdown",
   "metadata": {},
   "source": [
    "#### Implementación de la Función Sigmoidea\n"
   ]
  },
  {
   "cell_type": "markdown",
   "metadata": {},
   "source": [
    "La función sigmoidea es esencial en la regresión logística, ya que transforma los valores de entrada en probabilidades entre 0 y 1."
   ]
  },
  {
   "cell_type": "code",
   "execution_count": 47,
   "metadata": {},
   "outputs": [],
   "source": [
    "import numpy as np\n",
    "\n",
    "# Función Sigmoidea\n",
    "def sigmoid(z):\n",
    "    # Calcula la sigmoide de una entrada z\n",
    "    # convierte la intrada a un arreglo numpy\n",
    "    z = np.array(z)\n",
    "\n",
    "    g = np.zeros(z.shape)\n",
    "\n",
    "    g = 1 / (1 + np.exp(-z))\n",
    "\n",
    "    return g"
   ]
  },
  {
   "cell_type": "markdown",
   "metadata": {},
   "source": [
    "Se calcula el valor de la sigmoide aplicando la funcion sigmoid con `z=0`, se debe obtener un resultado de 0.5. Se recomienda experimentar con otros valores de `z`."
   ]
  },
  {
   "cell_type": "markdown",
   "metadata": {},
   "source": [
    "#### Prueba de la función"
   ]
  },
  {
   "cell_type": "code",
   "execution_count": 48,
   "metadata": {},
   "outputs": [
    {
     "name": "stdout",
     "output_type": "stream",
     "text": [
      "g( [0, 0.5, 1] ) =  [0.5        0.62245933 0.73105858]\n"
     ]
    }
   ],
   "source": [
    "# Prueba la implementacion de la funcion sigmoide\n",
    "z = [0, 0.5, 1]\n",
    "g = sigmoid(z)\n",
    "\n",
    "print('g(', z, ') = ', g)"
   ]
  },
  {
   "cell_type": "markdown",
   "metadata": {},
   "source": [
    "### 1.2.2 Función de Costo y Gradiente"
   ]
  },
  {
   "cell_type": "markdown",
   "metadata": {},
   "source": [
    "La función de costo y el descenso de gradiente son partes clave del aprendizaje del modelo. La función de costo calcula el error del modelo, y el descenso de gradiente ajusta los parámetros theta para minimizar este error."
   ]
  },
  {
   "cell_type": "code",
   "execution_count": 49,
   "metadata": {},
   "outputs": [],
   "source": [
    "# Agregar un término de intercepción a X_train\n",
    "m, n = X_train.shape\n",
    "\n",
    "X_train_with_intercept = np.concatenate([np.ones((m, 1)), X_train], axis=1)"
   ]
  },
  {
   "cell_type": "code",
   "execution_count": 50,
   "metadata": {},
   "outputs": [],
   "source": [
    "def calcularCosto(theta, X, y):\n",
    "    m = y.size  # numero de ejemplos de entrenamiento\n",
    "    #h = sigmoid(X.dot(theta.T))\n",
    "    #No debemos usar .T ya que estamos trabajando con un array 1D\n",
    "    h = sigmoid(X.dot(theta.T))\n",
    "\n",
    "    J = (1 / m) * np.sum(-y.dot(np.log(h)) - (1 - y).dot(np.log(1 - h)))\n",
    "\n",
    "    return J"
   ]
  },
  {
   "cell_type": "code",
   "execution_count": 51,
   "metadata": {},
   "outputs": [],
   "source": [
    "def descensoGradiente(theta, X, y, alpha, num_iters):\n",
    "    # Inicializa algunos valores\n",
    "    m = y.shape[0] # numero de ejemplos de entrenamiento\n",
    "\n",
    "    # realiza una copia de theta, el cual será acutalizada por el descenso por el gradiente\n",
    "    theta = theta.copy()\n",
    "    J_history = []\n",
    "\n",
    "    for i in range(num_iters):\n",
    "        #h = sigmoid(X.dot(theta.T))\n",
    "        h = sigmoid(X.dot(theta.T))\n",
    "\n",
    "        theta = theta - (alpha / m) * (h - y).dot(X)\n",
    "\n",
    "        J_history.append(calcularCosto(theta, X, y))\n",
    "    return theta, J_history"
   ]
  },
  {
   "cell_type": "markdown",
   "metadata": {},
   "source": [
    "#### Entrenamiento del Modelo y Visualización de la Convergencia"
   ]
  },
  {
   "cell_type": "code",
   "execution_count": 52,
   "metadata": {},
   "outputs": [
    {
     "name": "stdout",
     "output_type": "stream",
     "text": [
      "theta calculado por el descenso por el gradiente: [-3.94355997e-02  5.46456188e+00  1.98887525e-01  1.49998001e-01\n",
      "  1.05533964e-01  2.35704215e-01 -2.00497700e-03  1.32451544e-02\n",
      "  4.24539804e-02 -8.51749805e-03 -1.35796728e-02 -1.96823257e-02\n",
      " -7.70926287e-02  3.33171355e-03  2.05035605e-03  3.20459031e-01\n",
      " -2.05979357e-02 -3.38648004e-02  3.01276207e-02  6.83882161e-02\n",
      "  2.14125241e-01 -1.65556037e-02 -6.41408881e-02]\n"
     ]
    },
    {
     "data": {
      "image/png": "[encoded data removed]",
      "text/plain": [
       "<Figure size 640x480 with 1 Axes>"
      ]
     },
     "metadata": {},
     "output_type": "display_data"
    }
   ],
   "source": [
    "# Elegir algun valor para alpha (probar varias alternativas)\n",
    "alpha = 0.01\n",
    "num_iters = 30000\n",
    "\n",
    "# inicializa theta y ejecuta el descenso por el gradiente\n",
    "initial_theta = np.zeros(n + 1)  # n es el número de características, agregamos 1 por el término de intercepción\n",
    "theta, J_history = descensoGradiente(initial_theta, X_train_with_intercept, y_train, alpha, num_iters)\n",
    "\n",
    "# Grafica la convergencia del costo\n",
    "pyplot.plot(np.arange(len(J_history)), J_history, lw=2)\n",
    "pyplot.xlabel('Numero de iteraciones')\n",
    "pyplot.ylabel('Costo J')\n",
    "\n",
    "# Muestra los resultados del descenso por el gradiente\n",
    "print('theta calculado por el descenso por el gradiente: {:s}'.format(str(theta)))"
   ]
  },
  {
   "cell_type": "markdown",
   "metadata": {},
   "source": [
    "El gráfico de la función de costo muestra una rápida convergencia hacia un valor bajo de costo y se estabiliza, lo que indica que el modelo está aprendiendo adecuadamente."
   ]
  },
  {
   "cell_type": "markdown",
   "metadata": {},
   "source": [
    "#### Agregaumos un térimo de intercepación a X_test. "
   ]
  },
  {
   "cell_type": "code",
   "execution_count": 53,
   "metadata": {},
   "outputs": [
    {
     "name": "stdout",
     "output_type": "stream",
     "text": [
      "       Diabetes_binary    HighBP  HighChol  CholCheck       BMI    Smoker  \\\n",
      "44967              1.0 -1.136104  0.949850   0.159276 -0.963885  1.050740   \n",
      "20220             -1.0 -1.136104 -1.052798   0.159276  0.441813  1.050740   \n",
      "23944             -1.0  0.880201  0.949850   0.159276 -0.401606  1.050740   \n",
      "2707              -1.0 -1.136104  0.949850   0.159276 -0.120466  1.050740   \n",
      "42356              1.0  0.880201 -1.052798   0.159276  2.409790 -0.951711   \n",
      "...                ...       ...       ...        ...       ...       ...   \n",
      "59313              1.0  0.880201 -1.052798   0.159276 -1.385594 -0.951711   \n",
      "44805              1.0  0.880201  0.949850   0.159276 -0.401606 -0.951711   \n",
      "30661             -1.0 -1.136104 -1.052798   0.159276 -0.261036 -0.951711   \n",
      "30295             -1.0  0.880201  0.949850   0.159276 -1.526164 -0.951711   \n",
      "30199             -1.0 -1.136104  0.949850   0.159276  0.160673  1.050740   \n",
      "\n",
      "         Stroke  HeartDiseaseorAttack  PhysActivity    Fruits  ...  \\\n",
      "44967 -0.257473             -0.416470      0.649925 -1.255371  ...   \n",
      "20220 -0.257473             -0.416470     -1.538638  0.796577  ...   \n",
      "23944 -0.257473             -0.416470      0.649925  0.796577  ...   \n",
      "2707  -0.257473             -0.416470     -1.538638  0.796577  ...   \n",
      "42356 -0.257473             -0.416470      0.649925  0.796577  ...   \n",
      "...         ...                   ...           ...       ...  ...   \n",
      "59313  3.883895             -0.416470      0.649925  0.796577  ...   \n",
      "44805 -0.257473             -0.416470     -1.538638  0.796577  ...   \n",
      "30661 -0.257473             -0.416470     -1.538638  0.796577  ...   \n",
      "30295 -0.257473             -0.416470      0.649925  0.796577  ...   \n",
      "30199 -0.257473              2.401131     -1.538638 -1.255371  ...   \n",
      "\n",
      "       AnyHealthcare  NoDocbcCost   GenHlth  MentHlth  PhysHlth  DiffWalk  \\\n",
      "44967       0.217175    -0.321945  1.044328 -0.460058 -0.577451 -0.581554   \n",
      "20220       0.217175    -0.321945  0.146304 -0.460058 -0.279305  1.719532   \n",
      "23944       0.217175    -0.321945 -0.751719 -0.460058 -0.080541 -0.581554   \n",
      "2707        0.217175    -0.321945  0.146304 -0.460058 -0.080541 -0.581554   \n",
      "42356       0.217175    -0.321945  1.044328  3.218410  0.416369  1.719532   \n",
      "...              ...          ...       ...       ...       ...       ...   \n",
      "59313       0.217175    -0.321945 -0.751719 -0.460058 -0.577451 -0.581554   \n",
      "44805       0.217175    -0.321945 -0.751719 -0.460058  0.714515 -0.581554   \n",
      "30661       0.217175    -0.321945  0.146304 -0.460058 -0.577451  1.719532   \n",
      "30295       0.217175    -0.321945 -0.751719 -0.460058 -0.577451 -0.581554   \n",
      "30199       0.217175    -0.321945  1.044328  0.766098  1.410188  1.719532   \n",
      "\n",
      "            Sex       Age  Education    Income  \n",
      "44967 -0.917392  0.496451  -0.894934 -0.321036  \n",
      "20220 -0.917392  1.548296   0.076814 -0.780768  \n",
      "23944  1.090046 -0.204778   1.048562  0.138696  \n",
      "2707   1.090046 -0.555393   0.076814  1.058160  \n",
      "42356  1.090046 -0.906008   1.048562 -1.240500  \n",
      "...         ...       ...        ...       ...  \n",
      "59313 -0.917392  1.548296   0.076814 -1.240500  \n",
      "44805 -0.917392  0.847066   0.076814 -0.321036  \n",
      "30661  1.090046 -0.204778  -0.894934  0.138696  \n",
      "30295 -0.917392  1.548296  -0.894934 -0.321036  \n",
      "30199  1.090046  0.145837  -0.894934  0.138696  \n",
      "\n",
      "[14139 rows x 22 columns]\n",
      "44967    1.0\n",
      "20220    0.0\n",
      "23944    0.0\n",
      "2707     0.0\n",
      "42356    1.0\n",
      "        ... \n",
      "59313    1.0\n",
      "44805    1.0\n",
      "30661    0.0\n",
      "30295    0.0\n",
      "30199    0.0\n",
      "Name: Diabetes_binary, Length: 14139, dtype: float64\n"
     ]
    }
   ],
   "source": [
    "# Agregar un término de intercepción a X_test (este debe ser el X_test escalado anteriormente)\n",
    "X_test_with_intercept = np.concatenate([np.ones((X_test.shape[0], 1)), X_test], axis=1)\n",
    "\n",
    "print(X_test)\n",
    "print(y_test)"
   ]
  },
  {
   "cell_type": "markdown",
   "metadata": {},
   "source": [
    "#### Realizar las predicciones con el modelo entrenado"
   ]
  },
  {
   "cell_type": "code",
   "execution_count": 77,
   "metadata": {},
   "outputs": [],
   "source": [
    "probabilidades = sigmoid(np.dot(X_test_with_intercept, theta))\n",
    "# Umbral de 0.001\n",
    "predicciones = probabilidades >= 0.001"
   ]
  },
  {
   "cell_type": "markdown",
   "metadata": {},
   "source": [
    "#### Evaluación del modelo:"
   ]
  },
  {
   "cell_type": "code",
   "execution_count": 78,
   "metadata": {},
   "outputs": [
    {
     "name": "stdout",
     "output_type": "stream",
     "text": [
      "Precisión en el conjunto de prueba: 53.78%\n"
     ]
    }
   ],
   "source": [
    "# Calcular la precisión\n",
    "precision = np.mean(predicciones == y_test)\n",
    "print(f'Precisión en el conjunto de prueba: {precision * 100:.2f}%')"
   ]
  },
  {
   "cell_type": "code",
   "execution_count": 80,
   "metadata": {},
   "outputs": [
    {
     "name": "stdout",
     "output_type": "stream",
     "text": [
      "Precisión con Scikit-learn: 100.00%\n"
     ]
    }
   ],
   "source": [
    "from sklearn.linear_model import LogisticRegression\n",
    "from sklearn.metrics import accuracy_score\n",
    "\n",
    "# Entrenar un modelo con Scikit-learn\n",
    "model = LogisticRegression(solver='lbfgs', max_iter=300)\n",
    "model.fit(X_train, y_train)\n",
    "\n",
    "# Calcular la precisión\n",
    "precision_sklearn = accuracy_score(y_test, predicciones)\n",
    "print(f'Precisión con Scikit-learn: {precision_sklearn * 100:.2f}%')"
   ]
  }
 ],
 "metadata": {
  "kernelspec": {
   "display_name": "Python 3",
   "language": "python",
   "name": "python3"
  },
  "language_info": {
   "codemirror_mode": {
    "name": "ipython",
    "version": 3
   },
   "file_extension": ".py",
   "mimetype": "text/x-python",
   "name": "python",
   "nbconvert_exporter": "python",
   "pygments_lexer": "ipython3",
   "version": "3.11.8"
  }
 },
 "nbformat": 4,
 "nbformat_minor": 2
}
