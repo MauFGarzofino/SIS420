{
 "cells": [
  {
   "cell_type": "code",
   "execution_count": 49,
   "metadata": {},
   "outputs": [
    {
     "name": "stdout",
     "output_type": "stream",
     "text": [
      "número de decimales ajustado a dos decimales.\n"
     ]
    }
   ],
   "source": [
    "import numpy as np # linear algebra\n",
    "import pandas as pd # data processing, CSV file I/O \n",
    "\n",
    "import os\n",
    "\n",
    "for dirname, _, filenames in os.walk('/kaggle/input'):\n",
    "    for filename in filenames:\n",
    "        print(os.path.join(dirname, filename))\n",
    "\n",
    "#como hay varias variables que son float, vamos a ajustar a 2 el número de decimales que se muestran por defecto\n",
    "pd.set_option('display.float_format', lambda x: '%.2f' % x)\n",
    "print('número de decimales ajustado a dos decimales.')"
   ]
  },
  {
   "cell_type": "markdown",
   "metadata": {},
   "source": [
    "### DATA"
   ]
  },
  {
   "cell_type": "code",
   "execution_count": 50,
   "metadata": {},
   "outputs": [],
   "source": [
    "# Importo los datos con una funcion de pandas que es read_csv.\n",
    "# el archivo está dentro de input, y dentro de input, en banco.\n",
    "# header = 0 es el valor por defecto, y significa que la primera fila, \n",
    "# que es la fila 0, es la que contiene los encabecados.\n",
    "data = pd.read_csv('bank-full.csv', delimiter=\";\")"
   ]
  },
  {
   "cell_type": "code",
   "execution_count": 51,
   "metadata": {},
   "outputs": [
    {
     "name": "stdout",
     "output_type": "stream",
     "text": [
      "El conjunto de datos tiene 17 columnas y 45211 filas\n"
     ]
    }
   ],
   "source": [
    "#la funcion .shape nos informa del número de filas y de columnas\n",
    "data_n_filas = data.shape[0]\n",
    "data_n_columnas = data.shape[1]\n",
    "print('El conjunto de datos tiene',data_n_columnas, 'columnas y',data_n_filas,'filas' )\n"
   ]
  },
  {
   "cell_type": "code",
   "execution_count": 52,
   "metadata": {},
   "outputs": [
    {
     "name": "stdout",
     "output_type": "stream",
     "text": [
      "El conjunto de datos depurado tiene -45194 columnas menos y 45194 filas\n"
     ]
    }
   ],
   "source": [
    "#vamos a ver cuantos valores perdidos hay\n",
    "# aprovecho para sacar una copia de los datos, para evitar tampering.\n",
    "data2=data.dropna()\n",
    "data2_n_columnas = data.shape[0]\n",
    "data2_n_filas = data.shape[1]\n",
    "print('El conjunto de datos depurado tiene',data_n_columnas-data2_n_columnas, 'columnas menos y',data_n_filas -data2_n_filas,'filas' )"
   ]
  },
  {
   "cell_type": "code",
   "execution_count": 53,
   "metadata": {},
   "outputs": [
    {
     "name": "stdout",
     "output_type": "stream",
     "text": [
      "['age', 'job', 'marital', 'education', 'default', 'balance', 'housing', 'loan', 'contact', 'day', 'month', 'duration', 'campaign', 'pdays', 'previous', 'poutcome', 'y']\n"
     ]
    }
   ],
   "source": [
    "# vamos a analizar las variables independientes:\n",
    "print(list(data2.columns))"
   ]
  },
  {
   "cell_type": "code",
   "execution_count": 54,
   "metadata": {},
   "outputs": [],
   "source": [
    "def analiza(columna, dataset):\n",
    "    #primero me va a informar de los datos nulos de la columna estudiada\n",
    "    # isnull() nos dice si hay valores perdidos. Devuelve True o False\n",
    "    # sum() nos da la suma de determinados valores.\n",
    "    print('Esta columna tiene:',dataset[columna].isnull().sum(),'datos nulos')\n",
    "    print('+++++')\n",
    "\n",
    "        # luego me va a dar unos datos exploratorios.\n",
    "    print(dataset[columna].describe())\n",
    "    print('+++++')\n",
    "    \n",
    "    # y por ultimo, quiero que me diga las categorias\n",
    "    #print(pd.value_counts(dataset[columna]))\n",
    "    print(pd.unique(dataset[columna]))"
   ]
  },
  {
   "cell_type": "code",
   "execution_count": 55,
   "metadata": {},
   "outputs": [
    {
     "name": "stdout",
     "output_type": "stream",
     "text": [
      "Esta columna tiene: 0 datos nulos\n",
      "+++++\n",
      "count   45211.00\n",
      "mean       40.94\n",
      "std        10.62\n",
      "min        18.00\n",
      "25%        33.00\n",
      "50%        39.00\n",
      "75%        48.00\n",
      "max        95.00\n",
      "Name: age, dtype: float64\n",
      "+++++\n",
      "[58 44 33 47 35 28 42 43 41 29 53 57 51 45 60 56 32 25 40 39 52 46 36 49\n",
      " 59 37 50 54 55 48 24 38 31 30 27 34 23 26 61 22 21 20 66 62 83 75 67 70\n",
      " 65 68 64 69 72 71 19 76 85 63 90 82 73 74 78 80 94 79 77 86 95 81 18 89\n",
      " 84 87 92 93 88]\n"
     ]
    }
   ],
   "source": [
    "analiza('age',data2)"
   ]
  },
  {
   "cell_type": "code",
   "execution_count": 56,
   "metadata": {},
   "outputs": [
    {
     "name": "stdout",
     "output_type": "stream",
     "text": [
      "Esta columna tiene: 0 datos nulos\n",
      "+++++\n",
      "count           45211\n",
      "unique             12\n",
      "top       blue-collar\n",
      "freq             9732\n",
      "Name: job, dtype: object\n",
      "+++++\n",
      "['management' 'technician' 'entrepreneur' 'blue-collar' 'unknown'\n",
      " 'retired' 'admin.' 'services' 'self-employed' 'unemployed' 'housemaid'\n",
      " 'student']\n"
     ]
    }
   ],
   "source": [
    "analiza('job',data2)\n",
    "\n",
    "# job es una variable categorica con que separa los tipos de trabajos en 12 valores distintos."
   ]
  },
  {
   "cell_type": "code",
   "execution_count": 57,
   "metadata": {},
   "outputs": [
    {
     "name": "stdout",
     "output_type": "stream",
     "text": [
      "Esta columna tiene: 0 datos nulos\n",
      "+++++\n",
      "count       45211\n",
      "unique          3\n",
      "top       married\n",
      "freq        27214\n",
      "Name: marital, dtype: object\n",
      "+++++\n",
      "['married' 'single' 'divorced']\n"
     ]
    }
   ],
   "source": [
    "analiza('marital',data2)"
   ]
  },
  {
   "cell_type": "code",
   "execution_count": 58,
   "metadata": {},
   "outputs": [
    {
     "name": "stdout",
     "output_type": "stream",
     "text": [
      "Esta columna tiene: 0 datos nulos\n",
      "+++++\n",
      "count         45211\n",
      "unique            4\n",
      "top       secondary\n",
      "freq          23202\n",
      "Name: education, dtype: object\n",
      "+++++\n",
      "['tertiary' 'secondary' 'unknown' 'primary']\n"
     ]
    }
   ],
   "source": [
    "analiza('education',data2)"
   ]
  },
  {
   "cell_type": "code",
   "execution_count": 59,
   "metadata": {},
   "outputs": [
    {
     "name": "stdout",
     "output_type": "stream",
     "text": [
      "Esta columna tiene: 0 datos nulos\n",
      "+++++\n",
      "count     45211\n",
      "unique        2\n",
      "top          no\n",
      "freq      44396\n",
      "Name: default, dtype: object\n",
      "+++++\n",
      "['no' 'yes']\n"
     ]
    }
   ],
   "source": [
    "analiza('default',data2)\n",
    "\n",
    "# default es si el encuestado ha tenido algún aviso de impago.\n"
   ]
  },
  {
   "cell_type": "code",
   "execution_count": 60,
   "metadata": {},
   "outputs": [
    {
     "name": "stdout",
     "output_type": "stream",
     "text": [
      "Esta columna tiene: 0 datos nulos\n",
      "+++++\n",
      "count     45211\n",
      "unique        2\n",
      "top         yes\n",
      "freq      25130\n",
      "Name: housing, dtype: object\n",
      "+++++\n",
      "['yes' 'no']\n"
     ]
    }
   ],
   "source": [
    "analiza('housing',data2)\n",
    "\n",
    "# housing indica si el encuestado tiene vivienda en propiedad"
   ]
  },
  {
   "cell_type": "code",
   "execution_count": 74,
   "metadata": {},
   "outputs": [
    {
     "name": "stdout",
     "output_type": "stream",
     "text": [
      "Esta columna tiene: 0 datos nulos\n",
      "+++++\n",
      "count   45211.00\n",
      "mean      258.16\n",
      "std       257.53\n",
      "min         0.00\n",
      "25%       103.00\n",
      "50%       180.00\n",
      "75%       319.00\n",
      "max      4918.00\n",
      "Name: duration, dtype: float64\n",
      "+++++\n",
      "[ 261  151   76 ... 1298 1246 1556]\n"
     ]
    }
   ],
   "source": [
    "analiza('duration',data2)\n"
   ]
  },
  {
   "cell_type": "markdown",
   "metadata": {},
   "source": [
    "Duracion de la llamada, en segundos.\n",
    "Este es un dato peculiar:\n",
    "\n",
    "si la llamada es dura 0 segundo, el resultado es No siempre.\n",
    "La duracion de la llamada no se puede saber antes de hacerla, de modo que no se puede usar como predictor de exito. Por tanto, no se debería incluir si lo que se pretende es tener un modelo predictivo realista."
   ]
  },
  {
   "cell_type": "markdown",
   "metadata": {},
   "source": [
    "### Preparación de Variables"
   ]
  },
  {
   "cell_type": "code",
   "execution_count": 75,
   "metadata": {},
   "outputs": [
    {
     "data": {
      "text/plain": [
       "y\n",
       "no     39922\n",
       "yes     5289\n",
       "Name: count, dtype: int64"
      ]
     },
     "execution_count": 75,
     "metadata": {},
     "output_type": "execute_result"
    }
   ],
   "source": [
    "# Explicación de dato\n",
    "\n",
    "# a ver cuanta gente se suscribió a ese producto\n",
    "data2['y'].value_counts()"
   ]
  },
  {
   "cell_type": "code",
   "execution_count": 76,
   "metadata": {},
   "outputs": [],
   "source": [
    "# vamos a verlo en un gráfico\n",
    "import matplotlib.pyplot as plt\n",
    "plt.rc('font', size=14)\n",
    "\n",
    "import seaborn as sns\n",
    "\n",
    "# configuro colores\n",
    "sns.set(style='white')\n",
    "sns.set(style='whitegrid', color_codes=True)"
   ]
  },
  {
   "cell_type": "code",
   "execution_count": 77,
   "metadata": {},
   "outputs": [
    {
     "name": "stderr",
     "output_type": "stream",
     "text": [
      "C:\\Users\\mauri\\AppData\\Local\\Temp\\ipykernel_16836\\57204215.py:1: FutureWarning: \n",
      "\n",
      "Passing `palette` without assigning `hue` is deprecated and will be removed in v0.14.0. Assign the `x` variable to `hue` and set `legend=False` for the same effect.\n",
      "\n",
      "  sns.countplot(x='y',\n"
     ]
    },
    {
     "data": {
      "image/png": "[encoded data removed]",
      "text/plain": [
       "<Figure size 640x480 with 1 Axes>"
      ]
     },
     "metadata": {},
     "output_type": "display_data"
    }
   ],
   "source": [
    "sns.countplot(x='y', \n",
    "             data = data2,\n",
    "             palette='hls')\n",
    "plt.show\n",
    "plt.savefig('count_plot')"
   ]
  },
  {
   "cell_type": "markdown",
   "metadata": {},
   "source": [
    "Claramente, la muestra está desequilibrada: hay mucha más gente que no se suscribió, lo cual es un problema de cara a entrenar el modelo."
   ]
  },
  {
   "cell_type": "code",
   "execution_count": 80,
   "metadata": {},
   "outputs": [
    {
     "name": "stdout",
     "output_type": "stream",
     "text": [
      "      age  balance   day  duration  campaign  pdays  previous\n",
      "y                                                            \n",
      "no  40.84  1303.71 15.89    221.18      2.85  36.42      0.50\n",
      "yes 41.67  1804.27 15.16    537.29      2.14  68.70      1.17\n"
     ]
    }
   ],
   "source": [
    "# Seleccionamos solo las columnas numéricas del DataFrame.\n",
    "numeric_cols = data2.select_dtypes(include=[np.number])\n",
    "\n",
    "\n",
    "# Ahora realizamos el groupby y calculamos la media solo para esas columnas numéricas.\n",
    "means_by_y = numeric_cols.groupby(data2['y']).mean()\n",
    "\n",
    "print(means_by_y)"
   ]
  },
  {
   "cell_type": "code",
   "execution_count": 82,
   "metadata": {},
   "outputs": [
    {
     "data": {
      "image/png": "[encoded data removed]",
      "text/plain": [
       "<Figure size 640x480 with 1 Axes>"
      ]
     },
     "metadata": {},
     "output_type": "display_data"
    }
   ],
   "source": [
    "tabla_cruzada_job = pd.crosstab(data2.job,data2.y)\n",
    "\n",
    "# a ver, esto es nuevo.\n",
    "# Matplotlib Inline command is a magic command that makes \n",
    "#the plots generated by matplotlib show into the IPython shell \n",
    "#that we are running and not in a separate output window.\n",
    "%matplotlib inline\n",
    "\n",
    "#esto tambien es interesante: pide una tabla cruzada,\n",
    "#y le pone .plot detras, y entre parentesis, el tipo de plot\n",
    "tabla_cruzada_job.plot(kind='bar')\n",
    "\n",
    "plt.title('Purchase Frequency for Job Title')\n",
    "plt.xlabel('Job')\n",
    "plt.ylabel('Frequency of Purchase')\n",
    "plt.savefig('purchase_fre_job')"
   ]
  }
 ],
 "metadata": {
  "kernelspec": {
   "display_name": "Python 3",
   "language": "python",
   "name": "python3"
  },
  "language_info": {
   "codemirror_mode": {
    "name": "ipython",
    "version": 3
   },
   "file_extension": ".py",
   "mimetype": "text/x-python",
   "name": "python",
   "nbconvert_exporter": "python",
   "pygments_lexer": "ipython3",
   "version": "3.11.5"
  }
 },
 "nbformat": 4,
 "nbformat_minor": 2
}
