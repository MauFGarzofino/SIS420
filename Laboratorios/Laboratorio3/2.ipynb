{
 "cells": [
  {
   "cell_type": "code",
   "execution_count": 4,
   "metadata": {},
   "outputs": [],
   "source": [
    "import os\n",
    "import numpy as np\n",
    "import pandas as pd\n",
    "from matplotlib import pyplot as plt\n",
    "from matplotlib.image import imread\n",
    "from skimage.transform import resize"
   ]
  },
  {
   "cell_type": "code",
   "execution_count": 5,
   "metadata": {},
   "outputs": [],
   "source": [
    "def load_images_and_labels(image_folder, metadata_path, target_size=(20, 20)):\n",
    "    metadata = pd.read_csv(metadata_path)\n",
    "    images = []\n",
    "    labels = metadata['Type1'].values  \n",
    "\n",
    "    for image_name in metadata['Name']:\n",
    "        image_path = os.path.join(image_folder, image_name + '.png')  # Asegúrate de que el formato coincide\n",
    "        image = imread(image_path)\n",
    "        image_gray = np.dot(image[...,:3], [0.2989, 0.5870, 0.1140])  \n",
    "        image_resized = resize(image_gray, target_size, anti_aliasing=True).flatten() \n",
    "        images.append(image_resized)\n",
    "\n",
    "    return np.array(images), labels"
   ]
  },
  {
   "cell_type": "code",
   "execution_count": 6,
   "metadata": {},
   "outputs": [
    {
     "ename": "NameError",
     "evalue": "name 'labels' is not defined",
     "output_type": "error",
     "traceback": [
      "\u001b[1;31m---------------------------------------------------------------------------\u001b[0m",
      "\u001b[1;31mNameError\u001b[0m                                 Traceback (most recent call last)",
      "Cell \u001b[1;32mIn[6], line 5\u001b[0m\n\u001b[0;32m      3\u001b[0m \u001b[38;5;66;03m# Suponiendo que 'labels' contiene tus etiquetas de Type1\u001b[39;00m\n\u001b[0;32m      4\u001b[0m encoder \u001b[38;5;241m=\u001b[39m LabelEncoder()\n\u001b[1;32m----> 5\u001b[0m y_encoded \u001b[38;5;241m=\u001b[39m encoder\u001b[38;5;241m.\u001b[39mfit_transform(\u001b[43mlabels\u001b[49m)\n",
      "\u001b[1;31mNameError\u001b[0m: name 'labels' is not defined"
     ]
    }
   ],
   "source": [
    "from sklearn.preprocessing import LabelEncoder\n",
    "\n",
    "# Suponiendo que 'labels' contiene tus etiquetas de Type1\n",
    "encoder = LabelEncoder()\n",
    "y_encoded = encoder.fit_transform(labels)"
   ]
  }
 ],
 "metadata": {
  "kernelspec": {
   "display_name": "Python 3",
   "language": "python",
   "name": "python3"
  },
  "language_info": {
   "codemirror_mode": {
    "name": "ipython",
    "version": 3
   },
   "file_extension": ".py",
   "mimetype": "text/x-python",
   "name": "python",
   "nbconvert_exporter": "python",
   "pygments_lexer": "ipython3",
   "version": "3.11.8"
  }
 },
 "nbformat": 4,
 "nbformat_minor": 2
}
